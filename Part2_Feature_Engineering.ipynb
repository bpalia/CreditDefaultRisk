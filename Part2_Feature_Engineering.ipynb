{
 "cells": [
  {
   "cell_type": "markdown",
   "metadata": {},
   "source": [
    "# Credit Default Risk Prediction\n",
    "# Part 2. Feature Engineering"
   ]
  },
  {
   "cell_type": "markdown",
   "metadata": {},
   "source": [
    "**Table of Contents**<a id='toc0_'></a>    \n",
    "- 1. [Introduction   ](#toc1_)    \n",
    "- 2. [Notebook preparation   ](#toc2_)    \n",
    "- 3. [Feature Engineering   ](#toc3_)    \n",
    "  - 3.1. [Main Home Credit Applications   ](#toc3_1_)    \n",
    "  - 3.2. [Previous Credits and Their Balance from Other Institutions ](#toc3_2_)    \n",
    "  - 3.3. [Previous Applications for Home Credit Loans ](#toc3_3_)    \n",
    "  - 3.4. [Balance of Previous Point of Sales and Cash Loans from Home Credit ](#toc3_4_)    \n",
    "  - 3.5. [Balance of Previous Credit Cards from Home Credit ](#toc3_5_)    \n",
    "  - 3.6. [Installments on Previous Loans from Home Credit ](#toc3_6_)    \n",
    "  - 3.7. [Summary on Feature Engineering](#toc3_7_)    \n",
    "\n",
    "<!-- vscode-jupyter-toc-config\n",
    "\tnumbering=true\n",
    "\tanchor=true\n",
    "\tflat=false\n",
    "\tminLevel=2\n",
    "\tmaxLevel=6\n",
    "\t/vscode-jupyter-toc-config -->\n",
    "<!-- THIS CELL WILL BE REPLACED ON TOC UPDATE. DO NOT WRITE YOUR TEXT IN THIS CELL -->"
   ]
  },
  {
   "cell_type": "markdown",
   "metadata": {},
   "source": [
    "Note that the links in the above table of contents do not work on GitHub or Google Colab. In Google Colab, please use its embedded table of contents."
   ]
  },
  {
   "cell_type": "markdown",
   "metadata": {},
   "source": [
    "## 1. <a id='toc1_'></a>Introduction    [&#8593;](#toc0_)"
   ]
  },
  {
   "cell_type": "markdown",
   "metadata": {},
   "source": [
    "This notebook is dedicated to feature engineering for the credit default risk prediction model. The focus is on enhancing the predictive capabilities of the model through informed feature engineering. It involves refining the dataset to capture underlying relationships and patterns crucial for predicting credit default risk. To begin, the challenge of disparate currencies within the dataset is addressed by transforming absolute monetary values into ratios. This ensures consistency and comparability across different currency denominations, facilitating more accurate modeling. Drawing upon insights from the experiences of predecessors tackling similar tasks, a feature aimed at identifying the mean target behavior of comparable applicants is created. Additionally, various aggregations are applied across all data tables, with diverse-span windows employed to get meaningful insights and uncover predictive patterns. "
   ]
  },
  {
   "cell_type": "markdown",
   "metadata": {},
   "source": [
    "## 2. <a id='toc2_'></a>Notebook preparation    [&#8593;](#toc0_)"
   ]
  },
  {
   "cell_type": "markdown",
   "metadata": {},
   "source": [
    "Import libraries for data wrangling."
   ]
  },
  {
   "cell_type": "code",
   "execution_count": 1,
   "metadata": {},
   "outputs": [],
   "source": [
    "import pandas as pd\n",
    "import polars as pl\n",
    "import numpy as np\n",
    "from polars import col as c\n",
    "import polars.selectors as cs\n",
    "from sklearn.pipeline import Pipeline\n",
    "from sklearn.compose import ColumnTransformer, make_column_selector\n",
    "from sklearn.impute import SimpleImputer\n",
    "from sklearn.preprocessing import TargetEncoder, OneHotEncoder\n",
    "from feature_engine.selection import DropFeatures\n",
    "from helper_functions import credit_data_utils\n",
    "from helper_functions.feature_utils import (\n",
    "    ApplicationsFeatureCreation,\n",
    "    NNFeature,\n",
    "    get_drop_multicollinear,\n",
    "    get_drop_by_boruta,\n",
    ")\n",
    "import joblib\n",
    "import warnings\n",
    "\n",
    "warnings.filterwarnings(\"ignore\")"
   ]
  },
  {
   "cell_type": "markdown",
   "metadata": {},
   "source": [
    "## 3. <a id='toc3_'></a>Feature Engineering    [&#8593;](#toc0_)"
   ]
  },
  {
   "cell_type": "markdown",
   "metadata": {},
   "source": [
    "All checking on whether the engineered features should be kept is done on training dataset."
   ]
  },
  {
   "cell_type": "code",
   "execution_count": 2,
   "metadata": {},
   "outputs": [],
   "source": [
    "idx_train = pl.read_csv(\"idx_train.csv\", has_header=False)"
   ]
  },
  {
   "cell_type": "markdown",
   "metadata": {},
   "source": [
    "### 3.1. <a id='toc3_1_'></a>Main Home Credit Applications    [&#8593;](#toc0_)"
   ]
  },
  {
   "cell_type": "markdown",
   "metadata": {},
   "source": [
    "Based on exploratory data analysis only columns related to target and columns selected for feature engineering are loaded from main applications table."
   ]
  },
  {
   "cell_type": "code",
   "execution_count": 3,
   "metadata": {},
   "outputs": [
    {
     "name": "stdout",
     "output_type": "stream",
     "text": [
      "Size before cleaning: 415.89 MB\n",
      "Initial number of columns: 122\n",
      "Size after cleaning: 329.39 MB\n",
      "Number of columns left: 94\n",
      "Size before memory reduction: 178.17 MB\n",
      "Initial data types Counter({Int64: 17, Float64: 12, String: 8, Enum(categories=['0', '1', '2', '3', '4', '5', '6', '7', '8', '9', '10', '11', '12', '13', '14', '15', '16', '17', '18', '19', '20', '21', '22', '23']): 1})\n",
      "Size after memory reduction: 29.30 MB\n",
      "Final data types Counter({Float32: 12, Categorical(ordering='physical'): 8, Int8: 7, Int32: 6, Int16: 4, Enum(categories=['0', '1', '2', '3', '4', '5', '6', '7', '8', '9', '10', '11', '12', '13', '14', '15', '16', '17', '18', '19', '20', '21', '22', '23']): 1})\n"
     ]
    }
   ],
   "source": [
    "columns = [\n",
    "    \"SK_ID_CURR\",\n",
    "    \"TARGET\",\n",
    "    \"NAME_CONTRACT_TYPE\",\n",
    "    \"CODE_GENDER\",\n",
    "    \"AMT_GOODS_PRICE\",\n",
    "    \"NAME_INCOME_TYPE\",\n",
    "    \"NAME_EDUCATION_TYPE\",\n",
    "    \"NAME_FAMILY_STATUS\",\n",
    "    \"NAME_HOUSING_TYPE\",\n",
    "    \"REGION_POPULATION_RELATIVE\",\n",
    "    \"DAYS_BIRTH\",\n",
    "    \"DAYS_EMPLOYED\",\n",
    "    \"DAYS_REGISTRATION\",\n",
    "    \"DAYS_ID_PUBLISH\",\n",
    "    \"OWN_CAR_AGE\",\n",
    "    \"FLAG_WORK_PHONE\",\n",
    "    \"FLAG_PHONE\",\n",
    "    \"OCCUPATION_TYPE\",\n",
    "    \"REGION_RATING_CLIENT_W_CITY\",\n",
    "    \"HOUR_APPR_PROCESS_START\",\n",
    "    \"REG_CITY_NOT_LIVE_CITY\",\n",
    "    \"REG_CITY_NOT_WORK_CITY\",\n",
    "    \"ORGANIZATION_TYPE\",\n",
    "    \"EXT_SOURCE_1\",\n",
    "    \"EXT_SOURCE_2\",\n",
    "    \"EXT_SOURCE_3\",\n",
    "    \"APARTMENTS_AVG\",\n",
    "    \"YEARS_BUILD_AVG\",\n",
    "    \"FLOORSMAX_AVG\",\n",
    "    \"COMMONAREA_AVG\",\n",
    "    \"DEF_60_CNT_SOCIAL_CIRCLE\",\n",
    "    \"DAYS_LAST_PHONE_CHANGE\",\n",
    "    \"FLAG_DOCUMENT_3\",\n",
    "    \"AMT_INCOME_TOTAL\",\n",
    "    \"AMT_ANNUITY\",\n",
    "    \"AMT_CREDIT\",\n",
    "    \"CNT_CHILDREN\",\n",
    "    \"CNT_FAM_MEMBERS\",\n",
    "]\n",
    "appls = (\n",
    "    pl.read_csv(\"./data/application_train.csv\")\n",
    "    .filter(c.SK_ID_CURR.is_in(idx_train))\n",
    "    .pipe(credit_data_utils.initial_application_cleaning)\n",
    "    .select(columns)\n",
    "    .pipe(credit_data_utils.reduce_memory_usage_pl)\n",
    ")\n",
    "appls = appls.with_columns(\n",
    "    CODE_GENDER=pl.when(c.CODE_GENDER == \"M\")\n",
    "    .then(pl.lit(0))\n",
    "    .when(c.CODE_GENDER == \"F\")\n",
    "    .then(pl.lit(1))\n",
    "    .otherwise(pl.lit(None))\n",
    "    .cast(pl.Float32),\n",
    "    DAYS_EMPLOYED=c.DAYS_EMPLOYED.fill_null(0),\n",
    "    OWN_CAR_AGE=c.OWN_CAR_AGE.fill_null(0),\n",
    ")\n",
    "for col in appls.columns:\n",
    "    column = appls[col]\n",
    "    if (\"NAME_\" in col) | (\"_TYPE\" in col) | (\"WALLSMATERIAL_\" in col):\n",
    "        appls = appls.with_columns(column.fill_null(\"XNA\").alias(col))\n",
    "appls_join = {\n",
    "    \"other\": appls.select([\"SK_ID_CURR\", \"TARGET\"]),\n",
    "    \"on\": \"SK_ID_CURR\",\n",
    "    \"how\": \"left\",\n",
    "}\n",
    "appls = appls.to_pandas()\n",
    "X_appls = appls.drop(columns=[\"TARGET\", \"SK_ID_CURR\"])\n",
    "y_appls = appls[\"TARGET\"]\n",
    "del appls"
   ]
  },
  {
   "cell_type": "markdown",
   "metadata": {},
   "source": [
    "Preprocessing contains imputation of missing values and encoding of categorical features. Target (label) encoding is selected for that. Imputation of missing values in numerical columns is important to prevent missing value propagation to engineered features. However, this all need to be set in a pipeline to prevent data leakage."
   ]
  },
  {
   "cell_type": "code",
   "execution_count": 4,
   "metadata": {},
   "outputs": [],
   "source": [
    "appls_preprocess_pipe = ColumnTransformer(\n",
    "    [\n",
    "        (\n",
    "            \"int_imp\",\n",
    "            SimpleImputer(strategy=\"most_frequent\"),\n",
    "            make_column_selector(pattern=\"FLAG_|CODE_|REG_|REGION_RATING_\"),\n",
    "        ),\n",
    "        (\n",
    "            \"cont_imp\",\n",
    "            SimpleImputer(strategy=\"median\"),\n",
    "            make_column_selector(pattern=\"DAYS_|AMT_|CNT_|_AVG|EXT_|_RELATIV\"),\n",
    "        ),\n",
    "        (\n",
    "            \"target_enc\",\n",
    "            TargetEncoder(target_type=\"binary\", random_state=42),\n",
    "            make_column_selector(dtype_include=\"category\"),\n",
    "        ),\n",
    "    ],\n",
    "    remainder=\"passthrough\",\n",
    "    verbose_feature_names_out=False,\n",
    ").set_output(transform=\"pandas\")"
   ]
  },
  {
   "cell_type": "markdown",
   "metadata": {},
   "source": [
    "Custom transformers are created for feature engineering (see `feature_utils.py`in `helper_functions`). It is not possible to engineer features inplace as missing value imputation should be performed in a pipeline, which is only fitted on training data. A special feature is mean of target for 500 closest neighbors defined by the EXT_SOURCE and CREDIT_ANNUITY_RATIO features as described in this [notebook](https://www.kaggle.com/c/home-credit-default-risk/discussion/64821). The final pipeline for processing applications table includes preprocessing and feature engineering."
   ]
  },
  {
   "cell_type": "code",
   "execution_count": 5,
   "metadata": {},
   "outputs": [],
   "source": [
    "appls_full_pipe = Pipeline(\n",
    "    steps=[\n",
    "        (\"preprocessing\", appls_preprocess_pipe),\n",
    "        (\"feature_engineering\", ApplicationsFeatureCreation()),\n",
    "        (\"nn_feature\", NNFeature()),\n",
    "    ]\n",
    ").set_output(transform=\"pandas\")"
   ]
  },
  {
   "cell_type": "markdown",
   "metadata": {},
   "source": [
    "Multicollinear features are dropped using smart correlation selector, which selects features to drop based on their individual performance with logistic regression model."
   ]
  },
  {
   "cell_type": "code",
   "execution_count": 6,
   "metadata": {},
   "outputs": [
    {
     "name": "stdout",
     "output_type": "stream",
     "text": [
      "Number of quasi-constant and multicollinear aggregated features to drop: 7\n"
     ]
    }
   ],
   "source": [
    "X_appls_feat = appls_full_pipe.fit_transform(X_appls, y_appls)\n",
    "drop_corr_appls = get_drop_multicollinear(\n",
    "    X_appls_feat, y_appls, \"drop_corr_appls\", refit=False\n",
    ")\n",
    "X_appls_feat = X_appls_feat.drop(columns=drop_corr_appls)"
   ]
  },
  {
   "cell_type": "markdown",
   "metadata": {},
   "source": [
    "Boruta with random forest estimators is used to drop unimportant features."
   ]
  },
  {
   "cell_type": "code",
   "execution_count": 7,
   "metadata": {},
   "outputs": [
    {
     "name": "stdout",
     "output_type": "stream",
     "text": [
      "Number of unimportant aggregated features to drop using Boruta: 9\n",
      "Number of selected features: 38\n"
     ]
    }
   ],
   "source": [
    "drop_boruta_appls = get_drop_by_boruta(\n",
    "    X_appls_feat, y_appls, \"drop_boruta_appls\", refit=False\n",
    ")\n",
    "X_appls_feat = X_appls_feat.drop(columns=drop_boruta_appls)\n",
    "appls_col_num = X_appls_feat.shape[1]\n",
    "print(f\"Number of selected features: {appls_col_num}\")"
   ]
  },
  {
   "cell_type": "markdown",
   "metadata": {},
   "source": [
    "Based on the results, the pipeline can be updated."
   ]
  },
  {
   "cell_type": "code",
   "execution_count": 8,
   "metadata": {},
   "outputs": [
    {
     "data": {
      "text/plain": [
       "['./job_files/appls_full_pipe.joblib']"
      ]
     },
     "execution_count": 8,
     "metadata": {},
     "output_type": "execute_result"
    }
   ],
   "source": [
    "appls_full_pipe = Pipeline(\n",
    "    steps=[\n",
    "        (\"preprocessing\", appls_preprocess_pipe),\n",
    "        (\"feature_engineering\", ApplicationsFeatureCreation()),\n",
    "        (\"nn_feature\", NNFeature()),\n",
    "        (\"drop_corr\", DropFeatures(drop_corr_appls + drop_boruta_appls)),\n",
    "    ]\n",
    ").set_output(transform=\"pandas\")\n",
    "joblib.dump(appls_full_pipe, \"./job_files/appls_full_pipe.joblib\")"
   ]
  },
  {
   "cell_type": "markdown",
   "metadata": {},
   "source": [
    "The final number of features from the main table to be used in modeling is 38."
   ]
  },
  {
   "cell_type": "code",
   "execution_count": 9,
   "metadata": {},
   "outputs": [],
   "source": [
    "del X_appls, y_appls, appls_preprocess_pipe"
   ]
  },
  {
   "cell_type": "markdown",
   "metadata": {},
   "source": [
    "### 3.2. <a id='toc3_2_'></a>Previous Credits and Their Balance from Other Institutions  [&#8593;](#toc0_)"
   ]
  },
  {
   "cell_type": "markdown",
   "metadata": {},
   "source": [
    "Status from Bureau balance table is encoded with order. Also, weighted status feature is created to put more importance on more recent status."
   ]
  },
  {
   "cell_type": "code",
   "execution_count": 10,
   "metadata": {},
   "outputs": [
    {
     "name": "stdout",
     "output_type": "stream",
     "text": [
      "Size before memory reduction: 833.13 MB\n",
      "Initial data types Counter({Int64: 2, String: 1})\n",
      "Size after memory reduction: 260.35 MB\n",
      "Final data types Counter({Int32: 1, Int16: 1, Categorical(ordering='physical'): 1})\n"
     ]
    },
    {
     "data": {
      "text/html": [
       "<div><style>\n",
       ".dataframe > thead > tr,\n",
       ".dataframe > tbody > tr {\n",
       "  text-align: right;\n",
       "  white-space: pre-wrap;\n",
       "}\n",
       "</style>\n",
       "<small>shape: (5, 4)</small><table border=\"1\" class=\"dataframe\"><thead><tr><th>SK_ID_BUREAU</th><th>MONTHS_BALANCE</th><th>STATUS</th><th>WEIGHTED_STATUS</th></tr><tr><td>i32</td><td>i16</td><td>i32</td><td>f64</td></tr></thead><tbody><tr><td>5715448</td><td>0</td><td>0</td><td>0.0</td></tr><tr><td>5715448</td><td>-1</td><td>0</td><td>0.0</td></tr><tr><td>5715448</td><td>-2</td><td>0</td><td>0.0</td></tr><tr><td>5715448</td><td>-3</td><td>0</td><td>0.0</td></tr><tr><td>5715448</td><td>-4</td><td>0</td><td>0.0</td></tr></tbody></table></div>"
      ],
      "text/plain": [
       "shape: (5, 4)\n",
       "┌──────────────┬────────────────┬────────┬─────────────────┐\n",
       "│ SK_ID_BUREAU ┆ MONTHS_BALANCE ┆ STATUS ┆ WEIGHTED_STATUS │\n",
       "│ ---          ┆ ---            ┆ ---    ┆ ---             │\n",
       "│ i32          ┆ i16            ┆ i32    ┆ f64             │\n",
       "╞══════════════╪════════════════╪════════╪═════════════════╡\n",
       "│ 5715448      ┆ 0              ┆ 0      ┆ 0.0             │\n",
       "│ 5715448      ┆ -1             ┆ 0      ┆ 0.0             │\n",
       "│ 5715448      ┆ -2             ┆ 0      ┆ 0.0             │\n",
       "│ 5715448      ┆ -3             ┆ 0      ┆ 0.0             │\n",
       "│ 5715448      ┆ -4             ┆ 0      ┆ 0.0             │\n",
       "└──────────────┴────────────────┴────────┴─────────────────┘"
      ]
     },
     "execution_count": 10,
     "metadata": {},
     "output_type": "execute_result"
    }
   ],
   "source": [
    "bureau_balance = pl.read_csv(\"./data/bureau_balance.csv\").pipe(\n",
    "    credit_data_utils.reduce_memory_usage_pl\n",
    ")\n",
    "bureau_balance = bureau_balance.with_columns(\n",
    "    STATUS=pl.when(c.STATUS == \"C\")\n",
    "    .then(pl.lit(0))\n",
    "    .when(c.STATUS == \"0\")\n",
    "    .then(pl.lit(1))\n",
    "    .when(c.STATUS == \"X\")\n",
    "    .then(pl.lit(2))\n",
    "    .when(c.STATUS == \"1\")\n",
    "    .then(pl.lit(3))\n",
    "    .when(c.STATUS == \"2\")\n",
    "    .then(pl.lit(4))\n",
    "    .when(c.STATUS == \"3\")\n",
    "    .then(pl.lit(5))\n",
    "    .when(c.STATUS == \"4\")\n",
    "    .then(pl.lit(6))\n",
    "    .when(c.STATUS == \"5\")\n",
    "    .then(pl.lit(7))\n",
    ")\n",
    "bureau_balance = bureau_balance.with_columns(\n",
    "    WEIGHTED_STATUS=c.STATUS / (-c.MONTHS_BALANCE + 1)\n",
    ")\n",
    "bureau_balance.head()"
   ]
  },
  {
   "cell_type": "markdown",
   "metadata": {},
   "source": [
    "Various aggregations related to the last, average or median status are created."
   ]
  },
  {
   "cell_type": "code",
   "execution_count": 11,
   "metadata": {},
   "outputs": [
    {
     "data": {
      "text/html": [
       "<div><style>\n",
       ".dataframe > thead > tr,\n",
       ".dataframe > tbody > tr {\n",
       "  text-align: right;\n",
       "  white-space: pre-wrap;\n",
       "}\n",
       "</style>\n",
       "<small>shape: (5, 12)</small><table border=\"1\" class=\"dataframe\"><thead><tr><th>SK_ID_BUREAU</th><th>MONTHS_BALANCE_LAST</th><th>MONTHS_BALANCE_FIRST</th><th>MONTHS_BALANCE_DURATION</th><th>MONTHS_BALANCE_MEDIAN</th><th>STATUS_LAST</th><th>STATUS_AVG</th><th>STATUS_MEDIAN</th><th>STATUS_MAX</th><th>WEIGHTED_STATUS_LAST</th><th>WEIGHTED_STATUS_AVG</th><th>WEIGHTED_STATUS_MAX</th></tr><tr><td>i32</td><td>i16</td><td>i16</td><td>i16</td><td>f64</td><td>i32</td><td>f64</td><td>f64</td><td>i32</td><td>f64</td><td>f64</td><td>f64</td></tr></thead><tbody><tr><td>6830985</td><td>-5</td><td>-23</td><td>18</td><td>-14.0</td><td>0</td><td>0.684211</td><td>1.0</td><td>2</td><td>0.0</td><td>0.03584</td><td>0.086957</td></tr><tr><td>6831009</td><td>0</td><td>-48</td><td>48</td><td>-24.0</td><td>0</td><td>0.102041</td><td>0.0</td><td>1</td><td>0.0</td><td>0.002173</td><td>0.022222</td></tr><tr><td>5003854</td><td>0</td><td>-42</td><td>42</td><td>-21.0</td><td>1</td><td>1.0</td><td>1.0</td><td>1</td><td>1.0</td><td>0.101163</td><td>1.0</td></tr><tr><td>5205339</td><td>0</td><td>-4</td><td>4</td><td>-2.0</td><td>1</td><td>1.0</td><td>1.0</td><td>1</td><td>1.0</td><td>0.456667</td><td>1.0</td></tr><tr><td>5029197</td><td>0</td><td>-66</td><td>66</td><td>-33.0</td><td>0</td><td>0.104478</td><td>0.0</td><td>2</td><td>0.0</td><td>0.001612</td><td>0.029851</td></tr></tbody></table></div>"
      ],
      "text/plain": [
       "shape: (5, 12)\n",
       "┌───────────┬───────────┬───────────┬───────────┬───┬───────────┬───────────┬───────────┬──────────┐\n",
       "│ SK_ID_BUR ┆ MONTHS_BA ┆ MONTHS_BA ┆ MONTHS_BA ┆ … ┆ STATUS_MA ┆ WEIGHTED_ ┆ WEIGHTED_ ┆ WEIGHTED │\n",
       "│ EAU       ┆ LANCE_LAS ┆ LANCE_FIR ┆ LANCE_DUR ┆   ┆ X         ┆ STATUS_LA ┆ STATUS_AV ┆ _STATUS_ │\n",
       "│ ---       ┆ T         ┆ ST        ┆ ATION     ┆   ┆ ---       ┆ ST        ┆ G         ┆ MAX      │\n",
       "│ i32       ┆ ---       ┆ ---       ┆ ---       ┆   ┆ i32       ┆ ---       ┆ ---       ┆ ---      │\n",
       "│           ┆ i16       ┆ i16       ┆ i16       ┆   ┆           ┆ f64       ┆ f64       ┆ f64      │\n",
       "╞═══════════╪═══════════╪═══════════╪═══════════╪═══╪═══════════╪═══════════╪═══════════╪══════════╡\n",
       "│ 6830985   ┆ -5        ┆ -23       ┆ 18        ┆ … ┆ 2         ┆ 0.0       ┆ 0.03584   ┆ 0.086957 │\n",
       "│ 6831009   ┆ 0         ┆ -48       ┆ 48        ┆ … ┆ 1         ┆ 0.0       ┆ 0.002173  ┆ 0.022222 │\n",
       "│ 5003854   ┆ 0         ┆ -42       ┆ 42        ┆ … ┆ 1         ┆ 1.0       ┆ 0.101163  ┆ 1.0      │\n",
       "│ 5205339   ┆ 0         ┆ -4        ┆ 4         ┆ … ┆ 1         ┆ 1.0       ┆ 0.456667  ┆ 1.0      │\n",
       "│ 5029197   ┆ 0         ┆ -66       ┆ 66        ┆ … ┆ 2         ┆ 0.0       ┆ 0.001612  ┆ 0.029851 │\n",
       "└───────────┴───────────┴───────────┴───────────┴───┴───────────┴───────────┴───────────┴──────────┘"
      ]
     },
     "execution_count": 11,
     "metadata": {},
     "output_type": "execute_result"
    }
   ],
   "source": [
    "bureau_balance_agg = bureau_balance.group_by(\"SK_ID_BUREAU\").agg(\n",
    "    MONTHS_BALANCE_LAST=c.MONTHS_BALANCE.max(),\n",
    "    MONTHS_BALANCE_FIRST=c.MONTHS_BALANCE.min(),\n",
    "    MONTHS_BALANCE_DURATION=c.MONTHS_BALANCE.max() - c.MONTHS_BALANCE.min(),\n",
    "    MONTHS_BALANCE_MEDIAN=c.MONTHS_BALANCE.median(),\n",
    "    STATUS_LAST=c.STATUS.filter(\n",
    "        c.MONTHS_BALANCE == c.MONTHS_BALANCE.max()\n",
    "    ).first(),\n",
    "    STATUS_AVG=c.STATUS.mean(),\n",
    "    STATUS_MEDIAN=c.STATUS.median(),\n",
    "    STATUS_MAX=c.STATUS.max(),\n",
    "    WEIGHTED_STATUS_LAST=c.WEIGHTED_STATUS.filter(\n",
    "        c.MONTHS_BALANCE == c.MONTHS_BALANCE.max()\n",
    "    ).first(),\n",
    "    WEIGHTED_STATUS_AVG=c.WEIGHTED_STATUS.mean(),\n",
    "    WEIGHTED_STATUS_MAX=c.WEIGHTED_STATUS.max(),\n",
    ")\n",
    "bureau_balance_agg.head()"
   ]
  },
  {
   "cell_type": "markdown",
   "metadata": {},
   "source": [
    "Aggregated Bureau balance table is joined to Bureau table for further feature engineering. Some ratio columns are created initially."
   ]
  },
  {
   "cell_type": "code",
   "execution_count": 12,
   "metadata": {},
   "outputs": [
    {
     "name": "stdout",
     "output_type": "stream",
     "text": [
      "Size before memory reduction: 191.91 MB\n",
      "Initial data types Counter({Int64: 8, Float64: 6, String: 3})\n",
      "Size after memory reduction: 64.41 MB\n",
      "Final data types Counter({Float32: 6, Int16: 4, Int32: 3, Categorical(ordering='physical'): 3, Int8: 1})\n"
     ]
    },
    {
     "data": {
      "text/html": [
       "<div><style>\n",
       ".dataframe > thead > tr,\n",
       ".dataframe > tbody > tr {\n",
       "  text-align: right;\n",
       "  white-space: pre-wrap;\n",
       "}\n",
       "</style>\n",
       "<small>shape: (5, 32)</small><table border=\"1\" class=\"dataframe\"><thead><tr><th>SK_ID_CURR</th><th>SK_ID_BUREAU</th><th>CREDIT_ACTIVE</th><th>CREDIT_CURRENCY</th><th>DAYS_CREDIT</th><th>CREDIT_DAY_OVERDUE</th><th>DAYS_CREDIT_ENDDATE</th><th>DAYS_ENDDATE_FACT</th><th>AMT_CREDIT_MAX_OVERDUE</th><th>CNT_CREDIT_PROLONG</th><th>AMT_CREDIT_SUM</th><th>AMT_CREDIT_SUM_DEBT</th><th>AMT_CREDIT_SUM_LIMIT</th><th>AMT_CREDIT_SUM_OVERDUE</th><th>CREDIT_TYPE</th><th>DAYS_CREDIT_UPDATE</th><th>AMT_ANNUITY</th><th>MONTHS_BALANCE_LAST</th><th>MONTHS_BALANCE_FIRST</th><th>MONTHS_BALANCE_DURATION</th><th>MONTHS_BALANCE_MEDIAN</th><th>STATUS_LAST</th><th>STATUS_AVG</th><th>STATUS_MEDIAN</th><th>STATUS_MAX</th><th>WEIGHTED_STATUS_LAST</th><th>WEIGHTED_STATUS_AVG</th><th>WEIGHTED_STATUS_MAX</th><th>DEBT_CREDIT_RATIO</th><th>OVERDUE_CREDIT_RATIO</th><th>MAX_OVERDUE_CREDIT_RATIO</th><th>LIMIT_CREDIT_RATIO</th></tr><tr><td>i32</td><td>i32</td><td>cat</td><td>cat</td><td>i16</td><td>i16</td><td>i32</td><td>i16</td><td>f32</td><td>i8</td><td>f32</td><td>f32</td><td>f32</td><td>f32</td><td>cat</td><td>i16</td><td>f32</td><td>i16</td><td>i16</td><td>i16</td><td>f64</td><td>i32</td><td>f64</td><td>f64</td><td>i32</td><td>f64</td><td>f64</td><td>f64</td><td>f64</td><td>f64</td><td>f64</td><td>f64</td></tr></thead><tbody><tr><td>215354</td><td>5714462</td><td>&quot;Closed&quot;</td><td>&quot;currency 1&quot;</td><td>-497</td><td>0</td><td>-153</td><td>-153</td><td>0.0</td><td>0</td><td>91323.0</td><td>0.0</td><td>null</td><td>0.0</td><td>&quot;Consumer credi…</td><td>-131</td><td>null</td><td>null</td><td>null</td><td>null</td><td>null</td><td>null</td><td>null</td><td>null</td><td>null</td><td>null</td><td>null</td><td>null</td><td>0.0</td><td>0.0</td><td>0.0</td><td>null</td></tr><tr><td>215354</td><td>5714463</td><td>&quot;Active&quot;</td><td>&quot;currency 1&quot;</td><td>-208</td><td>0</td><td>1075</td><td>null</td><td>0.0</td><td>0</td><td>225000.0</td><td>171342.0</td><td>null</td><td>0.0</td><td>&quot;Credit card&quot;</td><td>-20</td><td>null</td><td>null</td><td>null</td><td>null</td><td>null</td><td>null</td><td>null</td><td>null</td><td>null</td><td>null</td><td>null</td><td>null</td><td>0.761517</td><td>0.0</td><td>0.0</td><td>null</td></tr><tr><td>215354</td><td>5714464</td><td>&quot;Active&quot;</td><td>&quot;currency 1&quot;</td><td>-203</td><td>0</td><td>528</td><td>null</td><td>0.0</td><td>0</td><td>464323.5</td><td>null</td><td>null</td><td>0.0</td><td>&quot;Consumer credi…</td><td>-16</td><td>null</td><td>null</td><td>null</td><td>null</td><td>null</td><td>null</td><td>null</td><td>null</td><td>null</td><td>null</td><td>null</td><td>null</td><td>null</td><td>0.0</td><td>0.0</td><td>null</td></tr><tr><td>215354</td><td>5714465</td><td>&quot;Active&quot;</td><td>&quot;currency 1&quot;</td><td>-203</td><td>0</td><td>null</td><td>null</td><td>0.0</td><td>0</td><td>90000.0</td><td>null</td><td>null</td><td>0.0</td><td>&quot;Credit card&quot;</td><td>-16</td><td>null</td><td>null</td><td>null</td><td>null</td><td>null</td><td>null</td><td>null</td><td>null</td><td>null</td><td>null</td><td>null</td><td>null</td><td>null</td><td>0.0</td><td>0.0</td><td>null</td></tr><tr><td>215354</td><td>5714466</td><td>&quot;Active&quot;</td><td>&quot;currency 1&quot;</td><td>-629</td><td>0</td><td>1197</td><td>null</td><td>77674.5</td><td>0</td><td>2.7e6</td><td>null</td><td>null</td><td>0.0</td><td>&quot;Consumer credi…</td><td>-21</td><td>null</td><td>null</td><td>null</td><td>null</td><td>null</td><td>null</td><td>null</td><td>null</td><td>null</td><td>null</td><td>null</td><td>null</td><td>null</td><td>0.0</td><td>0.028768</td><td>null</td></tr></tbody></table></div>"
      ],
      "text/plain": [
       "shape: (5, 32)\n",
       "┌───────────┬───────────┬───────────┬───────────┬───┬───────────┬───────────┬───────────┬──────────┐\n",
       "│ SK_ID_CUR ┆ SK_ID_BUR ┆ CREDIT_AC ┆ CREDIT_CU ┆ … ┆ DEBT_CRED ┆ OVERDUE_C ┆ MAX_OVERD ┆ LIMIT_CR │\n",
       "│ R         ┆ EAU       ┆ TIVE      ┆ RRENCY    ┆   ┆ IT_RATIO  ┆ REDIT_RAT ┆ UE_CREDIT ┆ EDIT_RAT │\n",
       "│ ---       ┆ ---       ┆ ---       ┆ ---       ┆   ┆ ---       ┆ IO        ┆ _RATIO    ┆ IO       │\n",
       "│ i32       ┆ i32       ┆ cat       ┆ cat       ┆   ┆ f64       ┆ ---       ┆ ---       ┆ ---      │\n",
       "│           ┆           ┆           ┆           ┆   ┆           ┆ f64       ┆ f64       ┆ f64      │\n",
       "╞═══════════╪═══════════╪═══════════╪═══════════╪═══╪═══════════╪═══════════╪═══════════╪══════════╡\n",
       "│ 215354    ┆ 5714462   ┆ Closed    ┆ currency  ┆ … ┆ 0.0       ┆ 0.0       ┆ 0.0       ┆ null     │\n",
       "│           ┆           ┆           ┆ 1         ┆   ┆           ┆           ┆           ┆          │\n",
       "│ 215354    ┆ 5714463   ┆ Active    ┆ currency  ┆ … ┆ 0.761517  ┆ 0.0       ┆ 0.0       ┆ null     │\n",
       "│           ┆           ┆           ┆ 1         ┆   ┆           ┆           ┆           ┆          │\n",
       "│ 215354    ┆ 5714464   ┆ Active    ┆ currency  ┆ … ┆ null      ┆ 0.0       ┆ 0.0       ┆ null     │\n",
       "│           ┆           ┆           ┆ 1         ┆   ┆           ┆           ┆           ┆          │\n",
       "│ 215354    ┆ 5714465   ┆ Active    ┆ currency  ┆ … ┆ null      ┆ 0.0       ┆ 0.0       ┆ null     │\n",
       "│           ┆           ┆           ┆ 1         ┆   ┆           ┆           ┆           ┆          │\n",
       "│ 215354    ┆ 5714466   ┆ Active    ┆ currency  ┆ … ┆ null      ┆ 0.0       ┆ 0.028768  ┆ null     │\n",
       "│           ┆           ┆           ┆ 1         ┆   ┆           ┆           ┆           ┆          │\n",
       "└───────────┴───────────┴───────────┴───────────┴───┴───────────┴───────────┴───────────┴──────────┘"
      ]
     },
     "execution_count": 12,
     "metadata": {},
     "output_type": "execute_result"
    }
   ],
   "source": [
    "bureau = (\n",
    "    pl.read_csv(\"./data/bureau.csv\")\n",
    "    .filter(c.SK_ID_CURR.is_in(idx_train))\n",
    "    .pipe(credit_data_utils.initial_bureau_cleaning)\n",
    "    .pipe(credit_data_utils.reduce_memory_usage_pl)\n",
    "    .join(other=bureau_balance_agg, on=\"SK_ID_BUREAU\", how=\"left\")\n",
    ")\n",
    "bureau = bureau.with_columns(\n",
    "    DEBT_CREDIT_RATIO=c.AMT_CREDIT_SUM_DEBT / (c.AMT_CREDIT_SUM + 1),\n",
    "    OVERDUE_CREDIT_RATIO=c.AMT_CREDIT_SUM_OVERDUE / (c.AMT_CREDIT_SUM + 1),\n",
    "    MAX_OVERDUE_CREDIT_RATIO=c.AMT_CREDIT_MAX_OVERDUE / (c.AMT_CREDIT_SUM + 1),\n",
    "    LIMIT_CREDIT_RATIO=c.AMT_CREDIT_SUM_LIMIT / (c.AMT_CREDIT_SUM + 1),\n",
    ")\n",
    "bureau.head()"
   ]
  },
  {
   "cell_type": "markdown",
   "metadata": {},
   "source": [
    "A dedicated function for Bureau data aggregation is created to enable aggregation on groups filtered by specific categorical columns."
   ]
  },
  {
   "cell_type": "code",
   "execution_count": 13,
   "metadata": {},
   "outputs": [],
   "source": [
    "def bureau_aggregations_func(\n",
    "    df: pl.DataFrame, suffix: str = \"\", left_df: pl.DataFrame = None\n",
    ") -> pl.DataFrame:\n",
    "    \"\"\"Function to aggregate bureau data and optionally add suffix to new\n",
    "    columns or join with other dataframe.\"\"\"\n",
    "    agg_df = df.group_by(\"SK_ID_CURR\").agg(\n",
    "        cs.contains(\"DAYS_\").mean().round().name.suffix(\"_AVG\"),\n",
    "        cs.contains(\"DAYS_\").median().name.suffix(\"_MEDIAN\"),\n",
    "        cs.contains(\"DAYS_\").max().name.suffix(\"_LAST\"),\n",
    "        cs.contains([\"STATUS_\", \"MONTHS_\", \"_RATIO\"])\n",
    "        .max()\n",
    "        .name.suffix(\"_MAX\"),\n",
    "        cs.contains([\"STATUS_\", \"MONTHS_\", \"_RATIO\"])\n",
    "        .min()\n",
    "        .name.suffix(\"_MIN\"),\n",
    "        cs.contains([\"STATUS_\", \"MONTHS_\", \"_RATIO\"])\n",
    "        .mean()\n",
    "        .name.suffix(\"_AVG\"),\n",
    "        CNT_CREDIT=c.SK_ID_CURR.count(),\n",
    "        CNT_PROLONG_TOTAL=c.CNT_CREDIT_PROLONG.sum(),\n",
    "        CREDIT_DAY_OVERDUE_TOTAL=c.CREDIT_DAY_OVERDUE.sum(),\n",
    "        CREDIT_DAY_OVERDUE_MAX=c.CREDIT_DAY_OVERDUE.max(),\n",
    "        DEBT_CREDIT_SUM_RATIO=(c.AMT_CREDIT_SUM_DEBT.sum())\n",
    "        / (c.AMT_CREDIT_SUM.sum() + 1),\n",
    "        OVERDUE_CREDIT_SUM_RATIO=(c.AMT_CREDIT_SUM_OVERDUE.sum())\n",
    "        / (c.AMT_CREDIT_SUM.sum() + 1),\n",
    "        MAX_OVERDUE_CREDIT_SUM_RATIO=(c.AMT_CREDIT_MAX_OVERDUE.sum())\n",
    "        / (c.AMT_CREDIT_SUM.sum() + 1),\n",
    "        LIMIT_CREDIT_SUM_RATIO=(c.AMT_CREDIT_SUM_LIMIT.sum())\n",
    "        / (c.AMT_CREDIT_SUM.sum() + 1),\n",
    "    )\n",
    "    agg_df = agg_df.rename(\n",
    "        lambda col: col + suffix if col != \"SK_ID_CURR\" else col\n",
    "    )\n",
    "    if left_df is not None:\n",
    "        agg_df = left_df.join(other=agg_df, on=\"SK_ID_CURR\", how=\"left\")\n",
    "    return agg_df"
   ]
  },
  {
   "cell_type": "markdown",
   "metadata": {},
   "source": [
    "Finally, the function is applied and all created features are joined based on application ID."
   ]
  },
  {
   "cell_type": "code",
   "execution_count": 14,
   "metadata": {},
   "outputs": [],
   "source": [
    "bureau_agg = bureau.group_by(\"SK_ID_CURR\").agg(\n",
    "    CNT_CREDIT_TYPES_ALL=c.CREDIT_TYPE.n_unique(),\n",
    "    CNT_CREDIT_TYPES_ACTIVE=c.CREDIT_TYPE.filter(\n",
    "        c.CREDIT_ACTIVE == \"Active\"\n",
    "    ).n_unique(),\n",
    "    CNT_CREDIT_TYPES_CLOSED=c.CREDIT_TYPE.filter(\n",
    "        c.CREDIT_ACTIVE == \"Closed\"\n",
    "    ).n_unique(),\n",
    "    ACTIVE_CREDIT_RATIO_ALL=(c.DAYS_CREDIT_ENDDATE > 0).mean(),\n",
    "    ACTIVE_CREDIT_RATIO_CARD=(c.DAYS_CREDIT_ENDDATE > 0)\n",
    "    .filter(c.CREDIT_TYPE == \"Credit card\")\n",
    "    .mean(),\n",
    "    ACTIVE_CREDIT_RATIO_CONSUMER=(c.DAYS_CREDIT_ENDDATE > 0)\n",
    "    .filter(c.CREDIT_TYPE == \"Consumer credit\")\n",
    "    .mean(),\n",
    ")\n",
    "bureau_agg = bureau_aggregations_func(bureau, \"_ALL\", bureau_agg)\n",
    "bureau_agg = bureau.filter(c.CREDIT_ACTIVE == \"Active\").pipe(\n",
    "    bureau_aggregations_func, \"_ACTIVE\", bureau_agg\n",
    ")\n",
    "bureau_agg = bureau.filter(c.CREDIT_ACTIVE == \"Closed\").pipe(\n",
    "    bureau_aggregations_func, \"_CLOSED\", bureau_agg\n",
    ")\n",
    "bureau_agg = bureau.filter(c.CREDIT_TYPE == \"Credit card\").pipe(\n",
    "    bureau_aggregations_func, \"_CARD\", bureau_agg\n",
    ")\n",
    "bureau_agg = bureau.filter(c.CREDIT_TYPE == \"Consumer credit\").pipe(\n",
    "    bureau_aggregations_func, \"_CONSUMER\", bureau_agg\n",
    ")\n",
    "bureau_agg = bureau.filter(\n",
    "    (c.CREDIT_ACTIVE == \"Active\") & (c.CREDIT_TYPE == \"Credit card\")\n",
    ").pipe(bureau_aggregations_func, \"_ACTIVE_CARD\", bureau_agg)\n",
    "bureau_agg = bureau.filter(\n",
    "    (c.CREDIT_ACTIVE == \"Active\") & (c.CREDIT_TYPE == \"Consumer credit\")\n",
    ").pipe(bureau_aggregations_func, \"_ACTIVE_CONSUMER\", bureau_agg)\n",
    "bureau_agg = bureau.filter(\n",
    "    (c.CREDIT_ACTIVE == \"Closed\") & (c.CREDIT_TYPE == \"Credit card\")\n",
    ").pipe(bureau_aggregations_func, \"_CLOSED_CARD\", bureau_agg)\n",
    "bureau_agg = bureau.filter(\n",
    "    (c.CREDIT_ACTIVE == \"Closed\") & (c.CREDIT_TYPE == \"Consumer credit\")\n",
    ").pipe(bureau_aggregations_func, \"_CLOSED_CONSUMER\", bureau_agg)"
   ]
  },
  {
   "cell_type": "markdown",
   "metadata": {},
   "source": [
    "To enable initial removal of multicollinear and unimportant features, missing values are simply filled with 0."
   ]
  },
  {
   "cell_type": "code",
   "execution_count": 15,
   "metadata": {},
   "outputs": [],
   "source": [
    "bureau_agg_filled = (\n",
    "    bureau_agg.filter(c.SK_ID_CURR.is_in(idx_train))\n",
    "    .fill_null(value=0)\n",
    "    .fill_nan(value=0)\n",
    "    .join(**appls_join)\n",
    "    .to_pandas()\n",
    ")\n",
    "X_bureau = bureau_agg_filled.drop(columns=[\"TARGET\", \"SK_ID_CURR\"])\n",
    "y_bureau = bureau_agg_filled[\"TARGET\"]"
   ]
  },
  {
   "cell_type": "code",
   "execution_count": 16,
   "metadata": {},
   "outputs": [
    {
     "name": "stdout",
     "output_type": "stream",
     "text": [
      "Number of quasi-constant and multicollinear aggregated features to drop: 349\n"
     ]
    }
   ],
   "source": [
    "drop_corr_bureau = get_drop_multicollinear(\n",
    "    X_bureau, y_bureau, \"drop_corr_bureau\", refit=False\n",
    ")\n",
    "X_bureau = X_bureau.drop(columns=drop_corr_bureau)"
   ]
  },
  {
   "cell_type": "code",
   "execution_count": 17,
   "metadata": {},
   "outputs": [
    {
     "name": "stdout",
     "output_type": "stream",
     "text": [
      "Number of unimportant aggregated features to drop using Boruta: 133\n",
      "Number of selected features: 109\n"
     ]
    }
   ],
   "source": [
    "drop_boruta_bureau = get_drop_by_boruta(\n",
    "    X_bureau, y_bureau, \"drop_boruta_bureau\", refit=False\n",
    ")\n",
    "X_bureau = X_bureau.drop(columns=drop_boruta_bureau)\n",
    "bureau_col_num = X_bureau.shape[1]\n",
    "print(f\"Number of selected features: {bureau_col_num}\")"
   ]
  },
  {
   "cell_type": "markdown",
   "metadata": {},
   "source": [
    "Finally, 109 aggregated features for Bureau and its balance data are saved for later use. Note, that missing values are not imputed with 0 in the saved table."
   ]
  },
  {
   "cell_type": "code",
   "execution_count": 18,
   "metadata": {},
   "outputs": [],
   "source": [
    "bureau_agg.drop(drop_corr_bureau + drop_boruta_bureau).write_csv(\n",
    "    \"./data_agg/bureau_agg.csv\"\n",
    ")"
   ]
  },
  {
   "cell_type": "code",
   "execution_count": 19,
   "metadata": {},
   "outputs": [],
   "source": [
    "del (\n",
    "    bureau_balance,\n",
    "    bureau_balance_agg,\n",
    "    bureau,\n",
    "    bureau_agg,\n",
    "    bureau_agg_filled,\n",
    "    X_bureau,\n",
    "    y_bureau,\n",
    ")"
   ]
  },
  {
   "cell_type": "markdown",
   "metadata": {},
   "source": [
    "### 3.3. <a id='toc3_3_'></a>Previous Applications for Home Credit Loans  [&#8593;](#toc0_)"
   ]
  },
  {
   "cell_type": "markdown",
   "metadata": {},
   "source": [
    "Only non-collinear columns as found during EDA is loaded and those useful for feature engineering. Only the last applications per individual contract are used for feature engineering. Missing values in categorical columns are encoded with XNA. Features describing differences and ratios of amounts are created first. A potentially very important feature related to interest of the loan is also engineered. However, it tends to be negative for revolving loans. In that case, the interest feature is set to 0."
   ]
  },
  {
   "cell_type": "code",
   "execution_count": 20,
   "metadata": {},
   "outputs": [
    {
     "name": "stdout",
     "output_type": "stream",
     "text": [
      "Size before cleaning: 776.58 MB\n",
      "Size after cleaning: 759.95 MB\n",
      "Number of columns left: 37\n",
      "Size before memory reduction: 578.87 MB\n",
      "Initial data types Counter({String: 12, Int64: 8, Float64: 6, Enum(categories=['0', '1', '2', '3', '4', '5', '6', '7', '8', '9', '10', '11', '12', '13', '14', '15', '16', '17', '18', '19', '20', '21', '22', '23']): 1})\n",
      "Size after memory reduction: 154.35 MB\n",
      "Final data types Counter({Categorical(ordering='physical'): 12, Float32: 6, Int16: 5, Int32: 2, Enum(categories=['0', '1', '2', '3', '4', '5', '6', '7', '8', '9', '10', '11', '12', '13', '14', '15', '16', '17', '18', '19', '20', '21', '22', '23']): 1, Int8: 1})\n"
     ]
    },
    {
     "data": {
      "text/html": [
       "<div><style>\n",
       ".dataframe > thead > tr,\n",
       ".dataframe > tbody > tr {\n",
       "  text-align: right;\n",
       "  white-space: pre-wrap;\n",
       "}\n",
       "</style>\n",
       "<small>shape: (5, 38)</small><table border=\"1\" class=\"dataframe\"><thead><tr><th>SK_ID_PREV</th><th>SK_ID_CURR</th><th>NAME_CONTRACT_TYPE</th><th>AMT_ANNUITY</th><th>AMT_APPLICATION</th><th>AMT_CREDIT</th><th>AMT_DOWN_PAYMENT</th><th>AMT_GOODS_PRICE</th><th>HOUR_APPR_PROCESS_START</th><th>RATE_DOWN_PAYMENT</th><th>NAME_CASH_LOAN_PURPOSE</th><th>NAME_CONTRACT_STATUS</th><th>DAYS_DECISION</th><th>NAME_PAYMENT_TYPE</th><th>CODE_REJECT_REASON</th><th>NAME_CLIENT_TYPE</th><th>NAME_PORTFOLIO</th><th>NAME_PRODUCT_TYPE</th><th>CHANNEL_TYPE</th><th>NAME_SELLER_INDUSTRY</th><th>CNT_PAYMENT</th><th>NAME_YIELD_GROUP</th><th>PRODUCT_COMBINATION</th><th>DAYS_FIRST_DUE</th><th>DAYS_LAST_DUE</th><th>DAYS_TERMINATION</th><th>NFLAG_INSURED_ON_APPROVAL</th><th>INTEREST</th><th>INTEREST_RATE</th><th>INTEREST_SHARE</th><th>CREDIT_ANNUITY_RATIO</th><th>ANNUITY_CREDIT_RATIO</th><th>GOODS_CREDIT_RATIO</th><th>GOODS_CREDIT_DIFF</th><th>GOODS_APPLICATION_RATIO</th><th>GOODS_APPLICATION_DIFF</th><th>APPLICATION_CREDIT_RATIO</th><th>APPLICATION_CREDIT_DIFF</th></tr><tr><td>i32</td><td>i32</td><td>cat</td><td>f32</td><td>f32</td><td>f32</td><td>f32</td><td>f32</td><td>enum</td><td>f32</td><td>cat</td><td>cat</td><td>i16</td><td>cat</td><td>cat</td><td>cat</td><td>cat</td><td>cat</td><td>cat</td><td>cat</td><td>i16</td><td>cat</td><td>cat</td><td>i16</td><td>i16</td><td>i16</td><td>i8</td><td>f32</td><td>f64</td><td>f64</td><td>f64</td><td>f64</td><td>f64</td><td>f32</td><td>f64</td><td>f32</td><td>f64</td><td>f32</td></tr></thead><tbody><tr><td>2030495</td><td>271877</td><td>&quot;Consumer loans…</td><td>1730.430054</td><td>17145.0</td><td>17145.0</td><td>0.0</td><td>17145.0</td><td>&quot;15&quot;</td><td>0.0</td><td>&quot;XAP&quot;</td><td>&quot;Approved&quot;</td><td>-73</td><td>&quot;Cash through t…</td><td>&quot;XAP&quot;</td><td>&quot;Repeater&quot;</td><td>&quot;POS&quot;</td><td>&quot;XNA&quot;</td><td>&quot;Country-wide&quot;</td><td>&quot;Connectivity&quot;</td><td>12</td><td>&quot;middle&quot;</td><td>&quot;POS mobile wit…</td><td>-42</td><td>-42</td><td>-37</td><td>0</td><td>3620.160156</td><td>0.017596</td><td>0.211137</td><td>9.902219</td><td>0.100923</td><td>0.999942</td><td>0.0</td><td>0.999942</td><td>0.0</td><td>0.999942</td><td>0.0</td></tr><tr><td>2802425</td><td>108129</td><td>&quot;Cash loans&quot;</td><td>25188.615234</td><td>607500.0</td><td>679671.0</td><td>null</td><td>607500.0</td><td>&quot;11&quot;</td><td>null</td><td>&quot;XNA&quot;</td><td>&quot;Approved&quot;</td><td>-164</td><td>&quot;XNA&quot;</td><td>&quot;XAP&quot;</td><td>&quot;Repeater&quot;</td><td>&quot;Cash&quot;</td><td>&quot;x-sell&quot;</td><td>&quot;Contact center…</td><td>&quot;XNA&quot;</td><td>36</td><td>&quot;low_action&quot;</td><td>&quot;Cash X-Sell&quot;</td><td>-134</td><td>null</td><td>null</td><td>1</td><td>227119.125</td><td>0.009282</td><td>0.33416</td><td>26.982191</td><td>0.03706</td><td>0.893813</td><td>-72171.0</td><td>0.999998</td><td>0.0</td><td>0.893813</td><td>-72171.0</td></tr><tr><td>2523466</td><td>122040</td><td>&quot;Cash loans&quot;</td><td>15060.735352</td><td>112500.0</td><td>136444.5</td><td>null</td><td>112500.0</td><td>&quot;11&quot;</td><td>null</td><td>&quot;XNA&quot;</td><td>&quot;Approved&quot;</td><td>-301</td><td>&quot;Cash through t…</td><td>&quot;XAP&quot;</td><td>&quot;Repeater&quot;</td><td>&quot;Cash&quot;</td><td>&quot;x-sell&quot;</td><td>&quot;Credit and cas…</td><td>&quot;XNA&quot;</td><td>12</td><td>&quot;high&quot;</td><td>&quot;Cash X-Sell&quot;</td><td>-271</td><td>null</td><td>null</td><td>1</td><td>44284.328125</td><td>0.027047</td><td>0.324557</td><td>9.059016</td><td>0.110379</td><td>0.824505</td><td>-23944.5</td><td>0.999991</td><td>0.0</td><td>0.824505</td><td>-23944.5</td></tr><tr><td>2819243</td><td>176158</td><td>&quot;Cash loans&quot;</td><td>47041.335938</td><td>450000.0</td><td>470790.0</td><td>null</td><td>450000.0</td><td>&quot;7&quot;</td><td>null</td><td>&quot;XNA&quot;</td><td>&quot;Approved&quot;</td><td>-512</td><td>&quot;Cash through t…</td><td>&quot;XAP&quot;</td><td>&quot;Repeater&quot;</td><td>&quot;Cash&quot;</td><td>&quot;x-sell&quot;</td><td>&quot;Credit and cas…</td><td>&quot;XNA&quot;</td><td>12</td><td>&quot;middle&quot;</td><td>&quot;Cash X-Sell&quot;</td><td>-482</td><td>-182</td><td>-177</td><td>1</td><td>93706.0</td><td>0.016587</td><td>0.199039</td><td>10.007794</td><td>0.09992</td><td>0.955838</td><td>-20790.0</td><td>0.999998</td><td>0.0</td><td>0.955838</td><td>-20790.0</td></tr><tr><td>1784265</td><td>202054</td><td>&quot;Cash loans&quot;</td><td>31924.394531</td><td>337500.0</td><td>404055.0</td><td>null</td><td>337500.0</td><td>&quot;9&quot;</td><td>null</td><td>&quot;Repairs&quot;</td><td>&quot;Refused&quot;</td><td>-781</td><td>&quot;Cash through t…</td><td>&quot;HC&quot;</td><td>&quot;Repeater&quot;</td><td>&quot;Cash&quot;</td><td>&quot;walk-in&quot;</td><td>&quot;Credit and cas…</td><td>&quot;XNA&quot;</td><td>24</td><td>&quot;high&quot;</td><td>&quot;Cash Street&quot;</td><td>null</td><td>null</td><td>null</td><td>null</td><td>362130.5</td><td>0.037343</td><td>0.896238</td><td>12.656226</td><td>0.07901</td><td>0.83528</td><td>-66555.0</td><td>0.999997</td><td>0.0</td><td>0.83528</td><td>-66555.0</td></tr></tbody></table></div>"
      ],
      "text/plain": [
       "shape: (5, 38)\n",
       "┌───────────┬───────────┬───────────┬───────────┬───┬───────────┬───────────┬───────────┬──────────┐\n",
       "│ SK_ID_PRE ┆ SK_ID_CUR ┆ NAME_CONT ┆ AMT_ANNUI ┆ … ┆ GOODS_APP ┆ GOODS_APP ┆ APPLICATI ┆ APPLICAT │\n",
       "│ V         ┆ R         ┆ RACT_TYPE ┆ TY        ┆   ┆ LICATION_ ┆ LICATION_ ┆ ON_CREDIT ┆ ION_CRED │\n",
       "│ ---       ┆ ---       ┆ ---       ┆ ---       ┆   ┆ RATIO     ┆ DIFF      ┆ _RATIO    ┆ IT_DIFF  │\n",
       "│ i32       ┆ i32       ┆ cat       ┆ f32       ┆   ┆ ---       ┆ ---       ┆ ---       ┆ ---      │\n",
       "│           ┆           ┆           ┆           ┆   ┆ f64       ┆ f32       ┆ f64       ┆ f32      │\n",
       "╞═══════════╪═══════════╪═══════════╪═══════════╪═══╪═══════════╪═══════════╪═══════════╪══════════╡\n",
       "│ 2030495   ┆ 271877    ┆ Consumer  ┆ 1730.4300 ┆ … ┆ 0.999942  ┆ 0.0       ┆ 0.999942  ┆ 0.0      │\n",
       "│           ┆           ┆ loans     ┆ 54        ┆   ┆           ┆           ┆           ┆          │\n",
       "│ 2802425   ┆ 108129    ┆ Cash      ┆ 25188.615 ┆ … ┆ 0.999998  ┆ 0.0       ┆ 0.893813  ┆ -72171.0 │\n",
       "│           ┆           ┆ loans     ┆ 234       ┆   ┆           ┆           ┆           ┆          │\n",
       "│ 2523466   ┆ 122040    ┆ Cash      ┆ 15060.735 ┆ … ┆ 0.999991  ┆ 0.0       ┆ 0.824505  ┆ -23944.5 │\n",
       "│           ┆           ┆ loans     ┆ 352       ┆   ┆           ┆           ┆           ┆          │\n",
       "│ 2819243   ┆ 176158    ┆ Cash      ┆ 47041.335 ┆ … ┆ 0.999998  ┆ 0.0       ┆ 0.955838  ┆ -20790.0 │\n",
       "│           ┆           ┆ loans     ┆ 938       ┆   ┆           ┆           ┆           ┆          │\n",
       "│ 1784265   ┆ 202054    ┆ Cash      ┆ 31924.394 ┆ … ┆ 0.999997  ┆ 0.0       ┆ 0.83528   ┆ -66555.0 │\n",
       "│           ┆           ┆ loans     ┆ 531       ┆   ┆           ┆           ┆           ┆          │\n",
       "└───────────┴───────────┴───────────┴───────────┴───┴───────────┴───────────┴───────────┴──────────┘"
      ]
     },
     "execution_count": 20,
     "metadata": {},
     "output_type": "execute_result"
    }
   ],
   "source": [
    "columns_drop = [\n",
    "    \"RATE_INTEREST_PRIMARY\",\n",
    "    \"RATE_INTEREST_PRIVILEGED\",\n",
    "    \"DAYS_FIRST_DRAWING\",\n",
    "    \"NAME_TYPE_SUITE\",\n",
    "    \"WEEKDAY_APPR_PROCESS_START\",\n",
    "    \"NAME_GOODS_CATEGORY\",\n",
    "    \"SELLERPLACE_AREA\",\n",
    "    \"DAYS_LAST_DUE_1ST_VERSION\",\n",
    "    \"NFLAG_LAST_APPL_IN_DAY\",\n",
    "    \"FLAG_LAST_APPL_PER_CONTRACT\",\n",
    "]\n",
    "prev = (\n",
    "    pl.read_csv(\"./data/previous_application.csv\")\n",
    "    .pipe(credit_data_utils.initial_prev_application_cleaning)\n",
    "    .filter(c.FLAG_LAST_APPL_PER_CONTRACT == 1)\n",
    "    .drop(columns_drop)\n",
    "    .pipe(credit_data_utils.reduce_memory_usage_pl)\n",
    ")\n",
    "for col in prev.columns:\n",
    "    column = prev[col]\n",
    "    if (\n",
    "        (\"NAME_\" in col)\n",
    "        | (\"_TYPE\" in col)\n",
    "        | (\"CODE_\" in col)\n",
    "        | (\"_COMBINATION\" in col)\n",
    "    ):\n",
    "        prev = prev.with_columns(column.fill_null(\"XNA\").alias(col))\n",
    "prev = prev.with_columns(\n",
    "    INTEREST=((c.CNT_PAYMENT * c.AMT_ANNUITY) - c.AMT_CREDIT).clip(\n",
    "        lower_bound=0\n",
    "    )  # credit card interest ends up being 0\n",
    ")\n",
    "prev = prev.with_columns(\n",
    "    INTEREST_RATE=c.INTEREST / (c.AMT_CREDIT * c.CNT_PAYMENT + 1),\n",
    "    INTEREST_SHARE=(c.INTEREST / (c.AMT_CREDIT + 1)).clip(upper_bound=1),\n",
    "    CREDIT_ANNUITY_RATIO=c.AMT_CREDIT / (c.AMT_ANNUITY + 1),\n",
    "    ANNUITY_CREDIT_RATIO=c.AMT_ANNUITY / (c.AMT_CREDIT + 1),\n",
    "    GOODS_CREDIT_RATIO=c.AMT_GOODS_PRICE / (c.AMT_CREDIT + 1),\n",
    "    GOODS_CREDIT_DIFF=c.AMT_GOODS_PRICE - c.AMT_CREDIT,\n",
    "    GOODS_APPLICATION_RATIO=c.AMT_GOODS_PRICE / (c.AMT_APPLICATION + 1),\n",
    "    GOODS_APPLICATION_DIFF=c.AMT_GOODS_PRICE - c.AMT_APPLICATION,\n",
    "    APPLICATION_CREDIT_RATIO=c.AMT_APPLICATION / (c.AMT_CREDIT + 1),\n",
    "    APPLICATION_CREDIT_DIFF=c.AMT_APPLICATION - c.AMT_CREDIT,\n",
    ")\n",
    "prev.head()"
   ]
  },
  {
   "cell_type": "markdown",
   "metadata": {},
   "source": [
    "To enable aggregations of categorical features they are one-hot-encoded."
   ]
  },
  {
   "cell_type": "code",
   "execution_count": 21,
   "metadata": {},
   "outputs": [
    {
     "data": {
      "text/html": [
       "<div><style>\n",
       ".dataframe > thead > tr,\n",
       ".dataframe > tbody > tr {\n",
       "  text-align: right;\n",
       "  white-space: pre-wrap;\n",
       "}\n",
       "</style>\n",
       "<small>shape: (5, 90)</small><table border=\"1\" class=\"dataframe\"><thead><tr><th>SK_ID_PREV</th><th>NAME_CONTRACT_TYPE</th><th>NAME_CASH_LOAN_PURPOSE</th><th>NAME_CONTRACT_STATUS</th><th>NAME_PAYMENT_TYPE</th><th>CODE_REJECT_REASON</th><th>NAME_CLIENT_TYPE</th><th>NAME_PORTFOLIO</th><th>NAME_PRODUCT_TYPE</th><th>CHANNEL_TYPE</th><th>NAME_SELLER_INDUSTRY</th><th>NAME_YIELD_GROUP</th><th>PRODUCT_COMBINATION</th><th>OHE_CONTRACT_TYPE_CASH_LOANS</th><th>OHE_CONTRACT_TYPE_CONSUMER_LOANS</th><th>OHE_CONTRACT_TYPE_REVOLVING_LOANS</th><th>OHE_CONTRACT_TYPE_RARE</th><th>OHE_CASH_LOAN_PURPOSE_XAP</th><th>OHE_CASH_LOAN_PURPOSE_XNA</th><th>OHE_CASH_LOAN_PURPOSE_RARE</th><th>OHE_CONTRACT_STATUS_APPROVED</th><th>OHE_CONTRACT_STATUS_CANCELED</th><th>OHE_CONTRACT_STATUS_REFUSED</th><th>OHE_CONTRACT_STATUS_RARE</th><th>OHE_PAYMENT_TYPE_CASH_THROUGH_THE_BANK</th><th>OHE_PAYMENT_TYPE_XNA</th><th>OHE_PAYMENT_TYPE_RARE</th><th>OHE_REJECT_REASON_HC</th><th>OHE_REJECT_REASON_XAP</th><th>OHE_REJECT_REASON_RARE</th><th>OHE_CLIENT_TYPE_NEW</th><th>OHE_CLIENT_TYPE_REFRESHED</th><th>OHE_CLIENT_TYPE_REPEATER</th><th>OHE_CLIENT_TYPE_RARE</th><th>OHE_PORTFOLIO_CARDS</th><th>OHE_PORTFOLIO_CASH</th><th>OHE_PORTFOLIO_POS</th><th>&hellip;</th><th>OHE_YIELD_GROUP_LOW_ACTION</th><th>OHE_YIELD_GROUP_LOW_NORMAL</th><th>OHE_YIELD_GROUP_MIDDLE</th><th>OHE_COMBINATION_CARD_STREET</th><th>OHE_COMBINATION_CASH</th><th>OHE_COMBINATION_CASH_STREET</th><th>OHE_COMBINATION_CASH_X_SELL</th><th>OHE_COMBINATION_POS_HOUSEHOLD_WITH_INTEREST</th><th>OHE_COMBINATION_POS_HOUSEHOLD_WITHOUT_INTEREST</th><th>OHE_COMBINATION_POS_INDUSTRY_WITH_INTEREST</th><th>OHE_COMBINATION_POS_MOBILE_WITH_INTEREST</th><th>OHE_COMBINATION_RARE</th><th>SK_ID_CURR</th><th>AMT_ANNUITY</th><th>AMT_APPLICATION</th><th>AMT_CREDIT</th><th>AMT_DOWN_PAYMENT</th><th>AMT_GOODS_PRICE</th><th>HOUR_APPR_PROCESS_START</th><th>RATE_DOWN_PAYMENT</th><th>DAYS_DECISION</th><th>CNT_PAYMENT</th><th>DAYS_FIRST_DUE</th><th>DAYS_LAST_DUE</th><th>DAYS_TERMINATION</th><th>NFLAG_INSURED_ON_APPROVAL</th><th>INTEREST</th><th>INTEREST_RATE</th><th>INTEREST_SHARE</th><th>CREDIT_ANNUITY_RATIO</th><th>ANNUITY_CREDIT_RATIO</th><th>GOODS_CREDIT_RATIO</th><th>GOODS_CREDIT_DIFF</th><th>GOODS_APPLICATION_RATIO</th><th>GOODS_APPLICATION_DIFF</th><th>APPLICATION_CREDIT_RATIO</th><th>APPLICATION_CREDIT_DIFF</th></tr><tr><td>i32</td><td>cat</td><td>cat</td><td>cat</td><td>cat</td><td>cat</td><td>cat</td><td>cat</td><td>cat</td><td>cat</td><td>cat</td><td>cat</td><td>cat</td><td>i8</td><td>i8</td><td>i8</td><td>i8</td><td>i8</td><td>i8</td><td>i8</td><td>i8</td><td>i8</td><td>i8</td><td>i8</td><td>i8</td><td>i8</td><td>i8</td><td>i8</td><td>i8</td><td>i8</td><td>i8</td><td>i8</td><td>i8</td><td>i8</td><td>i8</td><td>i8</td><td>i8</td><td>&hellip;</td><td>i8</td><td>i8</td><td>i8</td><td>i8</td><td>i8</td><td>i8</td><td>i8</td><td>i8</td><td>i8</td><td>i8</td><td>i8</td><td>i8</td><td>i32</td><td>f32</td><td>f32</td><td>f32</td><td>f32</td><td>f32</td><td>enum</td><td>f32</td><td>i16</td><td>i16</td><td>i16</td><td>i16</td><td>i16</td><td>i8</td><td>f32</td><td>f64</td><td>f64</td><td>f64</td><td>f64</td><td>f64</td><td>f32</td><td>f64</td><td>f32</td><td>f64</td><td>f32</td></tr></thead><tbody><tr><td>2030495</td><td>&quot;Consumer loans…</td><td>&quot;XAP&quot;</td><td>&quot;Approved&quot;</td><td>&quot;Cash through t…</td><td>&quot;XAP&quot;</td><td>&quot;Repeater&quot;</td><td>&quot;POS&quot;</td><td>&quot;XNA&quot;</td><td>&quot;Country-wide&quot;</td><td>&quot;Connectivity&quot;</td><td>&quot;middle&quot;</td><td>&quot;POS mobile wit…</td><td>0</td><td>1</td><td>0</td><td>0</td><td>1</td><td>0</td><td>0</td><td>1</td><td>0</td><td>0</td><td>0</td><td>1</td><td>0</td><td>0</td><td>0</td><td>1</td><td>0</td><td>0</td><td>0</td><td>1</td><td>0</td><td>0</td><td>0</td><td>1</td><td>&hellip;</td><td>0</td><td>0</td><td>1</td><td>0</td><td>0</td><td>0</td><td>0</td><td>0</td><td>0</td><td>0</td><td>1</td><td>0</td><td>271877</td><td>1730.430054</td><td>17145.0</td><td>17145.0</td><td>0.0</td><td>17145.0</td><td>&quot;15&quot;</td><td>0.0</td><td>-73</td><td>12</td><td>-42</td><td>-42</td><td>-37</td><td>0</td><td>3620.160156</td><td>0.017596</td><td>0.211137</td><td>9.902219</td><td>0.100923</td><td>0.999942</td><td>0.0</td><td>0.999942</td><td>0.0</td><td>0.999942</td><td>0.0</td></tr><tr><td>2802425</td><td>&quot;Cash loans&quot;</td><td>&quot;XNA&quot;</td><td>&quot;Approved&quot;</td><td>&quot;XNA&quot;</td><td>&quot;XAP&quot;</td><td>&quot;Repeater&quot;</td><td>&quot;Cash&quot;</td><td>&quot;x-sell&quot;</td><td>&quot;Contact center…</td><td>&quot;XNA&quot;</td><td>&quot;low_action&quot;</td><td>&quot;Cash X-Sell&quot;</td><td>1</td><td>0</td><td>0</td><td>0</td><td>0</td><td>1</td><td>0</td><td>1</td><td>0</td><td>0</td><td>0</td><td>0</td><td>1</td><td>0</td><td>0</td><td>1</td><td>0</td><td>0</td><td>0</td><td>1</td><td>0</td><td>0</td><td>1</td><td>0</td><td>&hellip;</td><td>1</td><td>0</td><td>0</td><td>0</td><td>0</td><td>0</td><td>1</td><td>0</td><td>0</td><td>0</td><td>0</td><td>0</td><td>108129</td><td>25188.615234</td><td>607500.0</td><td>679671.0</td><td>null</td><td>607500.0</td><td>&quot;11&quot;</td><td>null</td><td>-164</td><td>36</td><td>-134</td><td>null</td><td>null</td><td>1</td><td>227119.125</td><td>0.009282</td><td>0.33416</td><td>26.982191</td><td>0.03706</td><td>0.893813</td><td>-72171.0</td><td>0.999998</td><td>0.0</td><td>0.893813</td><td>-72171.0</td></tr><tr><td>2523466</td><td>&quot;Cash loans&quot;</td><td>&quot;XNA&quot;</td><td>&quot;Approved&quot;</td><td>&quot;Cash through t…</td><td>&quot;XAP&quot;</td><td>&quot;Repeater&quot;</td><td>&quot;Cash&quot;</td><td>&quot;x-sell&quot;</td><td>&quot;Credit and cas…</td><td>&quot;XNA&quot;</td><td>&quot;high&quot;</td><td>&quot;Cash X-Sell&quot;</td><td>1</td><td>0</td><td>0</td><td>0</td><td>0</td><td>1</td><td>0</td><td>1</td><td>0</td><td>0</td><td>0</td><td>1</td><td>0</td><td>0</td><td>0</td><td>1</td><td>0</td><td>0</td><td>0</td><td>1</td><td>0</td><td>0</td><td>1</td><td>0</td><td>&hellip;</td><td>0</td><td>0</td><td>0</td><td>0</td><td>0</td><td>0</td><td>1</td><td>0</td><td>0</td><td>0</td><td>0</td><td>0</td><td>122040</td><td>15060.735352</td><td>112500.0</td><td>136444.5</td><td>null</td><td>112500.0</td><td>&quot;11&quot;</td><td>null</td><td>-301</td><td>12</td><td>-271</td><td>null</td><td>null</td><td>1</td><td>44284.328125</td><td>0.027047</td><td>0.324557</td><td>9.059016</td><td>0.110379</td><td>0.824505</td><td>-23944.5</td><td>0.999991</td><td>0.0</td><td>0.824505</td><td>-23944.5</td></tr><tr><td>2819243</td><td>&quot;Cash loans&quot;</td><td>&quot;XNA&quot;</td><td>&quot;Approved&quot;</td><td>&quot;Cash through t…</td><td>&quot;XAP&quot;</td><td>&quot;Repeater&quot;</td><td>&quot;Cash&quot;</td><td>&quot;x-sell&quot;</td><td>&quot;Credit and cas…</td><td>&quot;XNA&quot;</td><td>&quot;middle&quot;</td><td>&quot;Cash X-Sell&quot;</td><td>1</td><td>0</td><td>0</td><td>0</td><td>0</td><td>1</td><td>0</td><td>1</td><td>0</td><td>0</td><td>0</td><td>1</td><td>0</td><td>0</td><td>0</td><td>1</td><td>0</td><td>0</td><td>0</td><td>1</td><td>0</td><td>0</td><td>1</td><td>0</td><td>&hellip;</td><td>0</td><td>0</td><td>1</td><td>0</td><td>0</td><td>0</td><td>1</td><td>0</td><td>0</td><td>0</td><td>0</td><td>0</td><td>176158</td><td>47041.335938</td><td>450000.0</td><td>470790.0</td><td>null</td><td>450000.0</td><td>&quot;7&quot;</td><td>null</td><td>-512</td><td>12</td><td>-482</td><td>-182</td><td>-177</td><td>1</td><td>93706.0</td><td>0.016587</td><td>0.199039</td><td>10.007794</td><td>0.09992</td><td>0.955838</td><td>-20790.0</td><td>0.999998</td><td>0.0</td><td>0.955838</td><td>-20790.0</td></tr><tr><td>1784265</td><td>&quot;Cash loans&quot;</td><td>&quot;Repairs&quot;</td><td>&quot;Refused&quot;</td><td>&quot;Cash through t…</td><td>&quot;HC&quot;</td><td>&quot;Repeater&quot;</td><td>&quot;Cash&quot;</td><td>&quot;walk-in&quot;</td><td>&quot;Credit and cas…</td><td>&quot;XNA&quot;</td><td>&quot;high&quot;</td><td>&quot;Cash Street&quot;</td><td>1</td><td>0</td><td>0</td><td>0</td><td>0</td><td>0</td><td>1</td><td>0</td><td>0</td><td>1</td><td>0</td><td>1</td><td>0</td><td>0</td><td>1</td><td>0</td><td>0</td><td>0</td><td>0</td><td>1</td><td>0</td><td>0</td><td>1</td><td>0</td><td>&hellip;</td><td>0</td><td>0</td><td>0</td><td>0</td><td>0</td><td>1</td><td>0</td><td>0</td><td>0</td><td>0</td><td>0</td><td>0</td><td>202054</td><td>31924.394531</td><td>337500.0</td><td>404055.0</td><td>null</td><td>337500.0</td><td>&quot;9&quot;</td><td>null</td><td>-781</td><td>24</td><td>null</td><td>null</td><td>null</td><td>null</td><td>362130.5</td><td>0.037343</td><td>0.896238</td><td>12.656226</td><td>0.07901</td><td>0.83528</td><td>-66555.0</td><td>0.999997</td><td>0.0</td><td>0.83528</td><td>-66555.0</td></tr></tbody></table></div>"
      ],
      "text/plain": [
       "shape: (5, 90)\n",
       "┌───────────┬───────────┬───────────┬───────────┬───┬───────────┬───────────┬───────────┬──────────┐\n",
       "│ SK_ID_PRE ┆ NAME_CONT ┆ NAME_CASH ┆ NAME_CONT ┆ … ┆ GOODS_APP ┆ GOODS_APP ┆ APPLICATI ┆ APPLICAT │\n",
       "│ V         ┆ RACT_TYPE ┆ _LOAN_PUR ┆ RACT_STAT ┆   ┆ LICATION_ ┆ LICATION_ ┆ ON_CREDIT ┆ ION_CRED │\n",
       "│ ---       ┆ ---       ┆ POSE      ┆ US        ┆   ┆ RATIO     ┆ DIFF      ┆ _RATIO    ┆ IT_DIFF  │\n",
       "│ i32       ┆ cat       ┆ ---       ┆ ---       ┆   ┆ ---       ┆ ---       ┆ ---       ┆ ---      │\n",
       "│           ┆           ┆ cat       ┆ cat       ┆   ┆ f64       ┆ f32       ┆ f64       ┆ f32      │\n",
       "╞═══════════╪═══════════╪═══════════╪═══════════╪═══╪═══════════╪═══════════╪═══════════╪══════════╡\n",
       "│ 2030495   ┆ Consumer  ┆ XAP       ┆ Approved  ┆ … ┆ 0.999942  ┆ 0.0       ┆ 0.999942  ┆ 0.0      │\n",
       "│           ┆ loans     ┆           ┆           ┆   ┆           ┆           ┆           ┆          │\n",
       "│ 2802425   ┆ Cash      ┆ XNA       ┆ Approved  ┆ … ┆ 0.999998  ┆ 0.0       ┆ 0.893813  ┆ -72171.0 │\n",
       "│           ┆ loans     ┆           ┆           ┆   ┆           ┆           ┆           ┆          │\n",
       "│ 2523466   ┆ Cash      ┆ XNA       ┆ Approved  ┆ … ┆ 0.999991  ┆ 0.0       ┆ 0.824505  ┆ -23944.5 │\n",
       "│           ┆ loans     ┆           ┆           ┆   ┆           ┆           ┆           ┆          │\n",
       "│ 2819243   ┆ Cash      ┆ XNA       ┆ Approved  ┆ … ┆ 0.999998  ┆ 0.0       ┆ 0.955838  ┆ -20790.0 │\n",
       "│           ┆ loans     ┆           ┆           ┆   ┆           ┆           ┆           ┆          │\n",
       "│ 1784265   ┆ Cash      ┆ Repairs   ┆ Refused   ┆ … ┆ 0.999997  ┆ 0.0       ┆ 0.83528   ┆ -66555.0 │\n",
       "│           ┆ loans     ┆           ┆           ┆   ┆           ┆           ┆           ┆          │\n",
       "└───────────┴───────────┴───────────┴───────────┴───┴───────────┴───────────┴───────────┴──────────┘"
      ]
     },
     "execution_count": 21,
     "metadata": {},
     "output_type": "execute_result"
    }
   ],
   "source": [
    "def custom_combiner(feature, category):\n",
    "    if str(category) == \"infrequent_sklearn\":\n",
    "        name = \"OHE_\" + str(feature).split(\"_\", 1)[-1] + \"_RARE\"\n",
    "    else:\n",
    "        name = (\n",
    "            \"OHE_\"\n",
    "            + str(feature).split(\"_\", 1)[-1]\n",
    "            + \"_\"\n",
    "            + str(category)\n",
    "            .upper()\n",
    "            .replace(\"/ \", \"\")\n",
    "            .replace(\" \", \"_\")\n",
    "            .replace(\"-\", \"_\")\n",
    "        )\n",
    "    return name\n",
    "\n",
    "\n",
    "cat_columns = [\n",
    "    col\n",
    "    for col in prev.columns\n",
    "    if any(sub in col for sub in [\"NAME_\", \"PRODUCT_\", \"CODE_\", \"_TYPE\"])\n",
    "]\n",
    "ohe_pipe = ColumnTransformer(\n",
    "    [\n",
    "        (\n",
    "            \"ohe\",\n",
    "            OneHotEncoder(\n",
    "                min_frequency=0.05,\n",
    "                sparse_output=False,\n",
    "                dtype=np.int8,\n",
    "                feature_name_combiner=custom_combiner,\n",
    "            ),\n",
    "            cat_columns,\n",
    "        ),\n",
    "    ],\n",
    "    remainder=\"passthrough\",\n",
    "    verbose_feature_names_out=False,\n",
    ").set_output(transform=\"polars\")\n",
    "ohe_pipe.fit(prev.filter(c.SK_ID_CURR.is_in(idx_train)))\n",
    "prev = prev.select([\"SK_ID_PREV\"] + cat_columns).join(\n",
    "    other=ohe_pipe.transform(prev),\n",
    "    on=\"SK_ID_PREV\",\n",
    "    how=\"left\",\n",
    ")\n",
    "prev.head()"
   ]
  },
  {
   "cell_type": "markdown",
   "metadata": {},
   "source": [
    "Again, function is written to enable aggregations over data grouped by different columns."
   ]
  },
  {
   "cell_type": "code",
   "execution_count": 22,
   "metadata": {},
   "outputs": [],
   "source": [
    "def previous_aggregations_func(\n",
    "    df: pl.DataFrame, suffix: str = \"\", left_df: pl.DataFrame = None\n",
    ") -> pl.DataFrame:\n",
    "    \"\"\"Function to aggregate previous applications data and optionally add\n",
    "    suffix to new columns or join with other dataframe.\"\"\"\n",
    "    agg_df = df.group_by(\"SK_ID_CURR\").agg(\n",
    "        cs.contains(\"OHE_\").sum().name.suffix(\"_CNT\"),\n",
    "        cs.contains([\"DAYS_\", \"CNT_\"]).mean().round().name.suffix(\"_AVG\"),\n",
    "        cs.contains([\"DAYS_\", \"CNT_\"]).median().name.suffix(\"_MEDIAN\"),\n",
    "        cs.contains([\"DAYS_\", \"CNT_\"]).max().name.suffix(\"_MAX\"),\n",
    "        cs.contains([\"AMT_\", \"RATE_\", \"_RATIO\", \"_DIFF\", \"INTEREST_\"])\n",
    "        .max()\n",
    "        .name.suffix(\"_MAX\"),\n",
    "        cs.contains([\"AMT_\", \"RATE_\", \"_RATIO\", \"_DIFF\", \"INTEREST_\"])\n",
    "        .min()\n",
    "        .name.suffix(\"_MIN\"),\n",
    "        cs.contains([\"AMT_\", \"RATE_\", \"_RATIO\", \"_DIFF\", \"INTEREST_\"])\n",
    "        .mean()\n",
    "        .name.suffix(\"_AVG\"),\n",
    "        CNT_APPLS=c.SK_ID_CURR.count(),\n",
    "    )\n",
    "    agg_df = agg_df.rename(\n",
    "        lambda col: col + suffix if col != \"SK_ID_CURR\" else col\n",
    "    )\n",
    "    if left_df is not None:\n",
    "        agg_df = left_df.join(other=agg_df, on=\"SK_ID_CURR\", how=\"left\")\n",
    "    return agg_df"
   ]
  },
  {
   "cell_type": "markdown",
   "metadata": {},
   "source": [
    "Finally aggregations over previous application data are run and joined to form a dataset of 964 features."
   ]
  },
  {
   "cell_type": "code",
   "execution_count": 23,
   "metadata": {},
   "outputs": [
    {
     "data": {
      "text/html": [
       "<div><style>\n",
       ".dataframe > thead > tr,\n",
       ".dataframe > tbody > tr {\n",
       "  text-align: right;\n",
       "  white-space: pre-wrap;\n",
       "}\n",
       "</style>\n",
       "<small>shape: (5, 965)</small><table border=\"1\" class=\"dataframe\"><thead><tr><th>SK_ID_CURR</th><th>NAME_CONTRACT_TYPE_LAST</th><th>NAME_CASH_LOAN_PURPOSE_LAST</th><th>NAME_CONTRACT_STATUS_LAST</th><th>NAME_PAYMENT_TYPE_LAST</th><th>CODE_REJECT_REASON_LAST</th><th>NAME_CLIENT_TYPE_LAST</th><th>NAME_PORTFOLIO_LAST</th><th>NAME_PRODUCT_TYPE_LAST</th><th>CHANNEL_TYPE_LAST</th><th>NAME_SELLER_INDUSTRY_LAST</th><th>NAME_YIELD_GROUP_LAST</th><th>PRODUCT_COMBINATION_LAST</th><th>AMT_ANNUITY_LAST</th><th>AMT_APPLICATION_LAST</th><th>AMT_CREDIT_LAST</th><th>AMT_DOWN_PAYMENT_LAST</th><th>AMT_GOODS_PRICE_LAST</th><th>HOUR_APPR_PROCESS_START_LAST</th><th>RATE_DOWN_PAYMENT_LAST</th><th>DAYS_DECISION_LAST</th><th>CNT_PAYMENT_LAST</th><th>DAYS_FIRST_DUE_LAST</th><th>DAYS_LAST_DUE_LAST</th><th>DAYS_TERMINATION_LAST</th><th>NFLAG_INSURED_ON_APPROVAL_LAST</th><th>INTEREST_LAST</th><th>INTEREST_RATE_LAST</th><th>INTEREST_SHARE_LAST</th><th>CREDIT_ANNUITY_RATIO_LAST</th><th>ANNUITY_CREDIT_RATIO_LAST</th><th>GOODS_CREDIT_RATIO_LAST</th><th>GOODS_CREDIT_DIFF_LAST</th><th>GOODS_APPLICATION_RATIO_LAST</th><th>GOODS_APPLICATION_DIFF_LAST</th><th>APPLICATION_CREDIT_RATIO_LAST</th><th>APPLICATION_CREDIT_DIFF_LAST</th><th>&hellip;</th><th>GOODS_APPLICATION_RATIO_MAX_3LAST</th><th>GOODS_APPLICATION_DIFF_MAX_3LAST</th><th>APPLICATION_CREDIT_RATIO_MAX_3LAST</th><th>APPLICATION_CREDIT_DIFF_MAX_3LAST</th><th>AMT_ANNUITY_MIN_3LAST</th><th>AMT_APPLICATION_MIN_3LAST</th><th>AMT_CREDIT_MIN_3LAST</th><th>AMT_DOWN_PAYMENT_MIN_3LAST</th><th>AMT_GOODS_PRICE_MIN_3LAST</th><th>RATE_DOWN_PAYMENT_MIN_3LAST</th><th>INTEREST_RATE_MIN_3LAST</th><th>INTEREST_SHARE_MIN_3LAST</th><th>CREDIT_ANNUITY_RATIO_MIN_3LAST</th><th>ANNUITY_CREDIT_RATIO_MIN_3LAST</th><th>GOODS_CREDIT_RATIO_MIN_3LAST</th><th>GOODS_CREDIT_DIFF_MIN_3LAST</th><th>GOODS_APPLICATION_RATIO_MIN_3LAST</th><th>GOODS_APPLICATION_DIFF_MIN_3LAST</th><th>APPLICATION_CREDIT_RATIO_MIN_3LAST</th><th>APPLICATION_CREDIT_DIFF_MIN_3LAST</th><th>AMT_ANNUITY_AVG_3LAST</th><th>AMT_APPLICATION_AVG_3LAST</th><th>AMT_CREDIT_AVG_3LAST</th><th>AMT_DOWN_PAYMENT_AVG_3LAST</th><th>AMT_GOODS_PRICE_AVG_3LAST</th><th>RATE_DOWN_PAYMENT_AVG_3LAST</th><th>INTEREST_RATE_AVG_3LAST</th><th>INTEREST_SHARE_AVG_3LAST</th><th>CREDIT_ANNUITY_RATIO_AVG_3LAST</th><th>ANNUITY_CREDIT_RATIO_AVG_3LAST</th><th>GOODS_CREDIT_RATIO_AVG_3LAST</th><th>GOODS_CREDIT_DIFF_AVG_3LAST</th><th>GOODS_APPLICATION_RATIO_AVG_3LAST</th><th>GOODS_APPLICATION_DIFF_AVG_3LAST</th><th>APPLICATION_CREDIT_RATIO_AVG_3LAST</th><th>APPLICATION_CREDIT_DIFF_AVG_3LAST</th><th>CNT_APPLS_3LAST</th></tr><tr><td>i32</td><td>cat</td><td>cat</td><td>cat</td><td>cat</td><td>cat</td><td>cat</td><td>cat</td><td>cat</td><td>cat</td><td>cat</td><td>cat</td><td>cat</td><td>f32</td><td>f32</td><td>f32</td><td>f32</td><td>f32</td><td>enum</td><td>f32</td><td>i16</td><td>i16</td><td>i16</td><td>i16</td><td>i16</td><td>i8</td><td>f32</td><td>f64</td><td>f64</td><td>f64</td><td>f64</td><td>f64</td><td>f32</td><td>f64</td><td>f32</td><td>f64</td><td>f32</td><td>&hellip;</td><td>f64</td><td>f32</td><td>f64</td><td>f32</td><td>f32</td><td>f32</td><td>f32</td><td>f32</td><td>f32</td><td>f32</td><td>f64</td><td>f64</td><td>f64</td><td>f64</td><td>f64</td><td>f32</td><td>f64</td><td>f32</td><td>f64</td><td>f32</td><td>f32</td><td>f32</td><td>f32</td><td>f32</td><td>f32</td><td>f32</td><td>f64</td><td>f64</td><td>f64</td><td>f64</td><td>f64</td><td>f32</td><td>f64</td><td>f32</td><td>f64</td><td>f32</td><td>u32</td></tr></thead><tbody><tr><td>332209</td><td>&quot;Cash loans&quot;</td><td>&quot;XNA&quot;</td><td>&quot;Refused&quot;</td><td>&quot;Cash through t…</td><td>&quot;HC&quot;</td><td>&quot;Repeater&quot;</td><td>&quot;Cash&quot;</td><td>&quot;x-sell&quot;</td><td>&quot;AP+ (Cash loan…</td><td>&quot;XNA&quot;</td><td>&quot;high&quot;</td><td>&quot;Cash X-Sell&quot;</td><td>27729.449219</td><td>360000.0</td><td>409896.0</td><td>null</td><td>360000.0</td><td>&quot;10&quot;</td><td>null</td><td>-749</td><td>36</td><td>null</td><td>null</td><td>null</td><td>null</td><td>588364.1875</td><td>0.039872</td><td>1.0</td><td>14.781441</td><td>0.06765</td><td>0.878269</td><td>-49896.0</td><td>0.999997</td><td>0.0</td><td>0.878269</td><td>-49896.0</td><td>&hellip;</td><td>0.999998</td><td>0.0</td><td>0.884419</td><td>-49896.0</td><td>24487.650391</td><td>360000.0</td><td>409896.0</td><td>0.0</td><td>360000.0</td><td>0.0</td><td>0.015002</td><td>0.540079</td><td>14.781441</td><td>0.04278</td><td>0.878269</td><td>-66159.0</td><td>0.999997</td><td>0.0</td><td>0.878269</td><td>-66159.0</td><td>27226.546875</td><td>416250.0</td><td>472606.5</td><td>0.0</td><td>416250.0</td><td>0.0</td><td>0.031582</td><td>0.846693</td><td>17.645792</td><td>0.05936</td><td>0.880319</td><td>-56356.5</td><td>0.999998</td><td>0.0</td><td>0.880319</td><td>-56356.5</td><td>3</td></tr><tr><td>289991</td><td>&quot;Revolving loan…</td><td>&quot;XAP&quot;</td><td>&quot;Approved&quot;</td><td>&quot;XNA&quot;</td><td>&quot;XAP&quot;</td><td>&quot;Refreshed&quot;</td><td>&quot;Cards&quot;</td><td>&quot;walk-in&quot;</td><td>&quot;Regional / Loc…</td><td>&quot;Consumer elect…</td><td>&quot;XNA&quot;</td><td>&quot;Card Street&quot;</td><td>2250.0</td><td>45000.0</td><td>45000.0</td><td>null</td><td>45000.0</td><td>&quot;9&quot;</td><td>null</td><td>-300</td><td>0</td><td>null</td><td>null</td><td>null</td><td>0</td><td>0.0</td><td>0.0</td><td>0.0</td><td>19.991115</td><td>0.049999</td><td>0.999978</td><td>0.0</td><td>0.999978</td><td>0.0</td><td>0.999978</td><td>0.0</td><td>&hellip;</td><td>0.999998</td><td>0.0</td><td>1.013225</td><td>1786.5</td><td>2250.0</td><td>45000.0</td><td>45000.0</td><td>0.0</td><td>45000.0</td><td>0.0</td><td>0.0</td><td>0.0</td><td>9.371421</td><td>0.049999</td><td>0.883387</td><td>-57501.0</td><td>0.999978</td><td>0.0</td><td>0.883387</td><td>-57501.0</td><td>14044.831055</td><td>205800.0</td><td>224371.5</td><td>6975.0</td><td>205800.0</td><td>0.050995</td><td>0.011123</td><td>0.173493</td><td>16.23845</td><td>0.069456</td><td>0.96553</td><td>-18571.5</td><td>0.999989</td><td>0.0</td><td>0.96553</td><td>-18571.5</td><td>3</td></tr><tr><td>111610</td><td>&quot;Revolving loan…</td><td>&quot;XAP&quot;</td><td>&quot;Refused&quot;</td><td>&quot;XNA&quot;</td><td>&quot;HC&quot;</td><td>&quot;Repeater&quot;</td><td>&quot;Cards&quot;</td><td>&quot;walk-in&quot;</td><td>&quot;Country-wide&quot;</td><td>&quot;Consumer elect…</td><td>&quot;XNA&quot;</td><td>&quot;Card Street&quot;</td><td>2250.0</td><td>45000.0</td><td>45000.0</td><td>null</td><td>45000.0</td><td>&quot;15&quot;</td><td>null</td><td>-33</td><td>0</td><td>null</td><td>null</td><td>null</td><td>null</td><td>0.0</td><td>0.0</td><td>0.0</td><td>19.991115</td><td>0.049999</td><td>0.999978</td><td>0.0</td><td>0.999978</td><td>0.0</td><td>0.999978</td><td>0.0</td><td>&hellip;</td><td>0.999978</td><td>0.0</td><td>0.999978</td><td>0.0</td><td>2122.514893</td><td>11695.5</td><td>11695.5</td><td>0.0</td><td>11695.5</td><td>0.0</td><td>0.0</td><td>0.0</td><td>5.507614</td><td>0.049999</td><td>0.999915</td><td>0.0</td><td>0.999915</td><td>0.0</td><td>0.999915</td><td>0.0</td><td>2207.504883</td><td>33898.5</td><td>33898.5</td><td>0.0</td><td>33898.5</td><td>0.0</td><td>0.004938</td><td>0.029627</td><td>15.163281</td><td>0.093821</td><td>0.999957</td><td>0.0</td><td>0.999957</td><td>0.0</td><td>0.999957</td><td>0.0</td><td>3</td></tr><tr><td>273235</td><td>&quot;Cash loans&quot;</td><td>&quot;XNA&quot;</td><td>&quot;Canceled&quot;</td><td>&quot;XNA&quot;</td><td>&quot;XAP&quot;</td><td>&quot;Repeater&quot;</td><td>&quot;XNA&quot;</td><td>&quot;XNA&quot;</td><td>&quot;Credit and cas…</td><td>&quot;XNA&quot;</td><td>&quot;XNA&quot;</td><td>&quot;Cash&quot;</td><td>null</td><td>0.0</td><td>0.0</td><td>null</td><td>null</td><td>&quot;13&quot;</td><td>null</td><td>-60</td><td>null</td><td>null</td><td>null</td><td>null</td><td>null</td><td>null</td><td>null</td><td>null</td><td>null</td><td>null</td><td>null</td><td>null</td><td>null</td><td>null</td><td>0.0</td><td>0.0</td><td>&hellip;</td><td>0.999997</td><td>0.0</td><td>0.834722</td><td>0.0</td><td>20224.800781</td><td>0.0</td><td>0.0</td><td>null</td><td>328500.0</td><td>null</td><td>0.023614</td><td>0.850095</td><td>19.457474</td><td>0.051391</td><td>0.834722</td><td>-65043.0</td><td>0.999997</td><td>0.0</td><td>0.0</td><td>-65043.0</td><td>20224.800781</td><td>109500.0</td><td>131181.0</td><td>null</td><td>328500.0</td><td>null</td><td>0.023614</td><td>0.850095</td><td>19.457474</td><td>0.051391</td><td>0.834722</td><td>-65043.0</td><td>0.999997</td><td>0.0</td><td>0.278241</td><td>-21681.0</td><td>3</td></tr><tr><td>411122</td><td>&quot;Cash loans&quot;</td><td>&quot;XNA&quot;</td><td>&quot;Refused&quot;</td><td>&quot;XNA&quot;</td><td>&quot;HC&quot;</td><td>&quot;Repeater&quot;</td><td>&quot;Cash&quot;</td><td>&quot;x-sell&quot;</td><td>&quot;Contact center…</td><td>&quot;XNA&quot;</td><td>&quot;high&quot;</td><td>&quot;Cash X-Sell&quot;</td><td>58379.578125</td><td>783000.0</td><td>836743.5</td><td>null</td><td>783000.0</td><td>&quot;14&quot;</td><td>null</td><td>-497</td><td>24</td><td>null</td><td>null</td><td>null</td><td>null</td><td>564366.375</td><td>0.028103</td><td>0.674479</td><td>14.332566</td><td>0.06977</td><td>0.93577</td><td>-53743.5</td><td>0.999999</td><td>0.0</td><td>0.93577</td><td>-53743.5</td><td>&hellip;</td><td>0.999999</td><td>0.0</td><td>0.93577</td><td>-53743.5</td><td>27424.710938</td><td>720000.0</td><td>818842.5</td><td>null</td><td>720000.0</td><td>null</td><td>0.012573</td><td>0.674479</td><td>14.332566</td><td>0.02924</td><td>0.873211</td><td>-118917.0</td><td>0.999999</td><td>0.0</td><td>0.873211</td><td>-118917.0</td><td>42824.730469</td><td>774000.0</td><td>864501.0</td><td>null</td><td>774000.0</td><td>null</td><td>0.023984</td><td>0.809626</td><td>22.57358</td><td>0.050373</td><td>0.89609</td><td>-90501.0</td><td>0.999999</td><td>0.0</td><td>0.89609</td><td>-90501.0</td><td>3</td></tr></tbody></table></div>"
      ],
      "text/plain": [
       "shape: (5, 965)\n",
       "┌───────────┬───────────┬───────────┬───────────┬───┬───────────┬───────────┬───────────┬──────────┐\n",
       "│ SK_ID_CUR ┆ NAME_CONT ┆ NAME_CASH ┆ NAME_CONT ┆ … ┆ GOODS_APP ┆ APPLICATI ┆ APPLICATI ┆ CNT_APPL │\n",
       "│ R         ┆ RACT_TYPE ┆ _LOAN_PUR ┆ RACT_STAT ┆   ┆ LICATION_ ┆ ON_CREDIT ┆ ON_CREDIT ┆ S_3LAST  │\n",
       "│ ---       ┆ _LAST     ┆ POSE_LAST ┆ US_LAST   ┆   ┆ DIFF_AVG_ ┆ _RATIO_AV ┆ _DIFF_AVG ┆ ---      │\n",
       "│ i32       ┆ ---       ┆ ---       ┆ ---       ┆   ┆ 3LAST     ┆ G_3LA…    ┆ _3LAS…    ┆ u32      │\n",
       "│           ┆ cat       ┆ cat       ┆ cat       ┆   ┆ ---       ┆ ---       ┆ ---       ┆          │\n",
       "│           ┆           ┆           ┆           ┆   ┆ f32       ┆ f64       ┆ f32       ┆          │\n",
       "╞═══════════╪═══════════╪═══════════╪═══════════╪═══╪═══════════╪═══════════╪═══════════╪══════════╡\n",
       "│ 332209    ┆ Cash      ┆ XNA       ┆ Refused   ┆ … ┆ 0.0       ┆ 0.880319  ┆ -56356.5  ┆ 3        │\n",
       "│           ┆ loans     ┆           ┆           ┆   ┆           ┆           ┆           ┆          │\n",
       "│ 289991    ┆ Revolving ┆ XAP       ┆ Approved  ┆ … ┆ 0.0       ┆ 0.96553   ┆ -18571.5  ┆ 3        │\n",
       "│           ┆ loans     ┆           ┆           ┆   ┆           ┆           ┆           ┆          │\n",
       "│ 111610    ┆ Revolving ┆ XAP       ┆ Refused   ┆ … ┆ 0.0       ┆ 0.999957  ┆ 0.0       ┆ 3        │\n",
       "│           ┆ loans     ┆           ┆           ┆   ┆           ┆           ┆           ┆          │\n",
       "│ 273235    ┆ Cash      ┆ XNA       ┆ Canceled  ┆ … ┆ 0.0       ┆ 0.278241  ┆ -21681.0  ┆ 3        │\n",
       "│           ┆ loans     ┆           ┆           ┆   ┆           ┆           ┆           ┆          │\n",
       "│ 411122    ┆ Cash      ┆ XNA       ┆ Refused   ┆ … ┆ 0.0       ┆ 0.89609   ┆ -90501.0  ┆ 3        │\n",
       "│           ┆ loans     ┆           ┆           ┆   ┆           ┆           ┆           ┆          │\n",
       "└───────────┴───────────┴───────────┴───────────┴───┴───────────┴───────────┴───────────┴──────────┘"
      ]
     },
     "execution_count": 23,
     "metadata": {},
     "output_type": "execute_result"
    }
   ],
   "source": [
    "prev_agg = prev.group_by(\"SK_ID_CURR\").agg(\n",
    "    (cs.all() - cs.contains([\"SK_ID_\", \"OHE_\"]))\n",
    "    .filter(c.DAYS_DECISION == c.DAYS_DECISION.max())\n",
    "    .first()\n",
    "    .name.suffix(\"_LAST\")\n",
    ")\n",
    "prev_agg = previous_aggregations_func(prev, \"_ALL\", prev_agg)\n",
    "prev_agg = prev.filter(c.NAME_CONTRACT_TYPE == \"Consumer loans\").pipe(\n",
    "    previous_aggregations_func, \"_CONSUMER\", prev_agg\n",
    ")\n",
    "prev_agg = prev.filter(c.NAME_CONTRACT_TYPE == \"Cash loans\").pipe(\n",
    "    previous_aggregations_func, \"_CASH\", prev_agg\n",
    ")\n",
    "prev_agg = prev.filter(c.NAME_CONTRACT_TYPE == \"Revolving loans\").pipe(\n",
    "    previous_aggregations_func, \"_REVOLVING\", prev_agg\n",
    ")\n",
    "prev_agg = prev.filter(c.NAME_CONTRACT_STATUS == \"Approved\").pipe(\n",
    "    previous_aggregations_func, \"_APPROVED\", prev_agg\n",
    ")\n",
    "prev_agg = prev.filter(c.NAME_CONTRACT_STATUS == \"Refused\").pipe(\n",
    "    previous_aggregations_func, \"_REFUSED\", prev_agg\n",
    ")\n",
    "prev_agg = (\n",
    "    prev.sort(c.DAYS_DECISION, descending=True)\n",
    "    .group_by(\"SK_ID_CURR\")\n",
    "    .head(5)\n",
    "    .pipe(previous_aggregations_func, \"_5LAST\", prev_agg)\n",
    ")\n",
    "prev_agg = (\n",
    "    prev.sort(c.DAYS_DECISION, descending=True)\n",
    "    .group_by(\"SK_ID_CURR\")\n",
    "    .head(3)\n",
    "    .pipe(previous_aggregations_func, \"_3LAST\", prev_agg)\n",
    ")\n",
    "prev_agg.head()"
   ]
  },
  {
   "cell_type": "markdown",
   "metadata": {},
   "source": [
    "Since there are still categorical features in the dataset, target encoding is used to enable elimination of multicollinear and unimportant features."
   ]
  },
  {
   "cell_type": "code",
   "execution_count": 24,
   "metadata": {},
   "outputs": [],
   "source": [
    "enc_pipe = ColumnTransformer(\n",
    "    [\n",
    "        (\n",
    "            \"target_enc\",\n",
    "            TargetEncoder(target_type=\"binary\", random_state=42),\n",
    "            make_column_selector(dtype_include=\"category\"),\n",
    "        ),\n",
    "    ],\n",
    "    remainder=\"passthrough\",\n",
    "    verbose_feature_names_out=False,\n",
    ").set_output(transform=\"pandas\")\n",
    "\n",
    "prev_agg_filled = (\n",
    "    prev_agg.filter(c.SK_ID_CURR.is_in(idx_train))\n",
    "    .fill_null(value=0)\n",
    "    .fill_nan(value=0)\n",
    "    .join(**appls_join)\n",
    "    .to_pandas()\n",
    ")\n",
    "X_prev = prev_agg_filled.drop(columns=[\"TARGET\", \"SK_ID_CURR\"])\n",
    "y_prev = prev_agg_filled[\"TARGET\"]\n",
    "X_prev = enc_pipe.fit_transform(X_prev, y_prev)"
   ]
  },
  {
   "cell_type": "code",
   "execution_count": 25,
   "metadata": {},
   "outputs": [
    {
     "name": "stdout",
     "output_type": "stream",
     "text": [
      "Number of quasi-constant and multicollinear aggregated features to drop: 519\n"
     ]
    }
   ],
   "source": [
    "drop_corr_prev = get_drop_multicollinear(\n",
    "    X_prev, y_prev, \"drop_corr_prev\", refit=False\n",
    ")\n",
    "X_prev = X_prev.drop(columns=drop_corr_prev)"
   ]
  },
  {
   "cell_type": "code",
   "execution_count": 26,
   "metadata": {},
   "outputs": [
    {
     "name": "stdout",
     "output_type": "stream",
     "text": [
      "Number of unimportant aggregated features to drop using Boruta: 174\n",
      "Number of selected features: 271\n"
     ]
    }
   ],
   "source": [
    "drop_boruta_prev = get_drop_by_boruta(\n",
    "    X_prev, y_prev, \"drop_boruta_prev\", refit=False\n",
    ")\n",
    "X_prev = X_prev.drop(columns=drop_boruta_prev)\n",
    "prev_col_num = X_prev.shape[1]\n",
    "print(f\"Number of selected features: {prev_col_num}\")"
   ]
  },
  {
   "cell_type": "markdown",
   "metadata": {},
   "source": [
    "Finally, 271 aggregated feature for previous application data is saved for later use. Note, that missing values are not imputed with 0 and categorical features are not encoded in the saved table."
   ]
  },
  {
   "cell_type": "code",
   "execution_count": 27,
   "metadata": {},
   "outputs": [],
   "source": [
    "prev_agg.drop(drop_corr_prev + drop_boruta_prev).write_csv(\n",
    "    \"./data_agg/prev_agg.csv\"\n",
    ")"
   ]
  },
  {
   "cell_type": "code",
   "execution_count": 28,
   "metadata": {},
   "outputs": [],
   "source": [
    "del (\n",
    "    prev,\n",
    "    prev_agg,\n",
    "    prev_agg_filled,\n",
    "    X_prev,\n",
    "    y_prev,\n",
    ")"
   ]
  },
  {
   "cell_type": "markdown",
   "metadata": {},
   "source": [
    "### 3.4. <a id='toc3_4_'></a>Balance of Previous Point of Sales and Cash Loans from Home Credit  [&#8593;](#toc0_)"
   ]
  },
  {
   "cell_type": "markdown",
   "metadata": {},
   "source": [
    "Before aggregation, missing values in a single categorical column from POS and cash loan balance data are filled with XNA."
   ]
  },
  {
   "cell_type": "code",
   "execution_count": 29,
   "metadata": {},
   "outputs": [
    {
     "name": "stdout",
     "output_type": "stream",
     "text": [
      "Size before cleaning: 689.24 MB\n",
      "Size after cleaning: 690.43 MB\n",
      "Number of columns left: 8\n",
      "Size before memory reduction: 690.43 MB\n",
      "Initial data types Counter({Int64: 7, String: 1})\n",
      "Size after memory reduction: 251.57 MB\n",
      "Final data types Counter({Int32: 4, Int16: 3, Categorical(ordering='physical'): 1})\n"
     ]
    },
    {
     "data": {
      "text/html": [
       "<div><style>\n",
       ".dataframe > thead > tr,\n",
       ".dataframe > tbody > tr {\n",
       "  text-align: right;\n",
       "  white-space: pre-wrap;\n",
       "}\n",
       "</style>\n",
       "<small>shape: (5, 8)</small><table border=\"1\" class=\"dataframe\"><thead><tr><th>SK_ID_PREV</th><th>SK_ID_CURR</th><th>MONTHS_BALANCE</th><th>CNT_INSTALMENT</th><th>CNT_INSTALMENT_FUTURE</th><th>NAME_CONTRACT_STATUS</th><th>SK_DPD</th><th>SK_DPD_DEF</th></tr><tr><td>i32</td><td>i32</td><td>i16</td><td>i16</td><td>i16</td><td>cat</td><td>i32</td><td>i32</td></tr></thead><tbody><tr><td>1803195</td><td>182943</td><td>-31</td><td>48</td><td>45</td><td>&quot;Active&quot;</td><td>0</td><td>0</td></tr><tr><td>1715348</td><td>367990</td><td>-33</td><td>36</td><td>35</td><td>&quot;Active&quot;</td><td>0</td><td>0</td></tr><tr><td>1784872</td><td>397406</td><td>-32</td><td>12</td><td>9</td><td>&quot;Active&quot;</td><td>0</td><td>0</td></tr><tr><td>1903291</td><td>269225</td><td>-35</td><td>48</td><td>42</td><td>&quot;Active&quot;</td><td>0</td><td>0</td></tr><tr><td>2341044</td><td>334279</td><td>-35</td><td>36</td><td>35</td><td>&quot;Active&quot;</td><td>0</td><td>0</td></tr></tbody></table></div>"
      ],
      "text/plain": [
       "shape: (5, 8)\n",
       "┌────────────┬────────────┬────────────┬────────────┬────────────┬────────────┬────────┬───────────┐\n",
       "│ SK_ID_PREV ┆ SK_ID_CURR ┆ MONTHS_BAL ┆ CNT_INSTAL ┆ CNT_INSTAL ┆ NAME_CONTR ┆ SK_DPD ┆ SK_DPD_DE │\n",
       "│ ---        ┆ ---        ┆ ANCE       ┆ MENT       ┆ MENT_FUTUR ┆ ACT_STATUS ┆ ---    ┆ F         │\n",
       "│ i32        ┆ i32        ┆ ---        ┆ ---        ┆ E          ┆ ---        ┆ i32    ┆ ---       │\n",
       "│            ┆            ┆ i16        ┆ i16        ┆ ---        ┆ cat        ┆        ┆ i32       │\n",
       "│            ┆            ┆            ┆            ┆ i16        ┆            ┆        ┆           │\n",
       "╞════════════╪════════════╪════════════╪════════════╪════════════╪════════════╪════════╪═══════════╡\n",
       "│ 1803195    ┆ 182943     ┆ -31        ┆ 48         ┆ 45         ┆ Active     ┆ 0      ┆ 0         │\n",
       "│ 1715348    ┆ 367990     ┆ -33        ┆ 36         ┆ 35         ┆ Active     ┆ 0      ┆ 0         │\n",
       "│ 1784872    ┆ 397406     ┆ -32        ┆ 12         ┆ 9          ┆ Active     ┆ 0      ┆ 0         │\n",
       "│ 1903291    ┆ 269225     ┆ -35        ┆ 48         ┆ 42         ┆ Active     ┆ 0      ┆ 0         │\n",
       "│ 2341044    ┆ 334279     ┆ -35        ┆ 36         ┆ 35         ┆ Active     ┆ 0      ┆ 0         │\n",
       "└────────────┴────────────┴────────────┴────────────┴────────────┴────────────┴────────┴───────────┘"
      ]
     },
     "execution_count": 29,
     "metadata": {},
     "output_type": "execute_result"
    }
   ],
   "source": [
    "pos_cash = (\n",
    "    pl.read_csv(\"./data/POS_CASH_balance.csv\")\n",
    "    .pipe(credit_data_utils.initial_pos_cash_credit_card_installments_cleaning)\n",
    "    .pipe(credit_data_utils.reduce_memory_usage_pl)\n",
    ")\n",
    "pos_cash = pos_cash.with_columns(c.NAME_CONTRACT_STATUS.fill_null(\"XNA\"))\n",
    "pos_cash.head()"
   ]
  },
  {
   "cell_type": "markdown",
   "metadata": {},
   "source": [
    "First some aggregations are done on individual loans to have information on mean, median, sum, last, minimum or maximum values."
   ]
  },
  {
   "cell_type": "code",
   "execution_count": 30,
   "metadata": {},
   "outputs": [
    {
     "data": {
      "text/html": [
       "<div><style>\n",
       ".dataframe > thead > tr,\n",
       ".dataframe > tbody > tr {\n",
       "  text-align: right;\n",
       "  white-space: pre-wrap;\n",
       "}\n",
       "</style>\n",
       "<small>shape: (5, 17)</small><table border=\"1\" class=\"dataframe\"><thead><tr><th>SK_ID_PREV</th><th>SK_ID_CURR</th><th>MONTHS_BALANCE_LAST</th><th>CNT_INSTALMENT_FUTURE_LAST</th><th>NAME_CONTRACT_STATUS_LAST</th><th>SK_DPD_LAST</th><th>SK_DPD_DEF_LAST</th><th>SK_DPD_MAX</th><th>SK_DPD_DEF_MAX</th><th>SK_DPD_SUM</th><th>SK_DPD_DEF_SUM</th><th>SK_DPD_AVG</th><th>SK_DPD_DEF_AVG</th><th>MONTHS_BALANCE_FIRST</th><th>MONTHS_BALANCE_DURATION</th><th>MONTHS_BALANCE_MEDIAN</th><th>CNT_INSTALMENT_MEDIAN</th></tr><tr><td>i32</td><td>i32</td><td>i16</td><td>i16</td><td>cat</td><td>i32</td><td>i32</td><td>i32</td><td>i32</td><td>i32</td><td>i32</td><td>f64</td><td>f64</td><td>i16</td><td>i16</td><td>f64</td><td>f64</td></tr></thead><tbody><tr><td>1715348</td><td>367990</td><td>-16</td><td>0</td><td>&quot;Completed&quot;</td><td>0</td><td>0</td><td>0</td><td>0</td><td>0</td><td>0</td><td>0.0</td><td>0.0</td><td>-34</td><td>18</td><td>-25.0</td><td>36.0</td></tr><tr><td>2341044</td><td>334279</td><td>-1</td><td>1</td><td>&quot;Active&quot;</td><td>0</td><td>0</td><td>0</td><td>0</td><td>0</td><td>0</td><td>0.0</td><td>0.0</td><td>-36</td><td>35</td><td>-18.5</td><td>36.0</td></tr><tr><td>2207092</td><td>342166</td><td>-20</td><td>0</td><td>&quot;Completed&quot;</td><td>0</td><td>0</td><td>0</td><td>0</td><td>0</td><td>0</td><td>0.0</td><td>0.0</td><td>-32</td><td>12</td><td>-26.0</td><td>12.0</td></tr><tr><td>1387235</td><td>153211</td><td>-1</td><td>2</td><td>&quot;Active&quot;</td><td>0</td><td>0</td><td>0</td><td>0</td><td>0</td><td>0</td><td>0.0</td><td>0.0</td><td>-35</td><td>34</td><td>-18.0</td><td>36.0</td></tr><tr><td>1716688</td><td>405549</td><td>-32</td><td>0</td><td>&quot;Completed&quot;</td><td>0</td><td>0</td><td>0</td><td>0</td><td>0</td><td>0</td><td>0.0</td><td>0.0</td><td>-44</td><td>12</td><td>-38.0</td><td>12.0</td></tr></tbody></table></div>"
      ],
      "text/plain": [
       "shape: (5, 17)\n",
       "┌───────────┬───────────┬───────────┬───────────┬───┬───────────┬───────────┬───────────┬──────────┐\n",
       "│ SK_ID_PRE ┆ SK_ID_CUR ┆ MONTHS_BA ┆ CNT_INSTA ┆ … ┆ MONTHS_BA ┆ MONTHS_BA ┆ MONTHS_BA ┆ CNT_INST │\n",
       "│ V         ┆ R         ┆ LANCE_LAS ┆ LMENT_FUT ┆   ┆ LANCE_FIR ┆ LANCE_DUR ┆ LANCE_MED ┆ ALMENT_M │\n",
       "│ ---       ┆ ---       ┆ T         ┆ URE_LAST  ┆   ┆ ST        ┆ ATION     ┆ IAN       ┆ EDIAN    │\n",
       "│ i32       ┆ i32       ┆ ---       ┆ ---       ┆   ┆ ---       ┆ ---       ┆ ---       ┆ ---      │\n",
       "│           ┆           ┆ i16       ┆ i16       ┆   ┆ i16       ┆ i16       ┆ f64       ┆ f64      │\n",
       "╞═══════════╪═══════════╪═══════════╪═══════════╪═══╪═══════════╪═══════════╪═══════════╪══════════╡\n",
       "│ 1715348   ┆ 367990    ┆ -16       ┆ 0         ┆ … ┆ -34       ┆ 18        ┆ -25.0     ┆ 36.0     │\n",
       "│ 2341044   ┆ 334279    ┆ -1        ┆ 1         ┆ … ┆ -36       ┆ 35        ┆ -18.5     ┆ 36.0     │\n",
       "│ 2207092   ┆ 342166    ┆ -20       ┆ 0         ┆ … ┆ -32       ┆ 12        ┆ -26.0     ┆ 12.0     │\n",
       "│ 1387235   ┆ 153211    ┆ -1        ┆ 2         ┆ … ┆ -35       ┆ 34        ┆ -18.0     ┆ 36.0     │\n",
       "│ 1716688   ┆ 405549    ┆ -32       ┆ 0         ┆ … ┆ -44       ┆ 12        ┆ -38.0     ┆ 12.0     │\n",
       "└───────────┴───────────┴───────────┴───────────┴───┴───────────┴───────────┴───────────┴──────────┘"
      ]
     },
     "execution_count": 30,
     "metadata": {},
     "output_type": "execute_result"
    }
   ],
   "source": [
    "pos_cash_agg_initial = pos_cash.group_by([\"SK_ID_PREV\", \"SK_ID_CURR\"]).agg(\n",
    "    cs.contains([\"SK_DPD\", \"NAME_\", \"MONTHS_\", \"_FUTURE\"])\n",
    "    .filter(c.MONTHS_BALANCE == c.MONTHS_BALANCE.max())\n",
    "    .first()\n",
    "    .name.suffix(\"_LAST\"),\n",
    "    cs.contains(\"SK_DPD\").max().name.suffix(\"_MAX\"),\n",
    "    cs.contains(\"SK_DPD\").sum().name.suffix(\"_SUM\"),\n",
    "    cs.contains(\"SK_DPD\").mean().round().name.suffix(\"_AVG\"),\n",
    "    MONTHS_BALANCE_FIRST=c.MONTHS_BALANCE.min(),\n",
    "    MONTHS_BALANCE_DURATION=c.MONTHS_BALANCE.max() - c.MONTHS_BALANCE.min(),\n",
    "    MONTHS_BALANCE_MEDIAN=c.MONTHS_BALANCE.median(),\n",
    "    CNT_INSTALMENT_MEDIAN=c.CNT_INSTALMENT.median(),\n",
    ")\n",
    "pos_cash_agg_initial.head()"
   ]
  },
  {
   "cell_type": "markdown",
   "metadata": {},
   "source": [
    "Again, function is written to apply aggregations over different groups of data."
   ]
  },
  {
   "cell_type": "code",
   "execution_count": 31,
   "metadata": {},
   "outputs": [],
   "source": [
    "def pos_cash_aggregations_func(\n",
    "    df: pl.DataFrame, suffix: str = \"\", left_df: pl.DataFrame = None\n",
    ") -> pl.DataFrame:\n",
    "    \"\"\"Function to aggregate POS and cash balance data and optionally add\n",
    "    suffix to new columns or join with other dataframe.\"\"\"\n",
    "    agg_df = df.group_by(\"SK_ID_CURR\").agg(\n",
    "        (cs.all() - cs.contains([\"SK_ID_\", \"NAME_\"]))\n",
    "        .mean()\n",
    "        .round()\n",
    "        .name.suffix(\"_AVG\"),\n",
    "        (cs.all() - cs.contains([\"SK_ID_\", \"NAME_\"]))\n",
    "        .median()\n",
    "        .name.suffix(\"_MEDIAN\"),\n",
    "        (cs.all() - cs.contains([\"SK_ID_\", \"NAME_\"]))\n",
    "        .max()\n",
    "        .name.suffix(\"_MAX\"),\n",
    "        (cs.all() - cs.contains([\"SK_ID_\", \"NAME_\"]))\n",
    "        .min()\n",
    "        .name.suffix(\"_MIN\"),\n",
    "        CNT=c.SK_ID_CURR.count(),\n",
    "    )\n",
    "    agg_df = agg_df.rename(\n",
    "        lambda col: col + suffix if col != \"SK_ID_CURR\" else col\n",
    "    )\n",
    "    if left_df is not None:\n",
    "        agg_df = left_df.join(other=agg_df, on=\"SK_ID_CURR\", how=\"left\")\n",
    "    return agg_df"
   ]
  },
  {
   "cell_type": "markdown",
   "metadata": {},
   "source": [
    "These aggregations are applied over the whole dataset and also only on the information from the last two years."
   ]
  },
  {
   "cell_type": "code",
   "execution_count": 32,
   "metadata": {},
   "outputs": [
    {
     "data": {
      "text/html": [
       "<div><style>\n",
       ".dataframe > thead > tr,\n",
       ".dataframe > tbody > tr {\n",
       "  text-align: right;\n",
       "  white-space: pre-wrap;\n",
       "}\n",
       "</style>\n",
       "<small>shape: (5, 347)</small><table border=\"1\" class=\"dataframe\"><thead><tr><th>SK_ID_CURR</th><th>MONTHS_BALANCE_LAST_AVG_ALL</th><th>CNT_INSTALMENT_FUTURE_LAST_AVG_ALL</th><th>SK_DPD_LAST_AVG_ALL</th><th>SK_DPD_DEF_LAST_AVG_ALL</th><th>SK_DPD_MAX_AVG_ALL</th><th>SK_DPD_DEF_MAX_AVG_ALL</th><th>SK_DPD_SUM_AVG_ALL</th><th>SK_DPD_DEF_SUM_AVG_ALL</th><th>SK_DPD_AVG_AVG_ALL</th><th>SK_DPD_DEF_AVG_AVG_ALL</th><th>MONTHS_BALANCE_FIRST_AVG_ALL</th><th>MONTHS_BALANCE_DURATION_AVG_ALL</th><th>MONTHS_BALANCE_MEDIAN_AVG_ALL</th><th>CNT_INSTALMENT_MEDIAN_AVG_ALL</th><th>MONTHS_BALANCE_LAST_MEDIAN_ALL</th><th>CNT_INSTALMENT_FUTURE_LAST_MEDIAN_ALL</th><th>SK_DPD_LAST_MEDIAN_ALL</th><th>SK_DPD_DEF_LAST_MEDIAN_ALL</th><th>SK_DPD_MAX_MEDIAN_ALL</th><th>SK_DPD_DEF_MAX_MEDIAN_ALL</th><th>SK_DPD_SUM_MEDIAN_ALL</th><th>SK_DPD_DEF_SUM_MEDIAN_ALL</th><th>SK_DPD_AVG_MEDIAN_ALL</th><th>SK_DPD_DEF_AVG_MEDIAN_ALL</th><th>MONTHS_BALANCE_FIRST_MEDIAN_ALL</th><th>MONTHS_BALANCE_DURATION_MEDIAN_ALL</th><th>MONTHS_BALANCE_MEDIAN_MEDIAN_ALL</th><th>CNT_INSTALMENT_MEDIAN_MEDIAN_ALL</th><th>MONTHS_BALANCE_LAST_MAX_ALL</th><th>CNT_INSTALMENT_FUTURE_LAST_MAX_ALL</th><th>SK_DPD_LAST_MAX_ALL</th><th>SK_DPD_DEF_LAST_MAX_ALL</th><th>SK_DPD_MAX_MAX_ALL</th><th>SK_DPD_DEF_MAX_MAX_ALL</th><th>SK_DPD_SUM_MAX_ALL</th><th>SK_DPD_DEF_SUM_MAX_ALL</th><th>&hellip;</th><th>MONTHS_BALANCE_FIRST_MEDIAN_NONCOMPLETE_2YRS</th><th>MONTHS_BALANCE_DURATION_MEDIAN_NONCOMPLETE_2YRS</th><th>MONTHS_BALANCE_MEDIAN_MEDIAN_NONCOMPLETE_2YRS</th><th>CNT_INSTALMENT_MEDIAN_MEDIAN_NONCOMPLETE_2YRS</th><th>MONTHS_BALANCE_LAST_MAX_NONCOMPLETE_2YRS</th><th>CNT_INSTALMENT_FUTURE_LAST_MAX_NONCOMPLETE_2YRS</th><th>SK_DPD_LAST_MAX_NONCOMPLETE_2YRS</th><th>SK_DPD_DEF_LAST_MAX_NONCOMPLETE_2YRS</th><th>SK_DPD_MAX_MAX_NONCOMPLETE_2YRS</th><th>SK_DPD_DEF_MAX_MAX_NONCOMPLETE_2YRS</th><th>SK_DPD_SUM_MAX_NONCOMPLETE_2YRS</th><th>SK_DPD_DEF_SUM_MAX_NONCOMPLETE_2YRS</th><th>SK_DPD_AVG_MAX_NONCOMPLETE_2YRS</th><th>SK_DPD_DEF_AVG_MAX_NONCOMPLETE_2YRS</th><th>MONTHS_BALANCE_FIRST_MAX_NONCOMPLETE_2YRS</th><th>MONTHS_BALANCE_DURATION_MAX_NONCOMPLETE_2YRS</th><th>MONTHS_BALANCE_MEDIAN_MAX_NONCOMPLETE_2YRS</th><th>CNT_INSTALMENT_MEDIAN_MAX_NONCOMPLETE_2YRS</th><th>MONTHS_BALANCE_LAST_MIN_NONCOMPLETE_2YRS</th><th>CNT_INSTALMENT_FUTURE_LAST_MIN_NONCOMPLETE_2YRS</th><th>SK_DPD_LAST_MIN_NONCOMPLETE_2YRS</th><th>SK_DPD_DEF_LAST_MIN_NONCOMPLETE_2YRS</th><th>SK_DPD_MAX_MIN_NONCOMPLETE_2YRS</th><th>SK_DPD_DEF_MAX_MIN_NONCOMPLETE_2YRS</th><th>SK_DPD_SUM_MIN_NONCOMPLETE_2YRS</th><th>SK_DPD_DEF_SUM_MIN_NONCOMPLETE_2YRS</th><th>SK_DPD_AVG_MIN_NONCOMPLETE_2YRS</th><th>SK_DPD_DEF_AVG_MIN_NONCOMPLETE_2YRS</th><th>MONTHS_BALANCE_FIRST_MIN_NONCOMPLETE_2YRS</th><th>MONTHS_BALANCE_DURATION_MIN_NONCOMPLETE_2YRS</th><th>MONTHS_BALANCE_MEDIAN_MIN_NONCOMPLETE_2YRS</th><th>CNT_INSTALMENT_MEDIAN_MIN_NONCOMPLETE_2YRS</th><th>CNT_NONCOMPLETE_2YRS</th><th>COMPLETE_ALL_RATIO</th><th>COMPLETE_ALL_2YRS_RATIO</th><th>NONCOMPLETE_ALL_RATIO</th><th>NONCOMPLETE_ALL_2YRS_RATIO</th></tr><tr><td>i32</td><td>f64</td><td>f64</td><td>f64</td><td>f64</td><td>f64</td><td>f64</td><td>f64</td><td>f64</td><td>f64</td><td>f64</td><td>f64</td><td>f64</td><td>f64</td><td>f64</td><td>f64</td><td>f64</td><td>f64</td><td>f64</td><td>f64</td><td>f64</td><td>f64</td><td>f64</td><td>f64</td><td>f64</td><td>f64</td><td>f64</td><td>f64</td><td>f64</td><td>i16</td><td>i16</td><td>i32</td><td>i32</td><td>i32</td><td>i32</td><td>i32</td><td>i32</td><td>&hellip;</td><td>f64</td><td>f64</td><td>f64</td><td>f64</td><td>i16</td><td>i16</td><td>i32</td><td>i32</td><td>i32</td><td>i32</td><td>i32</td><td>i32</td><td>f64</td><td>f64</td><td>i16</td><td>i16</td><td>f64</td><td>f64</td><td>i16</td><td>i16</td><td>i32</td><td>i32</td><td>i32</td><td>i32</td><td>i32</td><td>i32</td><td>f64</td><td>f64</td><td>i16</td><td>i16</td><td>f64</td><td>f64</td><td>u32</td><td>f64</td><td>f64</td><td>f64</td><td>f64</td></tr></thead><tbody><tr><td>376243</td><td>-9.0</td><td>2.0</td><td>0.0</td><td>0.0</td><td>0.0</td><td>0.0</td><td>0.0</td><td>0.0</td><td>0.0</td><td>0.0</td><td>-18.0</td><td>9.0</td><td>-13.0</td><td>11.0</td><td>-9.0</td><td>2.0</td><td>0.0</td><td>0.0</td><td>0.0</td><td>0.0</td><td>0.0</td><td>0.0</td><td>0.0</td><td>0.0</td><td>-17.5</td><td>8.5</td><td>-13.25</td><td>11.0</td><td>-1</td><td>4</td><td>0</td><td>0</td><td>0</td><td>0</td><td>0</td><td>0</td><td>&hellip;</td><td>-8.0</td><td>7.0</td><td>-4.5</td><td>12.0</td><td>-1</td><td>4</td><td>0</td><td>0</td><td>0</td><td>0</td><td>0</td><td>0</td><td>0.0</td><td>0.0</td><td>-8</td><td>7</td><td>-4.5</td><td>12.0</td><td>-1</td><td>4</td><td>0</td><td>0</td><td>0</td><td>0</td><td>0</td><td>0</td><td>0.0</td><td>0.0</td><td>-8</td><td>7</td><td>-4.5</td><td>12.0</td><td>1</td><td>0.5</td><td>0.5</td><td>0.5</td><td>0.5</td></tr><tr><td>394473</td><td>-11.0</td><td>2.0</td><td>0.0</td><td>0.0</td><td>0.0</td><td>0.0</td><td>0.0</td><td>0.0</td><td>0.0</td><td>0.0</td><td>-27.0</td><td>16.0</td><td>-19.0</td><td>18.0</td><td>-11.0</td><td>1.5</td><td>0.0</td><td>0.0</td><td>0.0</td><td>0.0</td><td>0.0</td><td>0.0</td><td>0.0</td><td>0.0</td><td>-27.0</td><td>16.0</td><td>-19.0</td><td>18.0</td><td>-1</td><td>3</td><td>0</td><td>0</td><td>0</td><td>0</td><td>0</td><td>0</td><td>&hellip;</td><td>-22.0</td><td>21.0</td><td>-11.5</td><td>24.0</td><td>-1</td><td>3</td><td>0</td><td>0</td><td>0</td><td>0</td><td>0</td><td>0</td><td>0.0</td><td>0.0</td><td>-22</td><td>21</td><td>-11.5</td><td>24.0</td><td>-1</td><td>3</td><td>0</td><td>0</td><td>0</td><td>0</td><td>0</td><td>0</td><td>0.0</td><td>0.0</td><td>-22</td><td>21</td><td>-11.5</td><td>24.0</td><td>1</td><td>0.5</td><td>0.5</td><td>0.5</td><td>0.5</td></tr><tr><td>356411</td><td>-6.0</td><td>0.0</td><td>0.0</td><td>0.0</td><td>0.0</td><td>0.0</td><td>0.0</td><td>0.0</td><td>0.0</td><td>0.0</td><td>-24.0</td><td>18.0</td><td>-15.0</td><td>18.0</td><td>-6.0</td><td>0.0</td><td>0.0</td><td>0.0</td><td>0.0</td><td>0.0</td><td>0.0</td><td>0.0</td><td>0.0</td><td>0.0</td><td>-24.0</td><td>18.0</td><td>-15.0</td><td>18.0</td><td>-6</td><td>0</td><td>0</td><td>0</td><td>0</td><td>0</td><td>0</td><td>0</td><td>&hellip;</td><td>null</td><td>null</td><td>null</td><td>null</td><td>null</td><td>null</td><td>null</td><td>null</td><td>null</td><td>null</td><td>null</td><td>null</td><td>null</td><td>null</td><td>null</td><td>null</td><td>null</td><td>null</td><td>null</td><td>null</td><td>null</td><td>null</td><td>null</td><td>null</td><td>null</td><td>null</td><td>null</td><td>null</td><td>null</td><td>null</td><td>null</td><td>null</td><td>null</td><td>1.0</td><td>1.0</td><td>null</td><td>null</td></tr><tr><td>255255</td><td>-46.0</td><td>3.0</td><td>0.0</td><td>0.0</td><td>0.0</td><td>0.0</td><td>0.0</td><td>0.0</td><td>0.0</td><td>0.0</td><td>-53.0</td><td>7.0</td><td>-49.0</td><td>8.0</td><td>-49.0</td><td>0.5</td><td>0.0</td><td>0.0</td><td>0.0</td><td>0.0</td><td>0.0</td><td>0.0</td><td>0.0</td><td>0.0</td><td>-58.0</td><td>7.5</td><td>-53.5</td><td>9.5</td><td>-2</td><td>9</td><td>0</td><td>0</td><td>0</td><td>0</td><td>0</td><td>0</td><td>&hellip;</td><td>-3.0</td><td>1.0</td><td>-2.5</td><td>10.0</td><td>-2</td><td>9</td><td>0</td><td>0</td><td>0</td><td>0</td><td>0</td><td>0</td><td>0.0</td><td>0.0</td><td>-3</td><td>1</td><td>-2.5</td><td>10.0</td><td>-2</td><td>9</td><td>0</td><td>0</td><td>0</td><td>0</td><td>0</td><td>0</td><td>0.0</td><td>0.0</td><td>-3</td><td>1</td><td>-2.5</td><td>10.0</td><td>1</td><td>0.5</td><td>null</td><td>0.5</td><td>1.0</td></tr><tr><td>182341</td><td>-31.0</td><td>7.0</td><td>0.0</td><td>0.0</td><td>0.0</td><td>0.0</td><td>0.0</td><td>0.0</td><td>0.0</td><td>0.0</td><td>-39.0</td><td>8.0</td><td>-35.0</td><td>17.0</td><td>-16.0</td><td>0.0</td><td>0.0</td><td>0.0</td><td>0.0</td><td>0.0</td><td>0.0</td><td>0.0</td><td>0.0</td><td>0.0</td><td>-24.0</td><td>8.0</td><td>-20.0</td><td>11.0</td><td>-1</td><td>26</td><td>0</td><td>0</td><td>0</td><td>0</td><td>0</td><td>0</td><td>&hellip;</td><td>-11.0</td><td>10.0</td><td>-6.0</td><td>36.0</td><td>-1</td><td>26</td><td>0</td><td>0</td><td>0</td><td>0</td><td>0</td><td>0</td><td>0.0</td><td>0.0</td><td>-11</td><td>10</td><td>-6.0</td><td>36.0</td><td>-1</td><td>26</td><td>0</td><td>0</td><td>0</td><td>0</td><td>0</td><td>0</td><td>0.0</td><td>0.0</td><td>-11</td><td>10</td><td>-6.0</td><td>36.0</td><td>1</td><td>0.5</td><td>0.666667</td><td>0.5</td><td>0.333333</td></tr></tbody></table></div>"
      ],
      "text/plain": [
       "shape: (5, 347)\n",
       "┌───────────┬───────────┬───────────┬───────────┬───┬───────────┬───────────┬───────────┬──────────┐\n",
       "│ SK_ID_CUR ┆ MONTHS_BA ┆ CNT_INSTA ┆ SK_DPD_LA ┆ … ┆ COMPLETE_ ┆ COMPLETE_ ┆ NONCOMPLE ┆ NONCOMPL │\n",
       "│ R         ┆ LANCE_LAS ┆ LMENT_FUT ┆ ST_AVG_AL ┆   ┆ ALL_RATIO ┆ ALL_2YRS_ ┆ TE_ALL_RA ┆ ETE_ALL_ │\n",
       "│ ---       ┆ T_AVG_ALL ┆ URE_LAST_ ┆ L         ┆   ┆ ---       ┆ RATIO     ┆ TIO       ┆ 2YRS_RAT │\n",
       "│ i32       ┆ ---       ┆ AVG_A…    ┆ ---       ┆   ┆ f64       ┆ ---       ┆ ---       ┆ IO       │\n",
       "│           ┆ f64       ┆ ---       ┆ f64       ┆   ┆           ┆ f64       ┆ f64       ┆ ---      │\n",
       "│           ┆           ┆ f64       ┆           ┆   ┆           ┆           ┆           ┆ f64      │\n",
       "╞═══════════╪═══════════╪═══════════╪═══════════╪═══╪═══════════╪═══════════╪═══════════╪══════════╡\n",
       "│ 376243    ┆ -9.0      ┆ 2.0       ┆ 0.0       ┆ … ┆ 0.5       ┆ 0.5       ┆ 0.5       ┆ 0.5      │\n",
       "│ 394473    ┆ -11.0     ┆ 2.0       ┆ 0.0       ┆ … ┆ 0.5       ┆ 0.5       ┆ 0.5       ┆ 0.5      │\n",
       "│ 356411    ┆ -6.0      ┆ 0.0       ┆ 0.0       ┆ … ┆ 1.0       ┆ 1.0       ┆ null      ┆ null     │\n",
       "│ 255255    ┆ -46.0     ┆ 3.0       ┆ 0.0       ┆ … ┆ 0.5       ┆ null      ┆ 0.5       ┆ 1.0      │\n",
       "│ 182341    ┆ -31.0     ┆ 7.0       ┆ 0.0       ┆ … ┆ 0.5       ┆ 0.666667  ┆ 0.5       ┆ 0.333333 │\n",
       "└───────────┴───────────┴───────────┴───────────┴───┴───────────┴───────────┴───────────┴──────────┘"
      ]
     },
     "execution_count": 32,
     "metadata": {},
     "output_type": "execute_result"
    }
   ],
   "source": [
    "pos_cash_agg = pos_cash_aggregations_func(pos_cash_agg_initial, \"_ALL\")\n",
    "pos_cash_agg = pos_cash_agg_initial.filter(\n",
    "    c.NAME_CONTRACT_STATUS_LAST == \"Completed\"\n",
    ").pipe(pos_cash_aggregations_func, \"_COMPLETE\", pos_cash_agg)\n",
    "pos_cash_agg = pos_cash_agg_initial.filter(\n",
    "    c.NAME_CONTRACT_STATUS_LAST != \"Completed\"\n",
    ").pipe(pos_cash_aggregations_func, \"_NONCOMPLETE\", pos_cash_agg)\n",
    "pos_cash_agg = pos_cash_agg_initial.filter(c.MONTHS_BALANCE_LAST >= -24).pipe(\n",
    "    pos_cash_aggregations_func, \"_ALL_2YRS\", pos_cash_agg\n",
    ")\n",
    "pos_cash_agg = pos_cash_agg_initial.filter(\n",
    "    (c.MONTHS_BALANCE_LAST >= -24)\n",
    "    & (c.NAME_CONTRACT_STATUS_LAST == \"Completed\")\n",
    ").pipe(pos_cash_aggregations_func, \"_COMPLETE_2YRS\", pos_cash_agg)\n",
    "pos_cash_agg = pos_cash_agg_initial.filter(\n",
    "    (c.MONTHS_BALANCE_LAST >= -24)\n",
    "    & (c.NAME_CONTRACT_STATUS_LAST != \"Completed\")\n",
    ").pipe(pos_cash_aggregations_func, \"_NONCOMPLETE_2YRS\", pos_cash_agg)\n",
    "pos_cash_agg = pos_cash_agg.with_columns(\n",
    "    COMPLETE_ALL_RATIO=c.CNT_COMPLETE / c.CNT_ALL,\n",
    "    COMPLETE_ALL_2YRS_RATIO=c.CNT_COMPLETE_2YRS / c.CNT_ALL_2YRS,\n",
    "    NONCOMPLETE_ALL_RATIO=c.CNT_NONCOMPLETE / c.CNT_ALL,\n",
    "    NONCOMPLETE_ALL_2YRS_RATIO=c.CNT_NONCOMPLETE_2YRS / c.CNT_ALL_2YRS,\n",
    ")\n",
    "pos_cash_agg.head()"
   ]
  },
  {
   "cell_type": "markdown",
   "metadata": {},
   "source": [
    "To enable initial removal of multicollinear and unimportant features, missing values are simply filled with 0."
   ]
  },
  {
   "cell_type": "code",
   "execution_count": 33,
   "metadata": {},
   "outputs": [],
   "source": [
    "pos_cash_agg_filled = (\n",
    "    pos_cash_agg.filter(c.SK_ID_CURR.is_in(idx_train))\n",
    "    .fill_null(value=0)\n",
    "    .fill_nan(value=0)\n",
    "    .join(**appls_join)\n",
    "    .to_pandas()\n",
    ")\n",
    "X_pos_cash = pos_cash_agg_filled.drop(columns=[\"TARGET\", \"SK_ID_CURR\"])\n",
    "y_pos_cash = pos_cash_agg_filled[\"TARGET\"]"
   ]
  },
  {
   "cell_type": "code",
   "execution_count": 34,
   "metadata": {},
   "outputs": [
    {
     "name": "stdout",
     "output_type": "stream",
     "text": [
      "Number of quasi-constant and multicollinear aggregated features to drop: 266\n"
     ]
    }
   ],
   "source": [
    "drop_corr_pos_cash = get_drop_multicollinear(\n",
    "    X_pos_cash, y_pos_cash, \"drop_corr_pos_cash\", refit=False\n",
    ")\n",
    "X_pos_cash = X_pos_cash.drop(columns=drop_corr_pos_cash)"
   ]
  },
  {
   "cell_type": "code",
   "execution_count": 35,
   "metadata": {},
   "outputs": [
    {
     "name": "stdout",
     "output_type": "stream",
     "text": [
      "Number of unimportant aggregated features to drop using Boruta: 3\n",
      "Number of selected features: 77\n"
     ]
    }
   ],
   "source": [
    "drop_boruta_pos_cash = get_drop_by_boruta(\n",
    "    X_pos_cash, y_pos_cash, \"drop_boruta_pos_cash\", refit=False\n",
    ")\n",
    "X_pos_cash = X_pos_cash.drop(columns=drop_boruta_pos_cash)\n",
    "pos_cash_col_num = X_pos_cash.shape[1]\n",
    "print(f\"Number of selected features: {pos_cash_col_num}\")"
   ]
  },
  {
   "cell_type": "markdown",
   "metadata": {},
   "source": [
    "Finally, 77 aggregated features for POS and cash loan balance data are saved for later use. Note, that missing values are not imputed with 0 in the saved table."
   ]
  },
  {
   "cell_type": "code",
   "execution_count": 36,
   "metadata": {},
   "outputs": [],
   "source": [
    "pos_cash_agg.drop(drop_corr_pos_cash + drop_boruta_pos_cash).write_csv(\n",
    "    \"./data_agg/pos_cash_agg.csv\"\n",
    ")"
   ]
  },
  {
   "cell_type": "code",
   "execution_count": 37,
   "metadata": {},
   "outputs": [],
   "source": [
    "del (\n",
    "    pos_cash,\n",
    "    pos_cash_agg,\n",
    "    pos_cash_agg_initial,\n",
    "    pos_cash_agg_filled,\n",
    "    X_pos_cash,\n",
    "    y_pos_cash,\n",
    ")"
   ]
  },
  {
   "cell_type": "markdown",
   "metadata": {},
   "source": [
    "### 3.5. <a id='toc3_5_'></a>Balance of Previous Credit Cards from Home Credit  [&#8593;](#toc0_)"
   ]
  },
  {
   "cell_type": "markdown",
   "metadata": {},
   "source": [
    "First, various ratio features are created to diminish the impact of absolute values. To enable this, missing values are simply imputed with 0."
   ]
  },
  {
   "cell_type": "code",
   "execution_count": 38,
   "metadata": {},
   "outputs": [
    {
     "name": "stdout",
     "output_type": "stream",
     "text": [
      "Size before cleaning: 707.31 MB\n",
      "Size after cleaning: 707.31 MB\n",
      "Number of columns left: 23\n",
      "Size before memory reduction: 707.31 MB\n",
      "Initial data types Counter({Int64: 11, Float64: 11, String: 1})\n",
      "Size after memory reduction: 278.80 MB\n",
      "Final data types Counter({Float32: 11, Int16: 7, Int32: 3, Int8: 1, Categorical(ordering='physical'): 1})\n"
     ]
    },
    {
     "data": {
      "text/html": [
       "<div><style>\n",
       ".dataframe > thead > tr,\n",
       ".dataframe > tbody > tr {\n",
       "  text-align: right;\n",
       "  white-space: pre-wrap;\n",
       "}\n",
       "</style>\n",
       "<small>shape: (5, 30)</small><table border=\"1\" class=\"dataframe\"><thead><tr><th>SK_ID_PREV</th><th>SK_ID_CURR</th><th>MONTHS_BALANCE</th><th>AMT_BALANCE</th><th>AMT_CREDIT_LIMIT_ACTUAL</th><th>AMT_DRAWINGS_ATM_CURRENT</th><th>AMT_DRAWINGS_CURRENT</th><th>AMT_DRAWINGS_OTHER_CURRENT</th><th>AMT_DRAWINGS_POS_CURRENT</th><th>AMT_INST_MIN_REGULARITY</th><th>AMT_PAYMENT_CURRENT</th><th>AMT_PAYMENT_TOTAL_CURRENT</th><th>AMT_RECEIVABLE_PRINCIPAL</th><th>AMT_RECIVABLE</th><th>AMT_TOTAL_RECEIVABLE</th><th>CNT_DRAWINGS_ATM_CURRENT</th><th>CNT_DRAWINGS_CURRENT</th><th>CNT_DRAWINGS_OTHER_CURRENT</th><th>CNT_DRAWINGS_POS_CURRENT</th><th>CNT_INSTALMENT_MATURE_CUM</th><th>NAME_CONTRACT_STATUS</th><th>SK_DPD</th><th>SK_DPD_DEF</th><th>BALANCE_LIMIT_RATIO</th><th>DRAWINGS_ATM_RATIO</th><th>DRAWINGS_OTHER_RATIO</th><th>DRAWINGS_POS_RATIO</th><th>PAYMENT_INST_RATIO</th><th>PAYMENT_TOTAL_INST_RATIO</th><th>PRINCIPAL_TOTAL_RECEIVABLE_RATIO</th></tr><tr><td>i32</td><td>i32</td><td>i16</td><td>f32</td><td>i32</td><td>f32</td><td>f32</td><td>f32</td><td>f32</td><td>f32</td><td>f32</td><td>f32</td><td>f32</td><td>f32</td><td>f32</td><td>i16</td><td>i16</td><td>i8</td><td>i16</td><td>i16</td><td>cat</td><td>i16</td><td>i16</td><td>f64</td><td>f64</td><td>f64</td><td>f64</td><td>f64</td><td>f64</td><td>f64</td></tr></thead><tbody><tr><td>2562384</td><td>378907</td><td>-6</td><td>56.970001</td><td>135000</td><td>0.0</td><td>877.5</td><td>0.0</td><td>877.5</td><td>1700.324951</td><td>1800.0</td><td>1800.0</td><td>0.0</td><td>0.0</td><td>0.0</td><td>0</td><td>1</td><td>0</td><td>1</td><td>35</td><td>&quot;Active&quot;</td><td>0</td><td>0</td><td>0.000422</td><td>0.0</td><td>0.0</td><td>0.998862</td><td>1.057999</td><td>1.057999</td><td>0.0</td></tr><tr><td>2582071</td><td>363914</td><td>-1</td><td>63975.554688</td><td>45000</td><td>2250.0</td><td>2250.0</td><td>0.0</td><td>0.0</td><td>2250.0</td><td>2250.0</td><td>2250.0</td><td>60175.078125</td><td>64875.554688</td><td>64875.554688</td><td>1</td><td>1</td><td>0</td><td>0</td><td>69</td><td>&quot;Active&quot;</td><td>0</td><td>0</td><td>1.421647</td><td>0.999556</td><td>0.0</td><td>0.0</td><td>0.999556</td><td>0.999556</td><td>0.927532</td></tr><tr><td>1740877</td><td>371185</td><td>-7</td><td>31815.224609</td><td>450000</td><td>0.0</td><td>0.0</td><td>0.0</td><td>0.0</td><td>2250.0</td><td>2250.0</td><td>2250.0</td><td>26926.425781</td><td>31460.085938</td><td>31460.085938</td><td>0</td><td>0</td><td>0</td><td>0</td><td>30</td><td>&quot;Active&quot;</td><td>0</td><td>0</td><td>0.0707</td><td>0.0</td><td>0.0</td><td>0.0</td><td>0.999556</td><td>0.999556</td><td>0.855864</td></tr><tr><td>1389973</td><td>337855</td><td>-4</td><td>236572.109375</td><td>225000</td><td>2250.0</td><td>2250.0</td><td>0.0</td><td>0.0</td><td>11795.759766</td><td>11925.0</td><td>11925.0</td><td>224949.28125</td><td>233048.96875</td><td>233048.96875</td><td>1</td><td>1</td><td>0</td><td>0</td><td>10</td><td>&quot;Active&quot;</td><td>0</td><td>0</td><td>1.051427</td><td>0.999556</td><td>0.0</td><td>0.0</td><td>1.010871</td><td>1.010871</td><td>0.965241</td></tr><tr><td>1891521</td><td>126868</td><td>-1</td><td>453919.46875</td><td>450000</td><td>0.0</td><td>11547.0</td><td>0.0</td><td>11547.0</td><td>22924.890625</td><td>27000.0</td><td>27000.0</td><td>443044.40625</td><td>453919.46875</td><td>453919.46875</td><td>0</td><td>1</td><td>0</td><td>1</td><td>101</td><td>&quot;Active&quot;</td><td>0</td><td>0</td><td>1.008708</td><td>0.0</td><td>0.0</td><td>0.999913</td><td>1.177708</td><td>1.177708</td><td>0.97604</td></tr></tbody></table></div>"
      ],
      "text/plain": [
       "shape: (5, 30)\n",
       "┌───────────┬───────────┬───────────┬───────────┬───┬───────────┬───────────┬───────────┬──────────┐\n",
       "│ SK_ID_PRE ┆ SK_ID_CUR ┆ MONTHS_BA ┆ AMT_BALAN ┆ … ┆ DRAWINGS_ ┆ PAYMENT_I ┆ PAYMENT_T ┆ PRINCIPA │\n",
       "│ V         ┆ R         ┆ LANCE     ┆ CE        ┆   ┆ POS_RATIO ┆ NST_RATIO ┆ OTAL_INST ┆ L_TOTAL_ │\n",
       "│ ---       ┆ ---       ┆ ---       ┆ ---       ┆   ┆ ---       ┆ ---       ┆ _RATIO    ┆ RECEIVAB │\n",
       "│ i32       ┆ i32       ┆ i16       ┆ f32       ┆   ┆ f64       ┆ f64       ┆ ---       ┆ LE_RATIO │\n",
       "│           ┆           ┆           ┆           ┆   ┆           ┆           ┆ f64       ┆ ---      │\n",
       "│           ┆           ┆           ┆           ┆   ┆           ┆           ┆           ┆ f64      │\n",
       "╞═══════════╪═══════════╪═══════════╪═══════════╪═══╪═══════════╪═══════════╪═══════════╪══════════╡\n",
       "│ 2562384   ┆ 378907    ┆ -6        ┆ 56.970001 ┆ … ┆ 0.998862  ┆ 1.057999  ┆ 1.057999  ┆ 0.0      │\n",
       "│ 2582071   ┆ 363914    ┆ -1        ┆ 63975.554 ┆ … ┆ 0.0       ┆ 0.999556  ┆ 0.999556  ┆ 0.927532 │\n",
       "│           ┆           ┆           ┆ 688       ┆   ┆           ┆           ┆           ┆          │\n",
       "│ 1740877   ┆ 371185    ┆ -7        ┆ 31815.224 ┆ … ┆ 0.0       ┆ 0.999556  ┆ 0.999556  ┆ 0.855864 │\n",
       "│           ┆           ┆           ┆ 609       ┆   ┆           ┆           ┆           ┆          │\n",
       "│ 1389973   ┆ 337855    ┆ -4        ┆ 236572.10 ┆ … ┆ 0.0       ┆ 1.010871  ┆ 1.010871  ┆ 0.965241 │\n",
       "│           ┆           ┆           ┆ 9375      ┆   ┆           ┆           ┆           ┆          │\n",
       "│ 1891521   ┆ 126868    ┆ -1        ┆ 453919.46 ┆ … ┆ 0.999913  ┆ 1.177708  ┆ 1.177708  ┆ 0.97604  │\n",
       "│           ┆           ┆           ┆ 875       ┆   ┆           ┆           ┆           ┆          │\n",
       "└───────────┴───────────┴───────────┴───────────┴───┴───────────┴───────────┴───────────┴──────────┘"
      ]
     },
     "execution_count": 38,
     "metadata": {},
     "output_type": "execute_result"
    }
   ],
   "source": [
    "card = (\n",
    "    pl.read_csv(\"./data/credit_card_balance.csv\")\n",
    "    .pipe(credit_data_utils.initial_pos_cash_credit_card_installments_cleaning)\n",
    "    .pipe(credit_data_utils.reduce_memory_usage_pl)\n",
    ")\n",
    "card = card.fill_null(0).with_columns(\n",
    "    BALANCE_LIMIT_RATIO=c.AMT_BALANCE / (c.AMT_CREDIT_LIMIT_ACTUAL + 1),\n",
    "    DRAWINGS_ATM_RATIO=c.AMT_DRAWINGS_ATM_CURRENT\n",
    "    / (c.AMT_DRAWINGS_CURRENT + 1),\n",
    "    DRAWINGS_OTHER_RATIO=c.AMT_DRAWINGS_OTHER_CURRENT\n",
    "    / (c.AMT_DRAWINGS_CURRENT + 1),\n",
    "    DRAWINGS_POS_RATIO=c.AMT_DRAWINGS_POS_CURRENT\n",
    "    / (c.AMT_DRAWINGS_CURRENT + 1),\n",
    "    PAYMENT_INST_RATIO=c.AMT_PAYMENT_CURRENT / (c.AMT_INST_MIN_REGULARITY + 1),\n",
    "    PAYMENT_TOTAL_INST_RATIO=c.AMT_PAYMENT_TOTAL_CURRENT\n",
    "    / (c.AMT_INST_MIN_REGULARITY + 1),\n",
    "    PRINCIPAL_TOTAL_RECEIVABLE_RATIO=c.AMT_RECEIVABLE_PRINCIPAL\n",
    "    / (c.AMT_TOTAL_RECEIVABLE + 1),\n",
    ")\n",
    "card.head()"
   ]
  },
  {
   "cell_type": "markdown",
   "metadata": {},
   "source": [
    "Initially, some aggregations are done on individual loans to have information on mean, median, sum, last, minimum or maximum values."
   ]
  },
  {
   "cell_type": "code",
   "execution_count": 39,
   "metadata": {},
   "outputs": [
    {
     "data": {
      "text/html": [
       "<div><style>\n",
       ".dataframe > thead > tr,\n",
       ".dataframe > tbody > tr {\n",
       "  text-align: right;\n",
       "  white-space: pre-wrap;\n",
       "}\n",
       "</style>\n",
       "<small>shape: (104_307, 137)</small><table border=\"1\" class=\"dataframe\"><thead><tr><th>SK_ID_PREV</th><th>SK_ID_CURR</th><th>MONTHS_BALANCE_LAST</th><th>AMT_BALANCE_LAST</th><th>AMT_CREDIT_LIMIT_ACTUAL_LAST</th><th>AMT_DRAWINGS_ATM_CURRENT_LAST</th><th>AMT_DRAWINGS_CURRENT_LAST</th><th>AMT_DRAWINGS_OTHER_CURRENT_LAST</th><th>AMT_DRAWINGS_POS_CURRENT_LAST</th><th>AMT_INST_MIN_REGULARITY_LAST</th><th>AMT_PAYMENT_CURRENT_LAST</th><th>AMT_PAYMENT_TOTAL_CURRENT_LAST</th><th>AMT_RECEIVABLE_PRINCIPAL_LAST</th><th>AMT_RECIVABLE_LAST</th><th>AMT_TOTAL_RECEIVABLE_LAST</th><th>CNT_DRAWINGS_ATM_CURRENT_LAST</th><th>CNT_DRAWINGS_CURRENT_LAST</th><th>CNT_DRAWINGS_OTHER_CURRENT_LAST</th><th>CNT_DRAWINGS_POS_CURRENT_LAST</th><th>CNT_INSTALMENT_MATURE_CUM_LAST</th><th>NAME_CONTRACT_STATUS_LAST</th><th>SK_DPD_LAST</th><th>SK_DPD_DEF_LAST</th><th>BALANCE_LIMIT_RATIO_LAST</th><th>DRAWINGS_ATM_RATIO_LAST</th><th>DRAWINGS_OTHER_RATIO_LAST</th><th>DRAWINGS_POS_RATIO_LAST</th><th>PAYMENT_INST_RATIO_LAST</th><th>PAYMENT_TOTAL_INST_RATIO_LAST</th><th>PRINCIPAL_TOTAL_RECEIVABLE_RATIO_LAST</th><th>AMT_BALANCE_MAX</th><th>AMT_CREDIT_LIMIT_ACTUAL_MAX</th><th>AMT_DRAWINGS_ATM_CURRENT_MAX</th><th>AMT_DRAWINGS_CURRENT_MAX</th><th>AMT_DRAWINGS_OTHER_CURRENT_MAX</th><th>AMT_DRAWINGS_POS_CURRENT_MAX</th><th>AMT_INST_MIN_REGULARITY_MAX</th><th>&hellip;</th><th>CNT_DRAWINGS_CURRENT_MEDIAN</th><th>CNT_DRAWINGS_OTHER_CURRENT_MEDIAN</th><th>CNT_DRAWINGS_POS_CURRENT_MEDIAN</th><th>CNT_INSTALMENT_MATURE_CUM_MEDIAN</th><th>SK_DPD_MEDIAN</th><th>SK_DPD_DEF_MEDIAN</th><th>BALANCE_LIMIT_RATIO_MAX</th><th>DRAWINGS_ATM_RATIO_MAX</th><th>DRAWINGS_OTHER_RATIO_MAX</th><th>DRAWINGS_POS_RATIO_MAX</th><th>PAYMENT_INST_RATIO_MAX</th><th>PAYMENT_TOTAL_INST_RATIO_MAX</th><th>PRINCIPAL_TOTAL_RECEIVABLE_RATIO_MAX</th><th>BALANCE_LIMIT_RATIO_MIN</th><th>DRAWINGS_ATM_RATIO_MIN</th><th>DRAWINGS_OTHER_RATIO_MIN</th><th>DRAWINGS_POS_RATIO_MIN</th><th>PAYMENT_INST_RATIO_MIN</th><th>PAYMENT_TOTAL_INST_RATIO_MIN</th><th>PRINCIPAL_TOTAL_RECEIVABLE_RATIO_MIN</th><th>BALANCE_LIMIT_RATIO_AVG</th><th>DRAWINGS_ATM_RATIO_AVG</th><th>DRAWINGS_OTHER_RATIO_AVG</th><th>DRAWINGS_POS_RATIO_AVG</th><th>PAYMENT_INST_RATIO_AVG</th><th>PAYMENT_TOTAL_INST_RATIO_AVG</th><th>PRINCIPAL_TOTAL_RECEIVABLE_RATIO_AVG</th><th>BALANCE_LIMIT_RATIO_MEDIAN</th><th>DRAWINGS_ATM_RATIO_MEDIAN</th><th>DRAWINGS_OTHER_RATIO_MEDIAN</th><th>DRAWINGS_POS_RATIO_MEDIAN</th><th>PAYMENT_INST_RATIO_MEDIAN</th><th>PAYMENT_TOTAL_INST_RATIO_MEDIAN</th><th>PRINCIPAL_TOTAL_RECEIVABLE_RATIO_MEDIAN</th><th>MONTHS_BALANCE_FIRST</th><th>MONTHS_BALANCE_DURATION</th><th>MONTHS_BALANCE_MEDIAN</th></tr><tr><td>i32</td><td>i32</td><td>i16</td><td>f32</td><td>i32</td><td>f32</td><td>f32</td><td>f32</td><td>f32</td><td>f32</td><td>f32</td><td>f32</td><td>f32</td><td>f32</td><td>f32</td><td>i16</td><td>i16</td><td>i8</td><td>i16</td><td>i16</td><td>cat</td><td>i16</td><td>i16</td><td>f64</td><td>f64</td><td>f64</td><td>f64</td><td>f64</td><td>f64</td><td>f64</td><td>f32</td><td>i32</td><td>f32</td><td>f32</td><td>f32</td><td>f32</td><td>f32</td><td>&hellip;</td><td>f64</td><td>f64</td><td>f64</td><td>f64</td><td>f64</td><td>f64</td><td>f64</td><td>f64</td><td>f64</td><td>f64</td><td>f64</td><td>f64</td><td>f64</td><td>f64</td><td>f64</td><td>f64</td><td>f64</td><td>f64</td><td>f64</td><td>f64</td><td>f64</td><td>f64</td><td>f64</td><td>f64</td><td>f64</td><td>f64</td><td>f64</td><td>f64</td><td>f64</td><td>f64</td><td>f64</td><td>f64</td><td>f64</td><td>f64</td><td>i16</td><td>i16</td><td>f64</td></tr></thead><tbody><tr><td>2037377</td><td>289902</td><td>-1</td><td>131294.34375</td><td>135000</td><td>0.0</td><td>0.0</td><td>0.0</td><td>0.0</td><td>6774.660156</td><td>6975.0</td><td>6975.0</td><td>128518.023438</td><td>131294.34375</td><td>131294.34375</td><td>0</td><td>0</td><td>0</td><td>0</td><td>11</td><td>&quot;Active&quot;</td><td>0</td><td>0</td><td>0.972543</td><td>0.0</td><td>0.0</td><td>0.0</td><td>1.02942</td><td>1.02942</td><td>0.978847</td><td>151977.828125</td><td>135000</td><td>45900.0</td><td>45900.0</td><td>0.0</td><td>6255.0</td><td>7942.274902</td><td>&hellip;</td><td>0.0</td><td>0.0</td><td>0.0</td><td>5.5</td><td>0.0</td><td>0.0</td><td>1.125753</td><td>0.999978</td><td>0.0</td><td>0.139136</td><td>20.432736</td><td>20.432736</td><td>0.989527</td><td>0.054965</td><td>0.0</td><td>0.0</td><td>0.0</td><td>0.0</td><td>0.0</td><td>0.0</td><td>0.962212</td><td>0.321731</td><td>0.0</td><td>0.011595</td><td>2.602562</td><td>2.602562</td><td>0.869942</td><td>1.032899</td><td>0.0</td><td>0.0</td><td>0.0</td><td>1.034409</td><td>1.034409</td><td>0.95133</td><td>-12</td><td>11</td><td>-6.5</td></tr><tr><td>1189095</td><td>231608</td><td>-1</td><td>0.0</td><td>450000</td><td>0.0</td><td>156.960007</td><td>0.0</td><td>0.0</td><td>2250.0</td><td>7757.189941</td><td>7757.189941</td><td>0.0</td><td>0.0</td><td>0.0</td><td>0</td><td>0</td><td>0</td><td>0</td><td>25</td><td>&quot;Completed&quot;</td><td>0</td><td>0</td><td>0.0</td><td>0.0</td><td>0.0</td><td>0.0</td><td>3.446108</td><td>3.446108</td><td>0.0</td><td>453250.03125</td><td>450000</td><td>405000.0</td><td>405000.0</td><td>0.0</td><td>22784.400391</td><td>23289.300781</td><td>&hellip;</td><td>1.0</td><td>0.0</td><td>0.0</td><td>9.5</td><td>0.0</td><td>0.0</td><td>1.00722</td><td>0.999998</td><td>0.0</td><td>0.999926</td><td>4839.390137</td><td>4839.390137</td><td>0.999991</td><td>0.0</td><td>0.0</td><td>0.0</td><td>0.0</td><td>0.0</td><td>0.0</td><td>0.0</td><td>0.590352</td><td>0.557397</td><td>0.0</td><td>0.036317</td><td>346.854922</td><td>346.854922</td><td>0.640328</td><td>0.909831</td><td>0.961957</td><td>0.0</td><td>0.0</td><td>1.207318</td><td>1.207318</td><td>0.974022</td><td>-32</td><td>31</td><td>-16.5</td></tr><tr><td>2392920</td><td>132481</td><td>-1</td><td>85792.09375</td><td>135000</td><td>45000.0</td><td>63337.816406</td><td>0.0</td><td>18337.814453</td><td>2250.0</td><td>23181.570312</td><td>18521.550781</td><td>85086.945312</td><td>85792.09375</td><td>85792.09375</td><td>1</td><td>9</td><td>0</td><td>8</td><td>5</td><td>&quot;Active&quot;</td><td>0</td><td>0</td><td>0.635492</td><td>0.710465</td><td>0.0</td><td>0.289519</td><td>10.298343</td><td>8.228143</td><td>0.991769</td><td>85792.09375</td><td>135000</td><td>45000.0</td><td>63337.816406</td><td>0.0</td><td>38730.105469</td><td>2250.0</td><td>&hellip;</td><td>7.0</td><td>0.0</td><td>7.0</td><td>2.0</td><td>0.0</td><td>0.0</td><td>0.635492</td><td>0.710465</td><td>0.0</td><td>0.999974</td><td>15750.0</td><td>13500.0</td><td>0.999964</td><td>0.0232</td><td>0.0</td><td>0.0</td><td>0.289519</td><td>0.0</td><td>0.0</td><td>0.991769</td><td>0.222439</td><td>0.101495</td><td>0.0</td><td>0.898432</td><td>2257.794493</td><td>1935.499004</td><td>0.997884</td><td>0.204462</td><td>0.0</td><td>0.0</td><td>0.99996</td><td>10.345942</td><td>9.346386</td><td>0.999681</td><td>-7</td><td>6</td><td>-4.0</td></tr><tr><td>1927949</td><td>323730</td><td>-1</td><td>148956.34375</td><td>157500</td><td>0.0</td><td>0.0</td><td>0.0</td><td>0.0</td><td>7875.0</td><td>7875.0</td><td>7875.0</td><td>143028.3125</td><td>148956.34375</td><td>148956.34375</td><td>0</td><td>0</td><td>0</td><td>0</td><td>72</td><td>&quot;Active&quot;</td><td>0</td><td>0</td><td>0.945749</td><td>0.0</td><td>0.0</td><td>0.0</td><td>0.999873</td><td>0.999873</td><td>0.960196</td><td>169195.640625</td><td>157500</td><td>157500.0</td><td>157500.0</td><td>0.0</td><td>0.0</td><td>7875.0</td><td>&hellip;</td><td>0.0</td><td>0.0</td><td>0.0</td><td>37.5</td><td>0.0</td><td>0.0</td><td>1.074251</td><td>0.999994</td><td>0.0</td><td>0.0</td><td>22521.960938</td><td>22500.0</td><td>0.963024</td><td>0.0</td><td>0.0</td><td>0.0</td><td>0.0</td><td>0.0</td><td>0.0</td><td>0.0</td><td>0.834623</td><td>0.236825</td><td>0.0</td><td>0.0</td><td>360.094943</td><td>297.672426</td><td>0.862472</td><td>0.976552</td><td>0.0</td><td>0.0</td><td>0.0</td><td>0.999873</td><td>0.999873</td><td>0.95978</td><td>-76</td><td>75</td><td>-38.5</td></tr><tr><td>2257392</td><td>384410</td><td>-1</td><td>82818.359375</td><td>184500</td><td>0.0</td><td>0.0</td><td>0.0</td><td>0.0</td><td>2250.0</td><td>4500.0</td><td>4500.0</td><td>80262.40625</td><td>81529.828125</td><td>81529.828125</td><td>0</td><td>0</td><td>0</td><td>0</td><td>8</td><td>&quot;Active&quot;</td><td>0</td><td>0</td><td>0.448878</td><td>0.0</td><td>0.0</td><td>0.0</td><td>1.999112</td><td>1.999112</td><td>0.984442</td><td>153009.671875</td><td>292500</td><td>0.0</td><td>94448.25</td><td>0.0</td><td>94448.25</td><td>8477.054688</td><td>&hellip;</td><td>0.0</td><td>0.0</td><td>0.0</td><td>3.0</td><td>0.0</td><td>0.0</td><td>0.829316</td><td>0.0</td><td>0.0</td><td>0.999989</td><td>22500.0</td><td>18756.224609</td><td>0.999981</td><td>0.0</td><td>0.0</td><td>0.0</td><td>0.0</td><td>0.0</td><td>0.0</td><td>0.0</td><td>0.273063</td><td>0.0</td><td>0.0</td><td>0.454536</td><td>2050.518156</td><td>1709.610459</td><td>0.807545</td><td>0.193983</td><td>0.0</td><td>0.0</td><td>0.0</td><td>3.04913</td><td>2.308379</td><td>0.984442</td><td>-11</td><td>10</td><td>-6.0</td></tr><tr><td>&hellip;</td><td>&hellip;</td><td>&hellip;</td><td>&hellip;</td><td>&hellip;</td><td>&hellip;</td><td>&hellip;</td><td>&hellip;</td><td>&hellip;</td><td>&hellip;</td><td>&hellip;</td><td>&hellip;</td><td>&hellip;</td><td>&hellip;</td><td>&hellip;</td><td>&hellip;</td><td>&hellip;</td><td>&hellip;</td><td>&hellip;</td><td>&hellip;</td><td>&hellip;</td><td>&hellip;</td><td>&hellip;</td><td>&hellip;</td><td>&hellip;</td><td>&hellip;</td><td>&hellip;</td><td>&hellip;</td><td>&hellip;</td><td>&hellip;</td><td>&hellip;</td><td>&hellip;</td><td>&hellip;</td><td>&hellip;</td><td>&hellip;</td><td>&hellip;</td><td>&hellip;</td><td>&hellip;</td><td>&hellip;</td><td>&hellip;</td><td>&hellip;</td><td>&hellip;</td><td>&hellip;</td><td>&hellip;</td><td>&hellip;</td><td>&hellip;</td><td>&hellip;</td><td>&hellip;</td><td>&hellip;</td><td>&hellip;</td><td>&hellip;</td><td>&hellip;</td><td>&hellip;</td><td>&hellip;</td><td>&hellip;</td><td>&hellip;</td><td>&hellip;</td><td>&hellip;</td><td>&hellip;</td><td>&hellip;</td><td>&hellip;</td><td>&hellip;</td><td>&hellip;</td><td>&hellip;</td><td>&hellip;</td><td>&hellip;</td><td>&hellip;</td><td>&hellip;</td><td>&hellip;</td><td>&hellip;</td><td>&hellip;</td><td>&hellip;</td><td>&hellip;</td><td>&hellip;</td><td>&hellip;</td></tr><tr><td>1132920</td><td>208501</td><td>-1</td><td>46570.5</td><td>495000</td><td>45000.0</td><td>45000.0</td><td>0.0</td><td>0.0</td><td>0.0</td><td>0.0</td><td>0.0</td><td>45000.0</td><td>45000.0</td><td>45000.0</td><td>1</td><td>1</td><td>0</td><td>0</td><td>0</td><td>&quot;Active&quot;</td><td>0</td><td>0</td><td>0.094082</td><td>0.999978</td><td>0.0</td><td>0.0</td><td>0.0</td><td>0.0</td><td>0.999978</td><td>46570.5</td><td>495000</td><td>45000.0</td><td>45000.0</td><td>0.0</td><td>0.0</td><td>0.0</td><td>&hellip;</td><td>1.0</td><td>0.0</td><td>0.0</td><td>0.0</td><td>0.0</td><td>0.0</td><td>0.094082</td><td>0.999978</td><td>0.0</td><td>0.0</td><td>0.0</td><td>0.0</td><td>0.999978</td><td>0.094082</td><td>0.999978</td><td>0.0</td><td>0.0</td><td>0.0</td><td>0.0</td><td>0.999978</td><td>0.094082</td><td>0.999978</td><td>0.0</td><td>0.0</td><td>0.0</td><td>0.0</td><td>0.999978</td><td>0.094082</td><td>0.999978</td><td>0.0</td><td>0.0</td><td>0.0</td><td>0.0</td><td>0.999978</td><td>-1</td><td>0</td><td>-1.0</td></tr><tr><td>1798731</td><td>400297</td><td>-2</td><td>0.0</td><td>405000</td><td>0.0</td><td>0.0</td><td>0.0</td><td>0.0</td><td>0.0</td><td>0.0</td><td>0.0</td><td>0.0</td><td>0.0</td><td>0.0</td><td>0</td><td>0</td><td>0</td><td>0</td><td>0</td><td>&quot;Active&quot;</td><td>0</td><td>0</td><td>0.0</td><td>0.0</td><td>0.0</td><td>0.0</td><td>0.0</td><td>0.0</td><td>0.0</td><td>0.0</td><td>405000</td><td>0.0</td><td>0.0</td><td>0.0</td><td>0.0</td><td>0.0</td><td>&hellip;</td><td>0.0</td><td>0.0</td><td>0.0</td><td>0.0</td><td>0.0</td><td>0.0</td><td>0.0</td><td>0.0</td><td>0.0</td><td>0.0</td><td>0.0</td><td>0.0</td><td>0.0</td><td>0.0</td><td>0.0</td><td>0.0</td><td>0.0</td><td>0.0</td><td>0.0</td><td>0.0</td><td>0.0</td><td>0.0</td><td>0.0</td><td>0.0</td><td>0.0</td><td>0.0</td><td>0.0</td><td>0.0</td><td>0.0</td><td>0.0</td><td>0.0</td><td>0.0</td><td>0.0</td><td>0.0</td><td>-2</td><td>0</td><td>-2.0</td></tr><tr><td>1887580</td><td>213062</td><td>-2</td><td>0.0</td><td>180000</td><td>0.0</td><td>0.0</td><td>0.0</td><td>0.0</td><td>0.0</td><td>0.0</td><td>0.0</td><td>0.0</td><td>0.0</td><td>0.0</td><td>0</td><td>0</td><td>0</td><td>0</td><td>0</td><td>&quot;Active&quot;</td><td>0</td><td>0</td><td>0.0</td><td>0.0</td><td>0.0</td><td>0.0</td><td>0.0</td><td>0.0</td><td>0.0</td><td>0.0</td><td>180000</td><td>0.0</td><td>0.0</td><td>0.0</td><td>0.0</td><td>0.0</td><td>&hellip;</td><td>0.0</td><td>0.0</td><td>0.0</td><td>0.0</td><td>0.0</td><td>0.0</td><td>0.0</td><td>0.0</td><td>0.0</td><td>0.0</td><td>0.0</td><td>0.0</td><td>0.0</td><td>0.0</td><td>0.0</td><td>0.0</td><td>0.0</td><td>0.0</td><td>0.0</td><td>0.0</td><td>0.0</td><td>0.0</td><td>0.0</td><td>0.0</td><td>0.0</td><td>0.0</td><td>0.0</td><td>0.0</td><td>0.0</td><td>0.0</td><td>0.0</td><td>0.0</td><td>0.0</td><td>0.0</td><td>-2</td><td>0</td><td>-2.0</td></tr><tr><td>1773670</td><td>424890</td><td>-2</td><td>228528.671875</td><td>450000</td><td>135000.0</td><td>223817.171875</td><td>0.0</td><td>88817.171875</td><td>0.0</td><td>0.0</td><td>0.0</td><td>223817.171875</td><td>223817.171875</td><td>223817.171875</td><td>3</td><td>8</td><td>0</td><td>5</td><td>0</td><td>&quot;Active&quot;</td><td>0</td><td>0</td><td>0.50784</td><td>0.603168</td><td>0.0</td><td>0.396827</td><td>0.0</td><td>0.0</td><td>0.999996</td><td>228528.671875</td><td>450000</td><td>135000.0</td><td>223817.171875</td><td>0.0</td><td>88817.171875</td><td>0.0</td><td>&hellip;</td><td>8.0</td><td>0.0</td><td>5.0</td><td>0.0</td><td>0.0</td><td>0.0</td><td>0.50784</td><td>0.603168</td><td>0.0</td><td>0.396827</td><td>0.0</td><td>0.0</td><td>0.999996</td><td>0.50784</td><td>0.603168</td><td>0.0</td><td>0.396827</td><td>0.0</td><td>0.0</td><td>0.999996</td><td>0.50784</td><td>0.603168</td><td>0.0</td><td>0.396827</td><td>0.0</td><td>0.0</td><td>0.999996</td><td>0.50784</td><td>0.603168</td><td>0.0</td><td>0.396827</td><td>0.0</td><td>0.0</td><td>0.999996</td><td>-2</td><td>0</td><td>-2.0</td></tr><tr><td>1551072</td><td>403596</td><td>-1</td><td>0.0</td><td>202500</td><td>0.0</td><td>0.0</td><td>0.0</td><td>0.0</td><td>0.0</td><td>0.0</td><td>0.0</td><td>0.0</td><td>0.0</td><td>0.0</td><td>0</td><td>0</td><td>0</td><td>0</td><td>0</td><td>&quot;Active&quot;</td><td>0</td><td>0</td><td>0.0</td><td>0.0</td><td>0.0</td><td>0.0</td><td>0.0</td><td>0.0</td><td>0.0</td><td>0.0</td><td>202500</td><td>0.0</td><td>0.0</td><td>0.0</td><td>0.0</td><td>0.0</td><td>&hellip;</td><td>0.0</td><td>0.0</td><td>0.0</td><td>0.0</td><td>0.0</td><td>0.0</td><td>0.0</td><td>0.0</td><td>0.0</td><td>0.0</td><td>0.0</td><td>0.0</td><td>0.0</td><td>0.0</td><td>0.0</td><td>0.0</td><td>0.0</td><td>0.0</td><td>0.0</td><td>0.0</td><td>0.0</td><td>0.0</td><td>0.0</td><td>0.0</td><td>0.0</td><td>0.0</td><td>0.0</td><td>0.0</td><td>0.0</td><td>0.0</td><td>0.0</td><td>0.0</td><td>0.0</td><td>0.0</td><td>-1</td><td>0</td><td>-1.0</td></tr></tbody></table></div>"
      ],
      "text/plain": [
       "shape: (104_307, 137)\n",
       "┌───────────┬───────────┬───────────┬───────────┬───┬───────────┬───────────┬───────────┬──────────┐\n",
       "│ SK_ID_PRE ┆ SK_ID_CUR ┆ MONTHS_BA ┆ AMT_BALAN ┆ … ┆ PRINCIPAL ┆ MONTHS_BA ┆ MONTHS_BA ┆ MONTHS_B │\n",
       "│ V         ┆ R         ┆ LANCE_LAS ┆ CE_LAST   ┆   ┆ _TOTAL_RE ┆ LANCE_FIR ┆ LANCE_DUR ┆ ALANCE_M │\n",
       "│ ---       ┆ ---       ┆ T         ┆ ---       ┆   ┆ CEIVABLE_ ┆ ST        ┆ ATION     ┆ EDIAN    │\n",
       "│ i32       ┆ i32       ┆ ---       ┆ f32       ┆   ┆ RATIO…    ┆ ---       ┆ ---       ┆ ---      │\n",
       "│           ┆           ┆ i16       ┆           ┆   ┆ ---       ┆ i16       ┆ i16       ┆ f64      │\n",
       "│           ┆           ┆           ┆           ┆   ┆ f64       ┆           ┆           ┆          │\n",
       "╞═══════════╪═══════════╪═══════════╪═══════════╪═══╪═══════════╪═══════════╪═══════════╪══════════╡\n",
       "│ 2037377   ┆ 289902    ┆ -1        ┆ 131294.34 ┆ … ┆ 0.95133   ┆ -12       ┆ 11        ┆ -6.5     │\n",
       "│           ┆           ┆           ┆ 375       ┆   ┆           ┆           ┆           ┆          │\n",
       "│ 1189095   ┆ 231608    ┆ -1        ┆ 0.0       ┆ … ┆ 0.974022  ┆ -32       ┆ 31        ┆ -16.5    │\n",
       "│ 2392920   ┆ 132481    ┆ -1        ┆ 85792.093 ┆ … ┆ 0.999681  ┆ -7        ┆ 6         ┆ -4.0     │\n",
       "│           ┆           ┆           ┆ 75        ┆   ┆           ┆           ┆           ┆          │\n",
       "│ 1927949   ┆ 323730    ┆ -1        ┆ 148956.34 ┆ … ┆ 0.95978   ┆ -76       ┆ 75        ┆ -38.5    │\n",
       "│           ┆           ┆           ┆ 375       ┆   ┆           ┆           ┆           ┆          │\n",
       "│ 2257392   ┆ 384410    ┆ -1        ┆ 82818.359 ┆ … ┆ 0.984442  ┆ -11       ┆ 10        ┆ -6.0     │\n",
       "│           ┆           ┆           ┆ 375       ┆   ┆           ┆           ┆           ┆          │\n",
       "│ …         ┆ …         ┆ …         ┆ …         ┆ … ┆ …         ┆ …         ┆ …         ┆ …        │\n",
       "│ 1132920   ┆ 208501    ┆ -1        ┆ 46570.5   ┆ … ┆ 0.999978  ┆ -1        ┆ 0         ┆ -1.0     │\n",
       "│ 1798731   ┆ 400297    ┆ -2        ┆ 0.0       ┆ … ┆ 0.0       ┆ -2        ┆ 0         ┆ -2.0     │\n",
       "│ 1887580   ┆ 213062    ┆ -2        ┆ 0.0       ┆ … ┆ 0.0       ┆ -2        ┆ 0         ┆ -2.0     │\n",
       "│ 1773670   ┆ 424890    ┆ -2        ┆ 228528.67 ┆ … ┆ 0.999996  ┆ -2        ┆ 0         ┆ -2.0     │\n",
       "│           ┆           ┆           ┆ 1875      ┆   ┆           ┆           ┆           ┆          │\n",
       "│ 1551072   ┆ 403596    ┆ -1        ┆ 0.0       ┆ … ┆ 0.0       ┆ -1        ┆ 0         ┆ -1.0     │\n",
       "└───────────┴───────────┴───────────┴───────────┴───┴───────────┴───────────┴───────────┴──────────┘"
      ]
     },
     "execution_count": 39,
     "metadata": {},
     "output_type": "execute_result"
    }
   ],
   "source": [
    "card_agg_initial = card.group_by([\"SK_ID_PREV\", \"SK_ID_CURR\"]).agg(\n",
    "    cs.exclude([\"SK_ID_PREV\", \"SK_ID_CURR\"])\n",
    "    .filter(c.MONTHS_BALANCE == c.MONTHS_BALANCE.max())\n",
    "    .first()\n",
    "    .name.suffix(\"_LAST\"),\n",
    "    cs.contains([\"SK_DPD\", \"CNT_\", \"AMT_\"]).max().name.suffix(\"_MAX\"),\n",
    "    cs.contains([\"SK_DPD\", \"CNT_\", \"AMT_\"]).sum().name.suffix(\"_SUM\"),\n",
    "    cs.contains([\"SK_DPD\", \"CNT_\", \"AMT_\"]).mean().round().name.suffix(\"_AVG\"),\n",
    "    cs.contains([\"SK_DPD\", \"CNT_\", \"AMT_\"]).median().name.suffix(\"_MEDIAN\"),\n",
    "    cs.contains(\"_RATIO\").max().name.suffix(\"_MAX\"),\n",
    "    cs.contains(\"_RATIO\").min().name.suffix(\"_MIN\"),\n",
    "    cs.contains(\"_RATIO\").mean().name.suffix(\"_AVG\"),\n",
    "    cs.contains(\"_RATIO\").median().name.suffix(\"_MEDIAN\"),\n",
    "    MONTHS_BALANCE_FIRST=c.MONTHS_BALANCE.min(),\n",
    "    MONTHS_BALANCE_DURATION=c.MONTHS_BALANCE.max() - c.MONTHS_BALANCE.min(),\n",
    "    MONTHS_BALANCE_MEDIAN=c.MONTHS_BALANCE.median(),\n",
    ")\n",
    "card_agg_initial"
   ]
  },
  {
   "cell_type": "markdown",
   "metadata": {},
   "source": [
    "Again, function is written to apply aggregations over different groups of data."
   ]
  },
  {
   "cell_type": "code",
   "execution_count": 40,
   "metadata": {},
   "outputs": [],
   "source": [
    "def card_aggregations_func(\n",
    "    df: pl.DataFrame, suffix: str = \"\", left_df: pl.DataFrame = None\n",
    ") -> pl.DataFrame:\n",
    "    \"\"\"Function to aggregate credit card balance data and optionally add\n",
    "    suffix to new columns or join with other dataframe.\"\"\"\n",
    "    agg_df = df.group_by(\"SK_ID_CURR\").agg(\n",
    "        cs.contains([\"MONTHS_\", \"CNT_\", \"SK_DPD_\"])\n",
    "        .mean()\n",
    "        .round()\n",
    "        .name.suffix(\"_AVG\"),\n",
    "        cs.contains([\"AMT_\", \"_RATIO\"]).mean().name.suffix(\"_AVG\"),\n",
    "        (cs.all() - cs.contains([\"SK_ID_\", \"NAME_\"]))\n",
    "        .median()\n",
    "        .name.suffix(\"_MEDIAN\"),\n",
    "        (cs.all() - cs.contains([\"SK_ID_\", \"NAME_\"]))\n",
    "        .max()\n",
    "        .name.suffix(\"_MAX\"),\n",
    "        (cs.all() - cs.contains([\"SK_ID_\", \"NAME_\"]))\n",
    "        .min()\n",
    "        .name.suffix(\"_MIN\"),\n",
    "        CNT=c.SK_ID_CURR.count(),\n",
    "    )\n",
    "    agg_df = agg_df.rename(\n",
    "        lambda col: col + suffix if col != \"SK_ID_CURR\" else col\n",
    "    )\n",
    "    if left_df is not None:\n",
    "        agg_df = left_df.join(other=agg_df, on=\"SK_ID_CURR\", how=\"left\")\n",
    "    return agg_df"
   ]
  },
  {
   "cell_type": "markdown",
   "metadata": {},
   "source": [
    "These aggregations are applied over the whole dataset and also only on the information from the last two years, last two months."
   ]
  },
  {
   "cell_type": "code",
   "execution_count": 41,
   "metadata": {},
   "outputs": [],
   "source": [
    "card_agg = card_aggregations_func(card_agg_initial, \"_ALL\")\n",
    "card_agg = card_agg_initial.filter(\n",
    "    c.NAME_CONTRACT_STATUS_LAST == \"Active\"\n",
    ").pipe(card_aggregations_func, \"ACTIVE\", card_agg)\n",
    "card_agg = card.filter(c.MONTHS_BALANCE >= -24).pipe(\n",
    "    card_aggregations_func, \"_2YRS\", card_agg\n",
    ")\n",
    "card_agg = card.filter(c.MONTHS_BALANCE >= -2).pipe(\n",
    "    card_aggregations_func, \"_2MTHS\", card_agg\n",
    ")"
   ]
  },
  {
   "cell_type": "markdown",
   "metadata": {},
   "source": [
    "To enable initial removal of multicollinear and unimportant features, missing values are simply filled with 0."
   ]
  },
  {
   "cell_type": "code",
   "execution_count": 42,
   "metadata": {},
   "outputs": [],
   "source": [
    "card_agg_filled = (\n",
    "    card_agg.filter(c.SK_ID_CURR.is_in(idx_train))\n",
    "    .fill_null(value=0)\n",
    "    .fill_nan(value=0)\n",
    "    .join(**appls_join)\n",
    "    .to_pandas()\n",
    ")\n",
    "X_card = card_agg_filled.drop(columns=[\"TARGET\", \"SK_ID_CURR\"])\n",
    "y_card = card_agg_filled[\"TARGET\"]"
   ]
  },
  {
   "cell_type": "code",
   "execution_count": 43,
   "metadata": {},
   "outputs": [
    {
     "name": "stdout",
     "output_type": "stream",
     "text": [
      "Number of quasi-constant and multicollinear aggregated features to drop: 1159\n"
     ]
    }
   ],
   "source": [
    "drop_corr_card = get_drop_multicollinear(\n",
    "    X_card, y_card, \"drop_corr_card\", refit=False\n",
    ")\n",
    "X_card = X_card.drop(columns=drop_corr_card)"
   ]
  },
  {
   "cell_type": "code",
   "execution_count": 44,
   "metadata": {},
   "outputs": [
    {
     "name": "stdout",
     "output_type": "stream",
     "text": [
      "Number of unimportant aggregated features to drop using Boruta: 50\n",
      "Number of selected features: 81\n"
     ]
    }
   ],
   "source": [
    "drop_boruta_card = get_drop_by_boruta(\n",
    "    X_card, y_card, \"drop_boruta_card\", refit=False\n",
    ")\n",
    "X_card = X_card.drop(columns=drop_boruta_card)\n",
    "card_col_num = X_card.shape[1]\n",
    "print(f\"Number of selected features: {card_col_num}\")"
   ]
  },
  {
   "cell_type": "markdown",
   "metadata": {},
   "source": [
    "Finally, 81 aggregated feature for credit card balance data is saved for later use. Note, that missing values are not imputed with 0 in the saved table."
   ]
  },
  {
   "cell_type": "code",
   "execution_count": 45,
   "metadata": {},
   "outputs": [],
   "source": [
    "card_agg.drop(drop_corr_card + drop_boruta_card).write_csv(\n",
    "    \"./data_agg/card_agg.csv\"\n",
    ")"
   ]
  },
  {
   "cell_type": "code",
   "execution_count": 46,
   "metadata": {},
   "outputs": [],
   "source": [
    "del (\n",
    "    card,\n",
    "    card_agg,\n",
    "    card_agg_initial,\n",
    "    card_agg_filled,\n",
    "    X_card,\n",
    "    y_card,\n",
    ")"
   ]
  },
  {
   "cell_type": "markdown",
   "metadata": {},
   "source": [
    "### 3.6. <a id='toc3_6_'></a>Installments on Previous Loans from Home Credit  [&#8593;](#toc0_)"
   ]
  },
  {
   "cell_type": "markdown",
   "metadata": {},
   "source": [
    "A few missing values are imputed with 0 to enable feature engineering. First some relative features are created."
   ]
  },
  {
   "cell_type": "code",
   "execution_count": 47,
   "metadata": {},
   "outputs": [
    {
     "name": "stdout",
     "output_type": "stream",
     "text": [
      "Size before cleaning: 832.03 MB\n",
      "Size after cleaning: 832.03 MB\n",
      "Number of columns left: 8\n",
      "Size before memory reduction: 832.03 MB\n",
      "Initial data types Counter({Int64: 6, Float64: 2})\n",
      "Size after memory reduction: 338.98 MB\n",
      "Final data types Counter({Int32: 3, Int16: 3, Float32: 2})\n"
     ]
    },
    {
     "data": {
      "text/html": [
       "<div><style>\n",
       ".dataframe > thead > tr,\n",
       ".dataframe > tbody > tr {\n",
       "  text-align: right;\n",
       "  white-space: pre-wrap;\n",
       "}\n",
       "</style>\n",
       "<small>shape: (5, 11)</small><table border=\"1\" class=\"dataframe\"><thead><tr><th>SK_ID_PREV</th><th>SK_ID_CURR</th><th>NUM_INSTALMENT_VERSION</th><th>NUM_INSTALMENT_NUMBER</th><th>DAYS_INSTALMENT</th><th>DAYS_ENTRY_PAYMENT</th><th>AMT_INSTALMENT</th><th>AMT_PAYMENT</th><th>DAYS_LATE</th><th>PAYMENT_INSTALMENT_DIFF</th><th>PAYMENT_INSTALMENT_RATIO</th></tr><tr><td>i32</td><td>i32</td><td>i16</td><td>i16</td><td>i16</td><td>i32</td><td>f32</td><td>f32</td><td>i32</td><td>f32</td><td>f64</td></tr></thead><tbody><tr><td>1054186</td><td>161674</td><td>1</td><td>6</td><td>-1180</td><td>-1187</td><td>6948.359863</td><td>6948.359863</td><td>7</td><td>0.0</td><td>0.999856</td></tr><tr><td>1330831</td><td>151639</td><td>0</td><td>34</td><td>-2156</td><td>-2156</td><td>1716.525024</td><td>1716.525024</td><td>0</td><td>0.0</td><td>0.999418</td></tr><tr><td>2085231</td><td>193053</td><td>2</td><td>1</td><td>-63</td><td>-63</td><td>25425.0</td><td>25425.0</td><td>0</td><td>0.0</td><td>0.999961</td></tr><tr><td>2452527</td><td>199697</td><td>1</td><td>3</td><td>-2418</td><td>-2426</td><td>24350.130859</td><td>24350.130859</td><td>8</td><td>0.0</td><td>0.999959</td></tr><tr><td>2714724</td><td>167756</td><td>1</td><td>2</td><td>-1383</td><td>-1366</td><td>2165.040039</td><td>2160.584961</td><td>-17</td><td>-4.455078</td><td>0.997482</td></tr></tbody></table></div>"
      ],
      "text/plain": [
       "shape: (5, 11)\n",
       "┌───────────┬───────────┬───────────┬───────────┬───┬───────────┬───────────┬───────────┬──────────┐\n",
       "│ SK_ID_PRE ┆ SK_ID_CUR ┆ NUM_INSTA ┆ NUM_INSTA ┆ … ┆ AMT_PAYME ┆ DAYS_LATE ┆ PAYMENT_I ┆ PAYMENT_ │\n",
       "│ V         ┆ R         ┆ LMENT_VER ┆ LMENT_NUM ┆   ┆ NT        ┆ ---       ┆ NSTALMENT ┆ INSTALME │\n",
       "│ ---       ┆ ---       ┆ SION      ┆ BER       ┆   ┆ ---       ┆ i32       ┆ _DIFF     ┆ NT_RATIO │\n",
       "│ i32       ┆ i32       ┆ ---       ┆ ---       ┆   ┆ f32       ┆           ┆ ---       ┆ ---      │\n",
       "│           ┆           ┆ i16       ┆ i16       ┆   ┆           ┆           ┆ f32       ┆ f64      │\n",
       "╞═══════════╪═══════════╪═══════════╪═══════════╪═══╪═══════════╪═══════════╪═══════════╪══════════╡\n",
       "│ 1054186   ┆ 161674    ┆ 1         ┆ 6         ┆ … ┆ 6948.3598 ┆ 7         ┆ 0.0       ┆ 0.999856 │\n",
       "│           ┆           ┆           ┆           ┆   ┆ 63        ┆           ┆           ┆          │\n",
       "│ 1330831   ┆ 151639    ┆ 0         ┆ 34        ┆ … ┆ 1716.5250 ┆ 0         ┆ 0.0       ┆ 0.999418 │\n",
       "│           ┆           ┆           ┆           ┆   ┆ 24        ┆           ┆           ┆          │\n",
       "│ 2085231   ┆ 193053    ┆ 2         ┆ 1         ┆ … ┆ 25425.0   ┆ 0         ┆ 0.0       ┆ 0.999961 │\n",
       "│ 2452527   ┆ 199697    ┆ 1         ┆ 3         ┆ … ┆ 24350.130 ┆ 8         ┆ 0.0       ┆ 0.999959 │\n",
       "│           ┆           ┆           ┆           ┆   ┆ 859       ┆           ┆           ┆          │\n",
       "│ 2714724   ┆ 167756    ┆ 1         ┆ 2         ┆ … ┆ 2160.5849 ┆ -17       ┆ -4.455078 ┆ 0.997482 │\n",
       "│           ┆           ┆           ┆           ┆   ┆ 61        ┆           ┆           ┆          │\n",
       "└───────────┴───────────┴───────────┴───────────┴───┴───────────┴───────────┴───────────┴──────────┘"
      ]
     },
     "execution_count": 47,
     "metadata": {},
     "output_type": "execute_result"
    }
   ],
   "source": [
    "inst = (\n",
    "    pl.read_csv(\"./data/installments_payments.csv\")\n",
    "    .pipe(credit_data_utils.initial_pos_cash_credit_card_installments_cleaning)\n",
    "    .pipe(credit_data_utils.reduce_memory_usage_pl)\n",
    ")\n",
    "inst = inst.fill_null(0).with_columns(\n",
    "    DAYS_LATE=c.DAYS_INSTALMENT - c.DAYS_ENTRY_PAYMENT,\n",
    "    PAYMENT_INSTALMENT_DIFF=c.AMT_PAYMENT - c.AMT_INSTALMENT,\n",
    "    PAYMENT_INSTALMENT_RATIO=c.AMT_PAYMENT / (c.AMT_INSTALMENT + 1),\n",
    ")\n",
    "inst.head()"
   ]
  },
  {
   "cell_type": "markdown",
   "metadata": {},
   "source": [
    "Initially, some aggregations are done on installments for individual loans to have information on mean, median, sum, last, minimum or maximum values."
   ]
  },
  {
   "cell_type": "code",
   "execution_count": 48,
   "metadata": {},
   "outputs": [
    {
     "data": {
      "text/html": [
       "<div><style>\n",
       ".dataframe > thead > tr,\n",
       ".dataframe > tbody > tr {\n",
       "  text-align: right;\n",
       "  white-space: pre-wrap;\n",
       "}\n",
       "</style>\n",
       "<small>shape: (5, 42)</small><table border=\"1\" class=\"dataframe\"><thead><tr><th>SK_ID_PREV</th><th>SK_ID_CURR</th><th>NUM_INSTALMENT_VERSION_LAST</th><th>NUM_INSTALMENT_NUMBER_LAST</th><th>DAYS_INSTALMENT_LAST</th><th>DAYS_ENTRY_PAYMENT_LAST</th><th>AMT_INSTALMENT_LAST</th><th>AMT_PAYMENT_LAST</th><th>DAYS_LATE_LAST</th><th>PAYMENT_INSTALMENT_DIFF_LAST</th><th>PAYMENT_INSTALMENT_RATIO_LAST</th><th>DAYS_INSTALMENT_FIRST</th><th>DAYS_ENTRY_PAYMENT_FIRST</th><th>DAYS_LATE_FIRST</th><th>AMT_INSTALMENT_MAX</th><th>AMT_PAYMENT_MAX</th><th>DAYS_LATE_MAX</th><th>PAYMENT_INSTALMENT_DIFF_MAX</th><th>PAYMENT_INSTALMENT_RATIO_MAX</th><th>AMT_INSTALMENT_MIN</th><th>AMT_PAYMENT_MIN</th><th>DAYS_LATE_MIN</th><th>PAYMENT_INSTALMENT_DIFF_MIN</th><th>PAYMENT_INSTALMENT_RATIO_MIN</th><th>AMT_INSTALMENT_MEDIAN</th><th>AMT_PAYMENT_MEDIAN</th><th>DAYS_LATE_MEDIAN</th><th>PAYMENT_INSTALMENT_DIFF_MEDIAN</th><th>PAYMENT_INSTALMENT_RATIO_MEDIAN</th><th>AMT_INSTALMENT_AVG</th><th>AMT_PAYMENT_AVG</th><th>PAYMENT_INSTALMENT_DIFF_AVG</th><th>PAYMENT_INSTALMENT_RATIO_AVG</th><th>AMT_INSTALMENT_SUM</th><th>AMT_PAYMENT_SUM</th><th>DAYS_LATE_SUM</th><th>PAYMENT_INSTALMENT_DIFF_SUM</th><th>DAYS_LATE_AVG</th><th>DAYS_INSTALMENT_DURATION</th><th>DAYS_ENTRY_PAYMENT_DURATION</th><th>DAYS_INSTALMENT_MEDIAN</th><th>DAYS_ENTRY_PAYMENT_MEDIAN</th></tr><tr><td>i32</td><td>i32</td><td>i16</td><td>i16</td><td>i16</td><td>i32</td><td>f32</td><td>f32</td><td>i32</td><td>f32</td><td>f64</td><td>i16</td><td>i32</td><td>i32</td><td>f32</td><td>f32</td><td>i32</td><td>f32</td><td>f64</td><td>f32</td><td>f32</td><td>i32</td><td>f32</td><td>f64</td><td>f32</td><td>f32</td><td>f64</td><td>f32</td><td>f64</td><td>f32</td><td>f32</td><td>f32</td><td>f64</td><td>f32</td><td>f32</td><td>i32</td><td>f32</td><td>f64</td><td>i16</td><td>i32</td><td>f64</td><td>f64</td></tr></thead><tbody><tr><td>1137312</td><td>164489</td><td>2</td><td>15</td><td>-1294</td><td>-1315</td><td>57861.179688</td><td>57861.179688</td><td>21</td><td>0.0</td><td>0.999983</td><td>-1714</td><td>-1744</td><td>30</td><td>57861.179688</td><td>57861.179688</td><td>33</td><td>0.0</td><td>0.999983</td><td>5970.375</td><td>5970.375</td><td>9</td><td>0.0</td><td>0.999833</td><td>5970.375</td><td>5970.375</td><td>21.0</td><td>0.0</td><td>0.999833</td><td>9429.762695</td><td>9429.762695</td><td>0.0</td><td>0.999843</td><td>141446.4375</td><td>141446.4375</td><td>325</td><td>0.0</td><td>22.0</td><td>420</td><td>429</td><td>-1504.0</td><td>-1534.0</td></tr><tr><td>1053286</td><td>170192</td><td>2</td><td>23</td><td>-20</td><td>-20</td><td>13536.450195</td><td>13536.450195</td><td>0</td><td>0.0</td><td>0.999926</td><td>-680</td><td>-699</td><td>19</td><td>13536.450195</td><td>13536.450195</td><td>34</td><td>0.0</td><td>0.999926</td><td>6882.839844</td><td>77.400002</td><td>-6</td><td>-6805.439941</td><td>0.011244</td><td>6882.839844</td><td>6882.839844</td><td>2.5</td><td>0.0</td><td>0.999855</td><td>7120.47168</td><td>5891.390625</td><td>-1229.078491</td><td>0.821312</td><td>199373.203125</td><td>164958.9375</td><td>185</td><td>-34414.199219</td><td>7.0</td><td>660</td><td>679</td><td>-335.0</td><td>-335.5</td></tr><tr><td>2702769</td><td>102122</td><td>2</td><td>8</td><td>-71</td><td>-72</td><td>14682.959961</td><td>14682.959961</td><td>1</td><td>0.0</td><td>0.999932</td><td>-281</td><td>-286</td><td>5</td><td>14682.959961</td><td>14682.959961</td><td>30</td><td>0.0</td><td>0.999932</td><td>5178.194824</td><td>5178.194824</td><td>0</td><td>0.0</td><td>0.999807</td><td>5178.194824</td><td>5178.194824</td><td>4.0</td><td>0.0</td><td>0.999807</td><td>6366.290527</td><td>6366.290527</td><td>0.0</td><td>0.999823</td><td>50930.324219</td><td>50930.324219</td><td>96</td><td>0.0</td><td>12.0</td><td>210</td><td>214</td><td>-176.0</td><td>-191.0</td></tr><tr><td>1840786</td><td>175114</td><td>1</td><td>12</td><td>-446</td><td>-453</td><td>21039.570312</td><td>21039.570312</td><td>7</td><td>0.0</td><td>0.999952</td><td>-776</td><td>-778</td><td>2</td><td>21179.699219</td><td>21179.699219</td><td>38</td><td>0.0</td><td>0.999953</td><td>21039.570312</td><td>1.8</td><td>-3</td><td>-21177.898438</td><td>0.000085</td><td>21179.699219</td><td>21174.300781</td><td>2.0</td><td>-0.899414</td><td>0.99991</td><td>21170.941406</td><td>15876.018555</td><td>-5294.924805</td><td>0.749965</td><td>338735.0625</td><td>254016.296875</td><td>139</td><td>-84718.796875</td><td>9.0</td><td>330</td><td>325</td><td>-611.0</td><td>-609.0</td></tr><tr><td>2671380</td><td>111601</td><td>1</td><td>10</td><td>-450</td><td>-457</td><td>8102.024902</td><td>8102.024902</td><td>7</td><td>0.0</td><td>0.999877</td><td>-720</td><td>-736</td><td>16</td><td>8109.765137</td><td>8109.765137</td><td>18</td><td>0.0</td><td>0.999877</td><td>8102.024902</td><td>8102.024902</td><td>7</td><td>0.0</td><td>0.999877</td><td>8109.765137</td><td>8109.765137</td><td>12.0</td><td>0.0</td><td>0.999877</td><td>8108.991211</td><td>8108.991211</td><td>0.0</td><td>0.999877</td><td>81089.914062</td><td>81089.914062</td><td>120</td><td>0.0</td><td>12.0</td><td>270</td><td>279</td><td>-585.0</td><td>-596.0</td></tr></tbody></table></div>"
      ],
      "text/plain": [
       "shape: (5, 42)\n",
       "┌───────────┬───────────┬───────────┬───────────┬───┬───────────┬───────────┬───────────┬──────────┐\n",
       "│ SK_ID_PRE ┆ SK_ID_CUR ┆ NUM_INSTA ┆ NUM_INSTA ┆ … ┆ DAYS_INST ┆ DAYS_ENTR ┆ DAYS_INST ┆ DAYS_ENT │\n",
       "│ V         ┆ R         ┆ LMENT_VER ┆ LMENT_NUM ┆   ┆ ALMENT_DU ┆ Y_PAYMENT ┆ ALMENT_ME ┆ RY_PAYME │\n",
       "│ ---       ┆ ---       ┆ SION_LAST ┆ BER_LAST  ┆   ┆ RATION    ┆ _DURATION ┆ DIAN      ┆ NT_MEDIA │\n",
       "│ i32       ┆ i32       ┆ ---       ┆ ---       ┆   ┆ ---       ┆ ---       ┆ ---       ┆ N        │\n",
       "│           ┆           ┆ i16       ┆ i16       ┆   ┆ i16       ┆ i32       ┆ f64       ┆ ---      │\n",
       "│           ┆           ┆           ┆           ┆   ┆           ┆           ┆           ┆ f64      │\n",
       "╞═══════════╪═══════════╪═══════════╪═══════════╪═══╪═══════════╪═══════════╪═══════════╪══════════╡\n",
       "│ 1137312   ┆ 164489    ┆ 2         ┆ 15        ┆ … ┆ 420       ┆ 429       ┆ -1504.0   ┆ -1534.0  │\n",
       "│ 1053286   ┆ 170192    ┆ 2         ┆ 23        ┆ … ┆ 660       ┆ 679       ┆ -335.0    ┆ -335.5   │\n",
       "│ 2702769   ┆ 102122    ┆ 2         ┆ 8         ┆ … ┆ 210       ┆ 214       ┆ -176.0    ┆ -191.0   │\n",
       "│ 1840786   ┆ 175114    ┆ 1         ┆ 12        ┆ … ┆ 330       ┆ 325       ┆ -611.0    ┆ -609.0   │\n",
       "│ 2671380   ┆ 111601    ┆ 1         ┆ 10        ┆ … ┆ 270       ┆ 279       ┆ -585.0    ┆ -596.0   │\n",
       "└───────────┴───────────┴───────────┴───────────┴───┴───────────┴───────────┴───────────┴──────────┘"
      ]
     },
     "execution_count": 48,
     "metadata": {},
     "output_type": "execute_result"
    }
   ],
   "source": [
    "inst_agg_initial = inst.group_by([\"SK_ID_PREV\", \"SK_ID_CURR\"]).agg(\n",
    "    cs.exclude([\"SK_ID_PREV\", \"SK_ID_CURR\"])\n",
    "    .filter(c.DAYS_INSTALMENT == c.DAYS_INSTALMENT.max())\n",
    "    .first()\n",
    "    .name.suffix(\"_LAST\"),\n",
    "    cs.contains([\"DAYS_\"])\n",
    "    .filter(c.DAYS_INSTALMENT == c.DAYS_INSTALMENT.min())\n",
    "    .first()\n",
    "    .name.suffix(\"_FIRST\"),\n",
    "    cs.contains([\"AMT_\", \"DAYS_LATE\", \"_DIFF\", \"_RATIO\"])\n",
    "    .max()\n",
    "    .name.suffix(\"_MAX\"),\n",
    "    cs.contains([\"AMT_\", \"DAYS_LATE\", \"_DIFF\", \"_RATIO\"])\n",
    "    .min()\n",
    "    .name.suffix(\"_MIN\"),\n",
    "    cs.contains([\"AMT_\", \"DAYS_LATE\", \"_DIFF\", \"_RATIO\"])\n",
    "    .median()\n",
    "    .name.suffix(\"_MEDIAN\"),\n",
    "    cs.contains([\"AMT_\", \"_DIFF\", \"_RATIO\"]).mean().name.suffix(\"_AVG\"),\n",
    "    cs.contains([\"AMT_\", \"DAYS_LATE\", \"_DIFF\"]).sum().name.suffix(\"_SUM\"),\n",
    "    DAYS_LATE_AVG=c.DAYS_LATE.mean().round(),\n",
    "    DAYS_INSTALMENT_DURATION=c.DAYS_INSTALMENT.max() - c.DAYS_INSTALMENT.min(),\n",
    "    DAYS_ENTRY_PAYMENT_DURATION=c.DAYS_ENTRY_PAYMENT.max()\n",
    "    - c.DAYS_ENTRY_PAYMENT.min(),\n",
    "    DAYS_INSTALMENT_MEDIAN=c.DAYS_INSTALMENT.median(),\n",
    "    DAYS_ENTRY_PAYMENT_MEDIAN=c.DAYS_ENTRY_PAYMENT.median(),\n",
    ")\n",
    "inst_agg_initial.head()"
   ]
  },
  {
   "cell_type": "markdown",
   "metadata": {},
   "source": [
    "Again, function is written to apply aggregations over different groups of data."
   ]
  },
  {
   "cell_type": "code",
   "execution_count": 49,
   "metadata": {},
   "outputs": [],
   "source": [
    "def inst_aggregations_func(\n",
    "    df: pl.DataFrame, suffix: str = \"\", left_df: pl.DataFrame = None\n",
    ") -> pl.DataFrame:\n",
    "    \"\"\"Function to aggregate installments payments data and optionally add\n",
    "    suffix to new columns or join with other dataframe.\"\"\"\n",
    "    agg_df = df.group_by(\"SK_ID_CURR\").agg(\n",
    "        cs.contains([\"DAYS_\"]).mean().round().name.suffix(\"_AVG\"),\n",
    "        cs.contains([\"AMT_\", \"_DIFF\", \"_RATIO\"]).mean().name.suffix(\"_AVG\"),\n",
    "        cs.contains([\"AMT_\", \"_DIFF\", \"_RATIO\", \"DAYS_\"])\n",
    "        .median()\n",
    "        .name.suffix(\"_MEDIAN\"),\n",
    "        cs.contains([\"AMT_\", \"_DIFF\", \"_RATIO\", \"DAYS_\"])\n",
    "        .max()\n",
    "        .name.suffix(\"_MAX\"),\n",
    "        cs.contains([\"AMT_\", \"_DIFF\", \"_RATIO\", \"DAYS_\"])\n",
    "        .min()\n",
    "        .name.suffix(\"_MIN\"),\n",
    "        cs.contains([\"AMT_\", \"_DIFF\", \"DAYS_LATE\"]).sum().name.suffix(\"_SUM\"),\n",
    "        CNT=c.SK_ID_CURR.count(),\n",
    "    )\n",
    "    agg_df = agg_df.rename(\n",
    "        lambda col: col + suffix if col != \"SK_ID_CURR\" else col\n",
    "    )\n",
    "    if left_df is not None:\n",
    "        agg_df = left_df.join(other=agg_df, on=\"SK_ID_CURR\", how=\"left\")\n",
    "    return agg_df"
   ]
  },
  {
   "cell_type": "markdown",
   "metadata": {},
   "source": [
    "These aggregations are applied over the whole dataset, only credit card installments, only non-credit card installments, only on the installments from the last one and two years."
   ]
  },
  {
   "cell_type": "code",
   "execution_count": 50,
   "metadata": {},
   "outputs": [],
   "source": [
    "inst_agg = inst_aggregations_func(inst_agg_initial, \"_ALL\")\n",
    "inst_agg = inst_agg_initial.filter(c.NUM_INSTALMENT_VERSION_LAST == 0).pipe(\n",
    "    inst_aggregations_func, \"_CARD\", inst_agg\n",
    ")\n",
    "inst_agg = inst_agg_initial.filter(c.NUM_INSTALMENT_VERSION_LAST != 0).pipe(\n",
    "    inst_aggregations_func, \"_NONCARD\", inst_agg\n",
    ")\n",
    "inst_agg = inst.filter(c.DAYS_ENTRY_PAYMENT >= -365).pipe(\n",
    "    inst_aggregations_func, \"_1YR\", inst_agg\n",
    ")\n",
    "inst_agg = inst.filter(c.DAYS_ENTRY_PAYMENT >= (-365 * 2)).pipe(\n",
    "    inst_aggregations_func, \"_2YRS\", inst_agg\n",
    ")"
   ]
  },
  {
   "cell_type": "markdown",
   "metadata": {},
   "source": [
    "To enable initial removal of multicollinear and unimportant features, missing values are simply filled with 0."
   ]
  },
  {
   "cell_type": "code",
   "execution_count": 51,
   "metadata": {},
   "outputs": [],
   "source": [
    "inst_agg_filled = (\n",
    "    inst_agg.filter(c.SK_ID_CURR.is_in(idx_train))\n",
    "    .fill_null(value=0)\n",
    "    .fill_nan(value=0)\n",
    "    .join(**appls_join)\n",
    "    .to_pandas()\n",
    ")\n",
    "X_inst = inst_agg_filled.drop(columns=[\"TARGET\", \"SK_ID_CURR\"])\n",
    "y_inst = inst_agg_filled[\"TARGET\"]"
   ]
  },
  {
   "cell_type": "code",
   "execution_count": 52,
   "metadata": {},
   "outputs": [
    {
     "name": "stdout",
     "output_type": "stream",
     "text": [
      "Number of quasi-constant and multicollinear aggregated features to drop: 410\n"
     ]
    }
   ],
   "source": [
    "drop_corr_inst = get_drop_multicollinear(\n",
    "    X_inst, y_inst, \"drop_corr_inst\", refit=False\n",
    ")\n",
    "X_inst = X_inst.drop(columns=drop_corr_inst)"
   ]
  },
  {
   "cell_type": "code",
   "execution_count": 53,
   "metadata": {},
   "outputs": [
    {
     "name": "stdout",
     "output_type": "stream",
     "text": [
      "Number of unimportant aggregated features to drop using Boruta: 26\n",
      "Number of selected features: 164\n"
     ]
    }
   ],
   "source": [
    "drop_boruta_inst = get_drop_by_boruta(\n",
    "    X_inst, y_inst, \"drop_boruta_inst\", refit=False\n",
    ")\n",
    "X_inst = X_inst.drop(columns=drop_boruta_inst)\n",
    "inst_col_num = X_inst.shape[1]\n",
    "print(f\"Number of selected features: {inst_col_num}\")"
   ]
  },
  {
   "cell_type": "markdown",
   "metadata": {},
   "source": [
    "Finally, 164 aggregated features for installment data are saved for later use. Note, that missing values are not imputed with 0 in the saved table."
   ]
  },
  {
   "cell_type": "code",
   "execution_count": 54,
   "metadata": {},
   "outputs": [],
   "source": [
    "inst_agg.drop(drop_corr_inst + drop_boruta_inst).write_csv(\n",
    "    \"./data_agg/inst_agg.csv\"\n",
    ")"
   ]
  },
  {
   "cell_type": "code",
   "execution_count": 55,
   "metadata": {},
   "outputs": [],
   "source": [
    "del (\n",
    "    inst,\n",
    "    inst_agg,\n",
    "    inst_agg_initial,\n",
    "    inst_agg_filled,\n",
    "    X_inst,\n",
    "    y_inst,\n",
    ")"
   ]
  },
  {
   "cell_type": "markdown",
   "metadata": {},
   "source": [
    "### 3.7. <a id='toc3_7_'></a>Summary on Feature Engineering [&#8593;](#toc0_)"
   ]
  },
  {
   "cell_type": "markdown",
   "metadata": {},
   "source": [
    "1. A total of 38 features (original and engineered) from the main home credit application table will be further used in modeling. Among them, the mean of the target value of the 500 closest neighbors based on external sources and the credit-annuity ratio will be included.\n",
    "2. A total of 109 engineered features from the tables on previous credits and their balances from other institutions will be further used in modeling. Aggregations here were applied not only to the whole table but also separately to active and closed credits, as well as to card and consumer credits.\n",
    "3. A total of 271 engineered features describing the previous applications for Home Credit loans will be further used in modeling. Aggregations here were applied not only to the whole table but also separately for applications of different statuses and types.\n",
    "4. A total of 77 engineered features describing the balance of previous point-of-sales and cash loans from Home Credit will be further used in modeling. Aggregations were applied to the whole table, to active loans only, and to the last two years.\n",
    "5. A total of 81 engineered features describing the balance of previous credit cards from Home Credit will be further used in modeling. Aggregations were applied to all credit cards, only to active credit cards, and only to the last two years and the last two months.\n",
    "6. A total of 164 engineered features describing installments on previous loans from Home Credit will be further used in modeling. Aggregations were applied to the whole table, only to credit card installments, non-credit card installments, and to the installments from the last one year and the last two years."
   ]
  }
 ],
 "metadata": {
  "kernelspec": {
   "display_name": ".venv",
   "language": "python",
   "name": "python3"
  },
  "language_info": {
   "codemirror_mode": {
    "name": "ipython",
    "version": 3
   },
   "file_extension": ".py",
   "mimetype": "text/x-python",
   "name": "python",
   "nbconvert_exporter": "python",
   "pygments_lexer": "ipython3",
   "version": "3.11.2"
  }
 },
 "nbformat": 4,
 "nbformat_minor": 2
}
